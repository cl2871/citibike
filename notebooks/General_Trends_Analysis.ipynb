{
 "cells": [
  {
   "cell_type": "markdown",
   "metadata": {},
   "source": [
    "# General Trends Analysis\n",
    "\n",
    "Within this notebook, I conduct a simple analysis of trends within the Citibike trip data based on the starttime variable of a Citibike trip. In particular, I look at monthly trends and trips broken down by hours of a day.\n",
    "\n",
    "### Import Necessary Packages"
   ]
  },
  {
   "cell_type": "code",
   "execution_count": 1,
   "metadata": {
    "collapsed": true
   },
   "outputs": [],
   "source": [
    "import pandas as pd\n",
    "import seaborn as sns\n",
    "import matplotlib.pyplot as plt\n",
    "import numpy as np\n",
    "from pandas.io import gbq\n",
    "import os\n",
    "%matplotlib inline"
   ]
  },
  {
   "cell_type": "code",
   "execution_count": 2,
   "metadata": {
    "collapsed": true
   },
   "outputs": [],
   "source": [
    "project_id = os.environ['project_id']"
   ]
  },
  {
   "cell_type": "markdown",
   "metadata": {},
   "source": [
    "### Monthly Trips Query\n",
    "\n",
    "In the following query, Citibike trips are aggregated by the month and year of their starttime value. In addition, the total number of trips (num_trip) and average trip duration (avg_trip) by month and year are computed."
   ]
  },
  {
   "cell_type": "code",
   "execution_count": 3,
   "metadata": {
    "collapsed": false,
    "scrolled": false
   },
   "outputs": [
    {
     "name": "stdout",
     "output_type": "stream",
     "text": [
      "Requesting query... ok.\n",
      "Job ID: 273c8fd1-9bc2-4364-8275-51352fb780a4\n",
      "Query running...\n",
      "Query done.\n",
      "Processed: 821.9 MB Billed: 822.0 MB\n",
      "Standard price: $0.00 USD\n",
      "\n",
      "Retrieving results...\n",
      "Got 54 rows.\n",
      "\n",
      "Total time taken 3.05 s.\n",
      "Finished at 2018-03-26 01:35:54.\n"
     ]
    },
    {
     "data": {
      "text/html": [
       "<div>\n",
       "<style scoped>\n",
       "    .dataframe tbody tr th:only-of-type {\n",
       "        vertical-align: middle;\n",
       "    }\n",
       "\n",
       "    .dataframe tbody tr th {\n",
       "        vertical-align: top;\n",
       "    }\n",
       "\n",
       "    .dataframe thead th {\n",
       "        text-align: right;\n",
       "    }\n",
       "</style>\n",
       "<table border=\"1\" class=\"dataframe\">\n",
       "  <thead>\n",
       "    <tr style=\"text-align: right;\">\n",
       "      <th></th>\n",
       "      <th>trip_month</th>\n",
       "      <th>trip_year</th>\n",
       "      <th>num_trip</th>\n",
       "      <th>avg_trip</th>\n",
       "    </tr>\n",
       "  </thead>\n",
       "  <tbody>\n",
       "    <tr>\n",
       "      <th>0</th>\n",
       "      <td>7</td>\n",
       "      <td>2013</td>\n",
       "      <td>843416</td>\n",
       "      <td>998.100704</td>\n",
       "    </tr>\n",
       "    <tr>\n",
       "      <th>1</th>\n",
       "      <td>8</td>\n",
       "      <td>2013</td>\n",
       "      <td>1001958</td>\n",
       "      <td>979.580227</td>\n",
       "    </tr>\n",
       "    <tr>\n",
       "      <th>2</th>\n",
       "      <td>9</td>\n",
       "      <td>2013</td>\n",
       "      <td>1034359</td>\n",
       "      <td>905.020577</td>\n",
       "    </tr>\n",
       "    <tr>\n",
       "      <th>3</th>\n",
       "      <td>10</td>\n",
       "      <td>2013</td>\n",
       "      <td>1037712</td>\n",
       "      <td>825.614754</td>\n",
       "    </tr>\n",
       "    <tr>\n",
       "      <th>4</th>\n",
       "      <td>11</td>\n",
       "      <td>2013</td>\n",
       "      <td>675774</td>\n",
       "      <td>771.283866</td>\n",
       "    </tr>\n",
       "  </tbody>\n",
       "</table>\n",
       "</div>"
      ],
      "text/plain": [
       "   trip_month  trip_year  num_trip    avg_trip\n",
       "0           7       2013    843416  998.100704\n",
       "1           8       2013   1001958  979.580227\n",
       "2           9       2013   1034359  905.020577\n",
       "3          10       2013   1037712  825.614754\n",
       "4          11       2013    675774  771.283866"
      ]
     },
     "execution_count": 3,
     "metadata": {},
     "output_type": "execute_result"
    }
   ],
   "source": [
    "monthly_trips_query=\"\"\"\n",
    "SELECT MONTH(starttime) as trip_month, YEAR(starttime) as trip_year, COUNT(tripduration) as num_trip, AVG(tripduration) as avg_trip \n",
    "FROM \n",
    "  [bigquery-public-data:new_york.citibike_trips],\n",
    "  [citibike_tripdata.tripdata_2016_10_to_2017_12],\n",
    "  [citibike_tripdata.tripdata_jc_2015_09_to_2017_12] \n",
    "GROUP BY trip_month, trip_year ORDER BY trip_year, trip_month\n",
    "\"\"\"\n",
    "\n",
    "trips_by_month_year = gbq.read_gbq(query=monthly_trips_query,dialect ='legacy', project_id=project_id)\n",
    "trips_by_month_year.head()"
   ]
  },
  {
   "cell_type": "markdown",
   "metadata": {},
   "source": [
    "As displayed above, the query request will yield a DataFrame that lists number of trips and average trip durations by month and year. For instance, the top entry has 843,416 trips with an average trip duration of 998 seconds for July 2013. We can dig deeper by taking a look at some descriptive statistics below. In turn, we can take note of a few points of interest:\n",
    "- 54 months represented for the period from July 2013 to December 2017\n",
    "- average of 997,445.9 total trips per month\n",
    "- range of 196,930 to 1,932,511 total trips per month\n",
    "- average of 906.1 seconds average trip time per month\n",
    "- range of 649.3 to 1,150.7 seconds average trip time per month  "
   ]
  },
  {
   "cell_type": "code",
   "execution_count": 4,
   "metadata": {
    "collapsed": false
   },
   "outputs": [
    {
     "data": {
      "text/html": [
       "<div>\n",
       "<style scoped>\n",
       "    .dataframe tbody tr th:only-of-type {\n",
       "        vertical-align: middle;\n",
       "    }\n",
       "\n",
       "    .dataframe tbody tr th {\n",
       "        vertical-align: top;\n",
       "    }\n",
       "\n",
       "    .dataframe thead th {\n",
       "        text-align: right;\n",
       "    }\n",
       "</style>\n",
       "<table border=\"1\" class=\"dataframe\">\n",
       "  <thead>\n",
       "    <tr style=\"text-align: right;\">\n",
       "      <th></th>\n",
       "      <th>trip_month</th>\n",
       "      <th>trip_year</th>\n",
       "      <th>num_trip</th>\n",
       "      <th>avg_trip</th>\n",
       "    </tr>\n",
       "  </thead>\n",
       "  <tbody>\n",
       "    <tr>\n",
       "      <th>count</th>\n",
       "      <td>54.000000</td>\n",
       "      <td>54.000000</td>\n",
       "      <td>5.400000e+01</td>\n",
       "      <td>54.000000</td>\n",
       "    </tr>\n",
       "    <tr>\n",
       "      <th>mean</th>\n",
       "      <td>6.833333</td>\n",
       "      <td>2015.222222</td>\n",
       "      <td>9.974459e+05</td>\n",
       "      <td>906.123124</td>\n",
       "    </tr>\n",
       "    <tr>\n",
       "      <th>std</th>\n",
       "      <td>3.468184</td>\n",
       "      <td>1.327029</td>\n",
       "      <td>4.551352e+05</td>\n",
       "      <td>120.790077</td>\n",
       "    </tr>\n",
       "    <tr>\n",
       "      <th>min</th>\n",
       "      <td>1.000000</td>\n",
       "      <td>2013.000000</td>\n",
       "      <td>1.969300e+05</td>\n",
       "      <td>649.383207</td>\n",
       "    </tr>\n",
       "    <tr>\n",
       "      <th>25%</th>\n",
       "      <td>4.000000</td>\n",
       "      <td>2014.000000</td>\n",
       "      <td>6.917310e+05</td>\n",
       "      <td>813.407381</td>\n",
       "    </tr>\n",
       "    <tr>\n",
       "      <th>50%</th>\n",
       "      <td>7.000000</td>\n",
       "      <td>2015.000000</td>\n",
       "      <td>9.579365e+05</td>\n",
       "      <td>901.510703</td>\n",
       "    </tr>\n",
       "    <tr>\n",
       "      <th>75%</th>\n",
       "      <td>10.000000</td>\n",
       "      <td>2016.000000</td>\n",
       "      <td>1.280217e+06</td>\n",
       "      <td>996.112327</td>\n",
       "    </tr>\n",
       "    <tr>\n",
       "      <th>max</th>\n",
       "      <td>12.000000</td>\n",
       "      <td>2017.000000</td>\n",
       "      <td>1.932511e+06</td>\n",
       "      <td>1150.770650</td>\n",
       "    </tr>\n",
       "  </tbody>\n",
       "</table>\n",
       "</div>"
      ],
      "text/plain": [
       "       trip_month    trip_year      num_trip     avg_trip\n",
       "count   54.000000    54.000000  5.400000e+01    54.000000\n",
       "mean     6.833333  2015.222222  9.974459e+05   906.123124\n",
       "std      3.468184     1.327029  4.551352e+05   120.790077\n",
       "min      1.000000  2013.000000  1.969300e+05   649.383207\n",
       "25%      4.000000  2014.000000  6.917310e+05   813.407381\n",
       "50%      7.000000  2015.000000  9.579365e+05   901.510703\n",
       "75%     10.000000  2016.000000  1.280217e+06   996.112327\n",
       "max     12.000000  2017.000000  1.932511e+06  1150.770650"
      ]
     },
     "execution_count": 4,
     "metadata": {},
     "output_type": "execute_result"
    }
   ],
   "source": [
    "trips_by_month_year.describe()"
   ]
  },
  {
   "cell_type": "markdown",
   "metadata": {},
   "source": [
    "A variable called trip_year_month is used to represent a combination of month and year for graphing purposes."
   ]
  },
  {
   "cell_type": "code",
   "execution_count": 5,
   "metadata": {
    "collapsed": true
   },
   "outputs": [],
   "source": [
    "format_func = lambda x: str(x).zfill(2)\n",
    "trips_by_month_year['trip_year_month'] = trips_by_month_year[\"trip_year\"].map(str) + trips_by_month_year[\"trip_month\"].map(format_func)"
   ]
  },
  {
   "cell_type": "code",
   "execution_count": 6,
   "metadata": {
    "collapsed": false,
    "scrolled": true
   },
   "outputs": [
    {
     "data": {
      "text/html": [
       "<div>\n",
       "<style scoped>\n",
       "    .dataframe tbody tr th:only-of-type {\n",
       "        vertical-align: middle;\n",
       "    }\n",
       "\n",
       "    .dataframe tbody tr th {\n",
       "        vertical-align: top;\n",
       "    }\n",
       "\n",
       "    .dataframe thead th {\n",
       "        text-align: right;\n",
       "    }\n",
       "</style>\n",
       "<table border=\"1\" class=\"dataframe\">\n",
       "  <thead>\n",
       "    <tr style=\"text-align: right;\">\n",
       "      <th></th>\n",
       "      <th>trip_month</th>\n",
       "      <th>trip_year</th>\n",
       "      <th>num_trip</th>\n",
       "      <th>avg_trip</th>\n",
       "      <th>trip_year_month</th>\n",
       "    </tr>\n",
       "  </thead>\n",
       "  <tbody>\n",
       "    <tr>\n",
       "      <th>0</th>\n",
       "      <td>7</td>\n",
       "      <td>2013</td>\n",
       "      <td>843416</td>\n",
       "      <td>998.100704</td>\n",
       "      <td>201307</td>\n",
       "    </tr>\n",
       "    <tr>\n",
       "      <th>1</th>\n",
       "      <td>8</td>\n",
       "      <td>2013</td>\n",
       "      <td>1001958</td>\n",
       "      <td>979.580227</td>\n",
       "      <td>201308</td>\n",
       "    </tr>\n",
       "    <tr>\n",
       "      <th>2</th>\n",
       "      <td>9</td>\n",
       "      <td>2013</td>\n",
       "      <td>1034359</td>\n",
       "      <td>905.020577</td>\n",
       "      <td>201309</td>\n",
       "    </tr>\n",
       "    <tr>\n",
       "      <th>3</th>\n",
       "      <td>10</td>\n",
       "      <td>2013</td>\n",
       "      <td>1037712</td>\n",
       "      <td>825.614754</td>\n",
       "      <td>201310</td>\n",
       "    </tr>\n",
       "    <tr>\n",
       "      <th>4</th>\n",
       "      <td>11</td>\n",
       "      <td>2013</td>\n",
       "      <td>675774</td>\n",
       "      <td>771.283866</td>\n",
       "      <td>201311</td>\n",
       "    </tr>\n",
       "  </tbody>\n",
       "</table>\n",
       "</div>"
      ],
      "text/plain": [
       "   trip_month  trip_year  num_trip    avg_trip trip_year_month\n",
       "0           7       2013    843416  998.100704          201307\n",
       "1           8       2013   1001958  979.580227          201308\n",
       "2           9       2013   1034359  905.020577          201309\n",
       "3          10       2013   1037712  825.614754          201310\n",
       "4          11       2013    675774  771.283866          201311"
      ]
     },
     "execution_count": 6,
     "metadata": {},
     "output_type": "execute_result"
    }
   ],
   "source": [
    "trips_by_month_year.head()"
   ]
  },
  {
   "cell_type": "markdown",
   "metadata": {},
   "source": [
    "### Number of Trips by Month\n",
    "\n",
    "Below is a barplot of total number of trips by month and year. In general, we note a cyclic behavior where ridership peaks during summer seasons and dips during winter seasons. Additionally, there is a general upward trend across the entire lifetime of Citibike. This increased ridership can be explained by the gradual expansion of Citibike's operations from Manhattan to Brooklyn, Queens, and Jersey City."
   ]
  },
  {
   "cell_type": "code",
   "execution_count": 7,
   "metadata": {
    "collapsed": false
   },
   "outputs": [
    {
     "data": {
      "text/plain": [
       "<matplotlib.axes._subplots.AxesSubplot at 0x1cdebf6b128>"
      ]
     },
     "execution_count": 7,
     "metadata": {},
     "output_type": "execute_result"
    },
    {
     "data": {
      "image/png": "[encoded data removed]",
      "text/plain": [
       "<matplotlib.figure.Figure at 0x1cdebf6b908>"
      ]
     },
     "metadata": {},
     "output_type": "display_data"
    }
   ],
   "source": [
    "trips_by_month_year.plot(x='trip_year_month', y='num_trip', kind='bar', figsize=(12,6))"
   ]
  },
  {
   "cell_type": "markdown",
   "metadata": {},
   "source": [
    "### Average Trip Duration by Month\n",
    "\n",
    "Below is a barplot of average trip duration by month and year. In general, we note that the average trip duration seems to dip during the winter seasons, but not much else can be particularly inferred. More data would need to be investigated to assess which factors lead to changes in average trip duration."
   ]
  },
  {
   "cell_type": "code",
   "execution_count": 8,
   "metadata": {
    "collapsed": false
   },
   "outputs": [
    {
     "data": {
      "text/plain": [
       "<matplotlib.axes._subplots.AxesSubplot at 0x1cdee0bab70>"
      ]
     },
     "execution_count": 8,
     "metadata": {},
     "output_type": "execute_result"
    },
    {
     "data": {
      "image/png": "[encoded data removed]",
      "text/plain": [
       "<matplotlib.figure.Figure at 0x1cdee07cb38>"
      ]
     },
     "metadata": {},
     "output_type": "display_data"
    }
   ],
   "source": [
    "trips_by_month_year.plot(x='trip_year_month', y='avg_trip', kind='bar', figsize=(12,6))"
   ]
  },
  {
   "cell_type": "markdown",
   "metadata": {},
   "source": [
    "### Day Breakdown Query\n",
    "\n",
    "In the following query, all Citibike trips are aggregated by hour of the day from their starttime value. In addition, the total number of trips (num_trip) and average trip duration (avg_trip) by month and year are computed."
   ]
  },
  {
   "cell_type": "code",
   "execution_count": 9,
   "metadata": {
    "collapsed": false,
    "scrolled": true
   },
   "outputs": [
    {
     "name": "stdout",
     "output_type": "stream",
     "text": [
      "Requesting query... ok.\n",
      "Job ID: a5fcd12b-ed7a-4111-8f51-afc25201b255\n",
      "Query running...\n",
      "Query done.\n",
      "Processed: 821.9 MB Billed: 822.0 MB\n",
      "Standard price: $0.00 USD\n",
      "\n",
      "Retrieving results...\n",
      "Got 24 rows.\n",
      "\n",
      "Total time taken 2.98 s.\n",
      "Finished at 2018-03-26 01:36:57.\n"
     ]
    },
    {
     "data": {
      "text/html": [
       "<div>\n",
       "<style scoped>\n",
       "    .dataframe tbody tr th:only-of-type {\n",
       "        vertical-align: middle;\n",
       "    }\n",
       "\n",
       "    .dataframe tbody tr th {\n",
       "        vertical-align: top;\n",
       "    }\n",
       "\n",
       "    .dataframe thead th {\n",
       "        text-align: right;\n",
       "    }\n",
       "</style>\n",
       "<table border=\"1\" class=\"dataframe\">\n",
       "  <thead>\n",
       "    <tr style=\"text-align: right;\">\n",
       "      <th></th>\n",
       "      <th>hour</th>\n",
       "      <th>num_trip</th>\n",
       "      <th>avg_trip</th>\n",
       "    </tr>\n",
       "  </thead>\n",
       "  <tbody>\n",
       "    <tr>\n",
       "      <th>0</th>\n",
       "      <td>0</td>\n",
       "      <td>503260</td>\n",
       "      <td>971.179259</td>\n",
       "    </tr>\n",
       "    <tr>\n",
       "      <th>1</th>\n",
       "      <td>1</td>\n",
       "      <td>279703</td>\n",
       "      <td>1052.176498</td>\n",
       "    </tr>\n",
       "    <tr>\n",
       "      <th>2</th>\n",
       "      <td>2</td>\n",
       "      <td>163781</td>\n",
       "      <td>1080.449997</td>\n",
       "    </tr>\n",
       "    <tr>\n",
       "      <th>3</th>\n",
       "      <td>3</td>\n",
       "      <td>100823</td>\n",
       "      <td>1065.565536</td>\n",
       "    </tr>\n",
       "    <tr>\n",
       "      <th>4</th>\n",
       "      <td>4</td>\n",
       "      <td>96266</td>\n",
       "      <td>1229.489020</td>\n",
       "    </tr>\n",
       "  </tbody>\n",
       "</table>\n",
       "</div>"
      ],
      "text/plain": [
       "   hour  num_trip     avg_trip\n",
       "0     0    503260   971.179259\n",
       "1     1    279703  1052.176498\n",
       "2     2    163781  1080.449997\n",
       "3     3    100823  1065.565536\n",
       "4     4     96266  1229.489020"
      ]
     },
     "execution_count": 9,
     "metadata": {},
     "output_type": "execute_result"
    }
   ],
   "source": [
    "trips_by_hour_query=\"\"\"\n",
    "SELECT HOUR(starttime) as hour, COUNT(tripduration) as num_trip, AVG(tripduration) as avg_trip  \n",
    "FROM \n",
    "  [bigquery-public-data:new_york.citibike_trips],\n",
    "  [citibike_tripdata.tripdata_2016_10_to_2017_12],\n",
    "  [citibike_tripdata.tripdata_jc_2015_09_to_2017_12]\n",
    "GROUP BY hour ORDER BY hour\n",
    "\"\"\"\n",
    "\n",
    "trips_by_hour = gbq.read_gbq(query=trips_by_hour_query,dialect ='legacy', project_id=project_id)\n",
    "trips_by_hour.head()"
   ]
  },
  {
   "cell_type": "markdown",
   "metadata": {},
   "source": [
    "Comments on Descriptive Stats:\n",
    "- average of 2,244,253 total trips by hour bucket\n",
    "- range of 96,266 to 5,291,370 total trips by hour bucket\n",
    "- average of 959.4 seconds average trip duration by hour bucket\n",
    "- range of 683.5 to 1229.5 seconds average trip duration by hour bucket"
   ]
  },
  {
   "cell_type": "code",
   "execution_count": 10,
   "metadata": {
    "collapsed": false,
    "scrolled": true
   },
   "outputs": [
    {
     "data": {
      "text/html": [
       "<div>\n",
       "<style scoped>\n",
       "    .dataframe tbody tr th:only-of-type {\n",
       "        vertical-align: middle;\n",
       "    }\n",
       "\n",
       "    .dataframe tbody tr th {\n",
       "        vertical-align: top;\n",
       "    }\n",
       "\n",
       "    .dataframe thead th {\n",
       "        text-align: right;\n",
       "    }\n",
       "</style>\n",
       "<table border=\"1\" class=\"dataframe\">\n",
       "  <thead>\n",
       "    <tr style=\"text-align: right;\">\n",
       "      <th></th>\n",
       "      <th>hour</th>\n",
       "      <th>num_trip</th>\n",
       "      <th>avg_trip</th>\n",
       "    </tr>\n",
       "  </thead>\n",
       "  <tbody>\n",
       "    <tr>\n",
       "      <th>count</th>\n",
       "      <td>24.000000</td>\n",
       "      <td>2.400000e+01</td>\n",
       "      <td>24.000000</td>\n",
       "    </tr>\n",
       "    <tr>\n",
       "      <th>mean</th>\n",
       "      <td>11.500000</td>\n",
       "      <td>2.244253e+06</td>\n",
       "      <td>959.360899</td>\n",
       "    </tr>\n",
       "    <tr>\n",
       "      <th>std</th>\n",
       "      <td>7.071068</td>\n",
       "      <td>1.598273e+06</td>\n",
       "      <td>126.686525</td>\n",
       "    </tr>\n",
       "    <tr>\n",
       "      <th>min</th>\n",
       "      <td>0.000000</td>\n",
       "      <td>9.626600e+04</td>\n",
       "      <td>683.451056</td>\n",
       "    </tr>\n",
       "    <tr>\n",
       "      <th>25%</th>\n",
       "      <td>5.750000</td>\n",
       "      <td>7.614992e+05</td>\n",
       "      <td>940.456111</td>\n",
       "    </tr>\n",
       "    <tr>\n",
       "      <th>50%</th>\n",
       "      <td>11.500000</td>\n",
       "      <td>2.397461e+06</td>\n",
       "      <td>966.872301</td>\n",
       "    </tr>\n",
       "    <tr>\n",
       "      <th>75%</th>\n",
       "      <td>17.250000</td>\n",
       "      <td>3.325364e+06</td>\n",
       "      <td>1035.206886</td>\n",
       "    </tr>\n",
       "    <tr>\n",
       "      <th>max</th>\n",
       "      <td>23.000000</td>\n",
       "      <td>5.291370e+06</td>\n",
       "      <td>1229.489020</td>\n",
       "    </tr>\n",
       "  </tbody>\n",
       "</table>\n",
       "</div>"
      ],
      "text/plain": [
       "            hour      num_trip     avg_trip\n",
       "count  24.000000  2.400000e+01    24.000000\n",
       "mean   11.500000  2.244253e+06   959.360899\n",
       "std     7.071068  1.598273e+06   126.686525\n",
       "min     0.000000  9.626600e+04   683.451056\n",
       "25%     5.750000  7.614992e+05   940.456111\n",
       "50%    11.500000  2.397461e+06   966.872301\n",
       "75%    17.250000  3.325364e+06  1035.206886\n",
       "max    23.000000  5.291370e+06  1229.489020"
      ]
     },
     "execution_count": 10,
     "metadata": {},
     "output_type": "execute_result"
    }
   ],
   "source": [
    "trips_by_hour.describe()"
   ]
  },
  {
   "cell_type": "markdown",
   "metadata": {},
   "source": [
    "### Number of Trips by Hour Bucket\n",
    "\n",
    "Below is a barplot of number of trips broken down by hour of the day. In general, the hours from 10PM to 6AM represent a period of significantly low ridership, with 1AM to 5AM being extremely low. Additionally, peak hours of usage are at 8AM as well as at 5PM and 6PM, the times when people normally get to or off of work."
   ]
  },
  {
   "cell_type": "code",
   "execution_count": 11,
   "metadata": {
    "collapsed": false
   },
   "outputs": [
    {
     "data": {
      "text/plain": [
       "<matplotlib.axes._subplots.AxesSubplot at 0x1cdee6225f8>"
      ]
     },
     "execution_count": 11,
     "metadata": {},
     "output_type": "execute_result"
    },
    {
     "data": {
      "image/png": "[encoded data removed]",
      "text/plain": [
       "<matplotlib.figure.Figure at 0x1cdee438ef0>"
      ]
     },
     "metadata": {},
     "output_type": "display_data"
    }
   ],
   "source": [
    "trips_by_hour.plot(x='hour', y='num_trip', kind='bar', figsize=(12,6))"
   ]
  },
  {
   "cell_type": "markdown",
   "metadata": {},
   "source": [
    "### Average Trip Duration by Hour Bucket\n",
    "\n",
    "Below is a barplot of average trip duration broken down by hour of the day. Generally, the average trip duration throughout the day seems to consistently hover around the mean of 959 seconds, although there is a major discrepancy in duration between 4AM and 5AM. Due to low ridership during the early morning, individual riders at these hours have a greater impact on average trip duration with their specific riding behaviors. Additionally, there seems to be a slight upward trend in duration from 5AM to 11AM."
   ]
  },
  {
   "cell_type": "code",
   "execution_count": 12,
   "metadata": {
    "collapsed": false,
    "scrolled": false
   },
   "outputs": [
    {
     "data": {
      "text/plain": [
       "<matplotlib.axes._subplots.AxesSubplot at 0x1cdee161860>"
      ]
     },
     "execution_count": 12,
     "metadata": {},
     "output_type": "execute_result"
    },
    {
     "data": {
      "image/png": "[encoded data removed]",
      "text/plain": [
       "<matplotlib.figure.Figure at 0x1cdee6bac88>"
      ]
     },
     "metadata": {},
     "output_type": "display_data"
    }
   ],
   "source": [
    "trips_by_hour.plot(x='hour', y='avg_trip', kind='bar', figsize=(12,6))"
   ]
  },
  {
   "cell_type": "markdown",
   "metadata": {},
   "source": [
    "### Weekdays in 2017 Breakdown Query\n",
    "\n",
    "Similarly to above, Citibike trips are aggregated by hour of the day from their starttime value. In addition, the total number of trips (num_trip) and average trip duration (avg_trip) by month and year are computed. The main difference is that we only look at weekdays in 2017."
   ]
  },
  {
   "cell_type": "code",
   "execution_count": 13,
   "metadata": {
    "collapsed": false,
    "scrolled": false
   },
   "outputs": [
    {
     "name": "stdout",
     "output_type": "stream",
     "text": [
      "Requesting query... ok.\n",
      "Job ID: b5db5981-e1e4-4b19-88bf-8f48ab469a7b\n",
      "Query running...\n",
      "Query done.\n",
      "Processed: 821.9 MB Billed: 822.0 MB\n",
      "Standard price: $0.00 USD\n",
      "\n",
      "Retrieving results...\n",
      "Got 24 rows.\n",
      "\n",
      "Total time taken 3.43 s.\n",
      "Finished at 2018-03-26 01:37:33.\n"
     ]
    },
    {
     "data": {
      "text/html": [
       "<div>\n",
       "<style scoped>\n",
       "    .dataframe tbody tr th:only-of-type {\n",
       "        vertical-align: middle;\n",
       "    }\n",
       "\n",
       "    .dataframe tbody tr th {\n",
       "        vertical-align: top;\n",
       "    }\n",
       "\n",
       "    .dataframe thead th {\n",
       "        text-align: right;\n",
       "    }\n",
       "</style>\n",
       "<table border=\"1\" class=\"dataframe\">\n",
       "  <thead>\n",
       "    <tr style=\"text-align: right;\">\n",
       "      <th></th>\n",
       "      <th>hour</th>\n",
       "      <th>num_trip</th>\n",
       "      <th>avg_trip</th>\n",
       "    </tr>\n",
       "  </thead>\n",
       "  <tbody>\n",
       "    <tr>\n",
       "      <th>0</th>\n",
       "      <td>0</td>\n",
       "      <td>86147</td>\n",
       "      <td>1132.159727</td>\n",
       "    </tr>\n",
       "    <tr>\n",
       "      <th>1</th>\n",
       "      <td>1</td>\n",
       "      <td>40426</td>\n",
       "      <td>932.874116</td>\n",
       "    </tr>\n",
       "    <tr>\n",
       "      <th>2</th>\n",
       "      <td>2</td>\n",
       "      <td>20548</td>\n",
       "      <td>1175.841980</td>\n",
       "    </tr>\n",
       "    <tr>\n",
       "      <th>3</th>\n",
       "      <td>3</td>\n",
       "      <td>11918</td>\n",
       "      <td>1419.054288</td>\n",
       "    </tr>\n",
       "    <tr>\n",
       "      <th>4</th>\n",
       "      <td>4</td>\n",
       "      <td>18150</td>\n",
       "      <td>1218.532342</td>\n",
       "    </tr>\n",
       "  </tbody>\n",
       "</table>\n",
       "</div>"
      ],
      "text/plain": [
       "   hour  num_trip     avg_trip\n",
       "0     0     86147  1132.159727\n",
       "1     1     40426   932.874116\n",
       "2     2     20548  1175.841980\n",
       "3     3     11918  1419.054288\n",
       "4     4     18150  1218.532342"
      ]
     },
     "execution_count": 13,
     "metadata": {},
     "output_type": "execute_result"
    }
   ],
   "source": [
    "trips_by_hour_weekday_query=\"\"\"\n",
    "SELECT HOUR(starttime) as hour, COUNT(tripduration) as num_trip, AVG(tripduration) as avg_trip  \n",
    "FROM \n",
    "  [bigquery-public-data:new_york.citibike_trips],\n",
    "  [citibike_tripdata.tripdata_2016_10_to_2017_12],\n",
    "  [citibike_tripdata.tripdata_jc_2015_09_to_2017_12]\n",
    "WHERE DAYOFWEEK(starttime) != 1 and DAYOFWEEK(starttime) != 7 and YEAR(starttime) == 2017\n",
    "GROUP BY hour ORDER BY hour\n",
    "\"\"\"\n",
    "\n",
    "trips_by_hour_weekday = gbq.read_gbq(query=trips_by_hour_weekday_query,dialect ='legacy', project_id=project_id)\n",
    "trips_by_hour_weekday.head()"
   ]
  },
  {
   "cell_type": "markdown",
   "metadata": {},
   "source": [
    "Comments on Descriptive Stats:\n",
    "- average of 526,434.5 total trips by hour bucket\n",
    "- range of 11,918 to 1,325,535 total trips by hour bucket\n",
    "- average of 977.9 seconds average trip duration by hour bucket\n",
    "- range of 626.7 to 1419.1 seconds average trip duration by hour bucket"
   ]
  },
  {
   "cell_type": "code",
   "execution_count": 14,
   "metadata": {
    "collapsed": false,
    "scrolled": true
   },
   "outputs": [
    {
     "data": {
      "text/html": [
       "<div>\n",
       "<style scoped>\n",
       "    .dataframe tbody tr th:only-of-type {\n",
       "        vertical-align: middle;\n",
       "    }\n",
       "\n",
       "    .dataframe tbody tr th {\n",
       "        vertical-align: top;\n",
       "    }\n",
       "\n",
       "    .dataframe thead th {\n",
       "        text-align: right;\n",
       "    }\n",
       "</style>\n",
       "<table border=\"1\" class=\"dataframe\">\n",
       "  <thead>\n",
       "    <tr style=\"text-align: right;\">\n",
       "      <th></th>\n",
       "      <th>hour</th>\n",
       "      <th>num_trip</th>\n",
       "      <th>avg_trip</th>\n",
       "    </tr>\n",
       "  </thead>\n",
       "  <tbody>\n",
       "    <tr>\n",
       "      <th>count</th>\n",
       "      <td>24.000000</td>\n",
       "      <td>2.400000e+01</td>\n",
       "      <td>24.000000</td>\n",
       "    </tr>\n",
       "    <tr>\n",
       "      <th>mean</th>\n",
       "      <td>11.500000</td>\n",
       "      <td>5.264345e+05</td>\n",
       "      <td>977.874200</td>\n",
       "    </tr>\n",
       "    <tr>\n",
       "      <th>std</th>\n",
       "      <td>7.071068</td>\n",
       "      <td>4.053041e+05</td>\n",
       "      <td>177.402327</td>\n",
       "    </tr>\n",
       "    <tr>\n",
       "      <th>min</th>\n",
       "      <td>0.000000</td>\n",
       "      <td>1.191800e+04</td>\n",
       "      <td>626.682645</td>\n",
       "    </tr>\n",
       "    <tr>\n",
       "      <th>25%</th>\n",
       "      <td>5.750000</td>\n",
       "      <td>1.572510e+05</td>\n",
       "      <td>920.058662</td>\n",
       "    </tr>\n",
       "    <tr>\n",
       "      <th>50%</th>\n",
       "      <td>11.500000</td>\n",
       "      <td>5.331730e+05</td>\n",
       "      <td>975.446727</td>\n",
       "    </tr>\n",
       "    <tr>\n",
       "      <th>75%</th>\n",
       "      <td>17.250000</td>\n",
       "      <td>7.494982e+05</td>\n",
       "      <td>1071.689156</td>\n",
       "    </tr>\n",
       "    <tr>\n",
       "      <th>max</th>\n",
       "      <td>23.000000</td>\n",
       "      <td>1.325535e+06</td>\n",
       "      <td>1419.054288</td>\n",
       "    </tr>\n",
       "  </tbody>\n",
       "</table>\n",
       "</div>"
      ],
      "text/plain": [
       "            hour      num_trip     avg_trip\n",
       "count  24.000000  2.400000e+01    24.000000\n",
       "mean   11.500000  5.264345e+05   977.874200\n",
       "std     7.071068  4.053041e+05   177.402327\n",
       "min     0.000000  1.191800e+04   626.682645\n",
       "25%     5.750000  1.572510e+05   920.058662\n",
       "50%    11.500000  5.331730e+05   975.446727\n",
       "75%    17.250000  7.494982e+05  1071.689156\n",
       "max    23.000000  1.325535e+06  1419.054288"
      ]
     },
     "execution_count": 14,
     "metadata": {},
     "output_type": "execute_result"
    }
   ],
   "source": [
    "trips_by_hour_weekday.describe()"
   ]
  },
  {
   "cell_type": "markdown",
   "metadata": {},
   "source": [
    "### Number of Trips by Hour Bucket for Weekdays in 2017\n",
    "\n",
    "Below is a barplot of number of trips broken down by hour of the day for weekdays in 2017. Not surprisingly, this plot is similar to its counterpart for all trips above. The weekday data illustrate the patterns of peak hours around the endpoints of the usual work schedule and lack of usage in the early morning."
   ]
  },
  {
   "cell_type": "code",
   "execution_count": 15,
   "metadata": {
    "collapsed": false
   },
   "outputs": [
    {
     "data": {
      "text/plain": [
       "<matplotlib.axes._subplots.AxesSubplot at 0x1cdee8b9b70>"
      ]
     },
     "execution_count": 15,
     "metadata": {},
     "output_type": "execute_result"
    },
    {
     "data": {
      "image/png": "[encoded data removed]",
      "text/plain": [
       "<matplotlib.figure.Figure at 0x1cdee86a048>"
      ]
     },
     "metadata": {},
     "output_type": "display_data"
    }
   ],
   "source": [
    "trips_by_hour_weekday.plot(x='hour', y='num_trip', kind='bar', figsize=(12,6))"
   ]
  },
  {
   "cell_type": "markdown",
   "metadata": {},
   "source": [
    "### Average Trip Duration by Hour Bucket for Weekdays in 2017\n",
    "\n",
    "Below is a barplot of average trip duration broken down by hour of the day for weekdays in 2017. Similarly to its counterpart above, there is a discrepancy of about 600 seconds between 4AM to 5AM and upward trend from 5AM to 12PM. Interestingly, there is a peak average trip duration of 1,419 seconds at 3AM, although this could be heavily influenced by outliers due to low ridership at that time. "
   ]
  },
  {
   "cell_type": "code",
   "execution_count": 16,
   "metadata": {
    "collapsed": false
   },
   "outputs": [
    {
     "data": {
      "text/plain": [
       "<matplotlib.axes._subplots.AxesSubplot at 0x1cdee911518>"
      ]
     },
     "execution_count": 16,
     "metadata": {},
     "output_type": "execute_result"
    },
    {
     "data": {
      "image/png": "[encoded data removed]",
      "text/plain": [
       "<matplotlib.figure.Figure at 0x1cdefa734a8>"
      ]
     },
     "metadata": {},
     "output_type": "display_data"
    }
   ],
   "source": [
    "trips_by_hour_weekday.plot(x='hour', y='avg_trip', kind='bar', figsize=(12,6))"
   ]
  },
  {
   "cell_type": "markdown",
   "metadata": {},
   "source": [
    "### Weekends in 2017 Breakdown Query\n",
    "\n",
    "Similarly to above, Citibike trips are aggregated by hour of the day from their starttime value. In addition, the total number of trips (num_trip) and average trip duration (avg_trip) by month and year are computed. The main difference is that we only look at weekends in 2017."
   ]
  },
  {
   "cell_type": "code",
   "execution_count": 17,
   "metadata": {
    "collapsed": false,
    "scrolled": false
   },
   "outputs": [
    {
     "name": "stdout",
     "output_type": "stream",
     "text": [
      "Requesting query... ok.\n",
      "Job ID: 5d8cb709-2c91-4dbc-b8da-a177c4b62f5d\n",
      "Query running...\n",
      "Query done.\n",
      "Processed: 821.9 MB Billed: 822.0 MB\n",
      "Standard price: $0.00 USD\n",
      "\n",
      "Retrieving results...\n",
      "Got 24 rows.\n",
      "\n",
      "Total time taken 3.0 s.\n",
      "Finished at 2018-03-26 01:38:06.\n"
     ]
    },
    {
     "data": {
      "text/html": [
       "<div>\n",
       "<style scoped>\n",
       "    .dataframe tbody tr th:only-of-type {\n",
       "        vertical-align: middle;\n",
       "    }\n",
       "\n",
       "    .dataframe tbody tr th {\n",
       "        vertical-align: top;\n",
       "    }\n",
       "\n",
       "    .dataframe thead th {\n",
       "        text-align: right;\n",
       "    }\n",
       "</style>\n",
       "<table border=\"1\" class=\"dataframe\">\n",
       "  <thead>\n",
       "    <tr style=\"text-align: right;\">\n",
       "      <th></th>\n",
       "      <th>hour</th>\n",
       "      <th>num_trip</th>\n",
       "      <th>avg_trip</th>\n",
       "    </tr>\n",
       "  </thead>\n",
       "  <tbody>\n",
       "    <tr>\n",
       "      <th>0</th>\n",
       "      <td>0</td>\n",
       "      <td>58066</td>\n",
       "      <td>1036.785761</td>\n",
       "    </tr>\n",
       "    <tr>\n",
       "      <th>1</th>\n",
       "      <td>1</td>\n",
       "      <td>39011</td>\n",
       "      <td>1351.138320</td>\n",
       "    </tr>\n",
       "    <tr>\n",
       "      <th>2</th>\n",
       "      <td>2</td>\n",
       "      <td>24345</td>\n",
       "      <td>1055.552968</td>\n",
       "    </tr>\n",
       "    <tr>\n",
       "      <th>3</th>\n",
       "      <td>3</td>\n",
       "      <td>15487</td>\n",
       "      <td>1046.448053</td>\n",
       "    </tr>\n",
       "    <tr>\n",
       "      <th>4</th>\n",
       "      <td>4</td>\n",
       "      <td>9728</td>\n",
       "      <td>1121.117701</td>\n",
       "    </tr>\n",
       "  </tbody>\n",
       "</table>\n",
       "</div>"
      ],
      "text/plain": [
       "   hour  num_trip     avg_trip\n",
       "0     0     58066  1036.785761\n",
       "1     1     39011  1351.138320\n",
       "2     2     24345  1055.552968\n",
       "3     3     15487  1046.448053\n",
       "4     4      9728  1121.117701"
      ]
     },
     "execution_count": 17,
     "metadata": {},
     "output_type": "execute_result"
    }
   ],
   "source": [
    "trips_by_hour_weekend_query=\"\"\"\n",
    "SELECT HOUR(starttime) as hour, COUNT(tripduration) as num_trip, AVG(tripduration) as avg_trip  \n",
    "FROM \n",
    "  [bigquery-public-data:new_york.citibike_trips],\n",
    "  [citibike_tripdata.tripdata_2016_10_to_2017_12],\n",
    "  [citibike_tripdata.tripdata_jc_2015_09_to_2017_12]\n",
    "WHERE (DAYOFWEEK(starttime) == 1 or DAYOFWEEK(starttime) == 7) and YEAR(starttime) == 2017\n",
    "GROUP BY hour ORDER BY hour\n",
    "\"\"\"\n",
    "\n",
    "trips_by_hour_weekend = gbq.read_gbq(query=trips_by_hour_weekend_query,dialect ='legacy', project_id=project_id)\n",
    "trips_by_hour_weekend.head()"
   ]
  },
  {
   "cell_type": "markdown",
   "metadata": {},
   "source": [
    "Comments on Descriptive Stats:\n",
    "\n",
    "- average of 167,714.9 total trips by hour bucket\n",
    "- range of 8,768 to 346,528 total trips by hour bucket\n",
    "- average of 1114.1 seconds average trip duration by hour bucket\n",
    "- range of 809.8 to 1366.6 seconds average trip duration by hour bucket"
   ]
  },
  {
   "cell_type": "code",
   "execution_count": 18,
   "metadata": {
    "collapsed": false
   },
   "outputs": [
    {
     "data": {
      "text/html": [
       "<div>\n",
       "<style scoped>\n",
       "    .dataframe tbody tr th:only-of-type {\n",
       "        vertical-align: middle;\n",
       "    }\n",
       "\n",
       "    .dataframe tbody tr th {\n",
       "        vertical-align: top;\n",
       "    }\n",
       "\n",
       "    .dataframe thead th {\n",
       "        text-align: right;\n",
       "    }\n",
       "</style>\n",
       "<table border=\"1\" class=\"dataframe\">\n",
       "  <thead>\n",
       "    <tr style=\"text-align: right;\">\n",
       "      <th></th>\n",
       "      <th>hour</th>\n",
       "      <th>num_trip</th>\n",
       "      <th>avg_trip</th>\n",
       "    </tr>\n",
       "  </thead>\n",
       "  <tbody>\n",
       "    <tr>\n",
       "      <th>count</th>\n",
       "      <td>24.000000</td>\n",
       "      <td>24.000000</td>\n",
       "      <td>24.000000</td>\n",
       "    </tr>\n",
       "    <tr>\n",
       "      <th>mean</th>\n",
       "      <td>11.500000</td>\n",
       "      <td>167714.875000</td>\n",
       "      <td>1114.152381</td>\n",
       "    </tr>\n",
       "    <tr>\n",
       "      <th>std</th>\n",
       "      <td>7.071068</td>\n",
       "      <td>130111.578125</td>\n",
       "      <td>150.730087</td>\n",
       "    </tr>\n",
       "    <tr>\n",
       "      <th>min</th>\n",
       "      <td>0.000000</td>\n",
       "      <td>8768.000000</td>\n",
       "      <td>809.812170</td>\n",
       "    </tr>\n",
       "    <tr>\n",
       "      <th>25%</th>\n",
       "      <td>5.750000</td>\n",
       "      <td>48245.000000</td>\n",
       "      <td>1044.032480</td>\n",
       "    </tr>\n",
       "    <tr>\n",
       "      <th>50%</th>\n",
       "      <td>11.500000</td>\n",
       "      <td>141842.500000</td>\n",
       "      <td>1127.674908</td>\n",
       "    </tr>\n",
       "    <tr>\n",
       "      <th>75%</th>\n",
       "      <td>17.250000</td>\n",
       "      <td>302344.500000</td>\n",
       "      <td>1224.210420</td>\n",
       "    </tr>\n",
       "    <tr>\n",
       "      <th>max</th>\n",
       "      <td>23.000000</td>\n",
       "      <td>346528.000000</td>\n",
       "      <td>1366.562207</td>\n",
       "    </tr>\n",
       "  </tbody>\n",
       "</table>\n",
       "</div>"
      ],
      "text/plain": [
       "            hour       num_trip     avg_trip\n",
       "count  24.000000      24.000000    24.000000\n",
       "mean   11.500000  167714.875000  1114.152381\n",
       "std     7.071068  130111.578125   150.730087\n",
       "min     0.000000    8768.000000   809.812170\n",
       "25%     5.750000   48245.000000  1044.032480\n",
       "50%    11.500000  141842.500000  1127.674908\n",
       "75%    17.250000  302344.500000  1224.210420\n",
       "max    23.000000  346528.000000  1366.562207"
      ]
     },
     "execution_count": 18,
     "metadata": {},
     "output_type": "execute_result"
    }
   ],
   "source": [
    "trips_by_hour_weekend.describe()"
   ]
  },
  {
   "cell_type": "markdown",
   "metadata": {},
   "source": [
    "### Number of Trips by Hour Bucket for Weekends in 2017\n",
    "\n",
    "Below is a barplot of number of trips broken down by hour of the day for weekdays in 2017. Compared to the barplot for weekday data, the below barplot shows a dramatic departure from the usual work schedule pattern. While there is still a lack of ridership in the early morning, there is a smooth bell shaped curve present, peaking at 3PM. Whether for transit or leisure, Citibike usage over the weekend is most prominent in the midday. "
   ]
  },
  {
   "cell_type": "code",
   "execution_count": 19,
   "metadata": {
    "collapsed": false,
    "scrolled": false
   },
   "outputs": [
    {
     "data": {
      "text/plain": [
       "<matplotlib.axes._subplots.AxesSubplot at 0x1cdefc826d8>"
      ]
     },
     "execution_count": 19,
     "metadata": {},
     "output_type": "execute_result"
    },
    {
     "data": {
      "image/png": "[encoded data removed]",
      "text/plain": [
       "<matplotlib.figure.Figure at 0x1cdee6ff828>"
      ]
     },
     "metadata": {},
     "output_type": "display_data"
    }
   ],
   "source": [
    "trips_by_hour_weekend.plot(x='hour', y='num_trip', kind='bar', figsize=(12,6))"
   ]
  },
  {
   "cell_type": "markdown",
   "metadata": {},
   "source": [
    "### Average Trip Duration by Hour Bucket for Weekends in 2017\n",
    "\n",
    "Below is a barplot of average trip duration broken down by hour of the day for weekdays in 2017. As expressed in the descriptive statistics above, the average trip duration overall for weekend data seems to be higher than that of weekday data. This could be due to Citibike being used more for leisure as opposed to a form of transit for work. There is a minor dip in duration from 6AM to 8AM and a spike in duration at 1AM."
   ]
  },
  {
   "cell_type": "code",
   "execution_count": 20,
   "metadata": {
    "collapsed": false
   },
   "outputs": [
    {
     "data": {
      "text/plain": [
       "<matplotlib.axes._subplots.AxesSubplot at 0x1cdefaea438>"
      ]
     },
     "execution_count": 20,
     "metadata": {},
     "output_type": "execute_result"
    },
    {
     "data": {
      "image/png": "[encoded data removed]",
      "text/plain": [
       "<matplotlib.figure.Figure at 0x1cdefe87550>"
      ]
     },
     "metadata": {},
     "output_type": "display_data"
    }
   ],
   "source": [
    "trips_by_hour_weekend.plot(x='hour', y='avg_trip', kind='bar', figsize=(12,6))"
   ]
  },
  {
   "cell_type": "code",
   "execution_count": null,
   "metadata": {
    "collapsed": true
   },
   "outputs": [],
   "source": []
  }
 ],
 "metadata": {
  "kernelspec": {
   "display_name": "Python [Root]",
   "language": "python",
   "name": "Python [Root]"
  },
  "language_info": {
   "codemirror_mode": {
    "name": "ipython",
    "version": 3
   },
   "file_extension": ".py",
   "mimetype": "text/x-python",
   "name": "python",
   "nbconvert_exporter": "python",
   "pygments_lexer": "ipython3",
   "version": "3.5.2"
  }
 },
 "nbformat": 4,
 "nbformat_minor": 0
}
