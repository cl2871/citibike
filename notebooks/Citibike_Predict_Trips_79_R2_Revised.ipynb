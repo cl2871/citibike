{
 "cells": [
  {
   "cell_type": "markdown",
   "metadata": {},
   "source": [
    "## Citibike Daily Trips Predictions\n",
    "\n",
    "We attempt to predict daily ridership using an ordinary least squares linear regression approach.\n",
    "\n",
    "Disclaimer: there are issues of multicollinearity and the data itself does not lend well to a linear regression approach\n",
    "\n",
    "Tutorials Used:\n",
    "- [Scikit-Learn Linear Regression](http://scikit-learn.org/stable/auto_examples/linear_model/plot_ols.html)\n",
    "- [Digital Ocean Classifier](https://www.digitalocean.com/community/tutorials/how-to-build-a-machine-learning-classifier-in-python-with-scikit-learn)\n",
    "\n",
    "### Setup"
   ]
  },
  {
   "cell_type": "code",
   "execution_count": 1,
   "metadata": {
    "collapsed": false
   },
   "outputs": [],
   "source": [
    "import pandas as pd\n",
    "import seaborn as sns\n",
    "import matplotlib.pyplot as plt\n",
    "import numpy as np\n",
    "from pandas.io import gbq\n",
    "import os\n",
    "import sklearn\n",
    "from IPython.display import display\n",
    "from math import sqrt\n",
    "from datetime import datetime\n",
    "%matplotlib inline"
   ]
  },
  {
   "cell_type": "code",
   "execution_count": 2,
   "metadata": {
    "collapsed": true
   },
   "outputs": [],
   "source": [
    "from sklearn import linear_model\n",
    "from sklearn.preprocessing import MinMaxScaler\n",
    "from sklearn.metrics import mean_squared_error, r2_score\n",
    "from sklearn.model_selection import train_test_split"
   ]
  },
  {
   "cell_type": "code",
   "execution_count": 3,
   "metadata": {
    "collapsed": true
   },
   "outputs": [],
   "source": [
    "project_id = os.environ['project_id']"
   ]
  },
  {
   "cell_type": "markdown",
   "metadata": {},
   "source": [
    "### Daily Trips Query\n",
    "\n",
    "The below query will collect date, aggregate trip, weather, and operating report data. Each row is a date with related information for 1637 days. It is executed using standard SQL syntax on Google BigQuery.\n",
    "\n",
    "Notes:\n",
    "- operating report data such as stations and bicycles is monthly (days of a month will have the same values for these fields)\n",
    "- weather data (temperature, precipitation, and snowfall) will have multicollinearity issues"
   ]
  },
  {
   "cell_type": "code",
   "execution_count": 4,
   "metadata": {
    "collapsed": false,
    "scrolled": true
   },
   "outputs": [
    {
     "name": "stdout",
     "output_type": "stream",
     "text": [
      "Requesting query... ok.\n",
      "Job ID: 5e99611d-575c-4f67-8fda-ae89b66e37c3\n",
      "Query running...\n",
      "Query done.\n",
      "Cache hit.\n",
      "\n",
      "Retrieving results...\n",
      "Got 1637 rows.\n",
      "\n",
      "Total time taken 1.54 s.\n",
      "Finished at 2018-04-11 20:33:30.\n"
     ]
    },
    {
     "data": {
      "text/html": [
       "<div>\n",
       "<style scoped>\n",
       "    .dataframe tbody tr th:only-of-type {\n",
       "        vertical-align: middle;\n",
       "    }\n",
       "\n",
       "    .dataframe tbody tr th {\n",
       "        vertical-align: top;\n",
       "    }\n",
       "\n",
       "    .dataframe thead th {\n",
       "        text-align: right;\n",
       "    }\n",
       "</style>\n",
       "<table border=\"1\" class=\"dataframe\">\n",
       "  <thead>\n",
       "    <tr style=\"text-align: right;\">\n",
       "      <th></th>\n",
       "      <th>trip_date</th>\n",
       "      <th>day_of_week</th>\n",
       "      <th>trip_month</th>\n",
       "      <th>trip_year</th>\n",
       "      <th>num_trip</th>\n",
       "      <th>avg_trip</th>\n",
       "      <th>temp</th>\n",
       "      <th>prec</th>\n",
       "      <th>snowfall</th>\n",
       "      <th>stations</th>\n",
       "      <th>bicycles</th>\n",
       "    </tr>\n",
       "  </thead>\n",
       "  <tbody>\n",
       "    <tr>\n",
       "      <th>0</th>\n",
       "      <td>2013-11-26</td>\n",
       "      <td>3</td>\n",
       "      <td>11</td>\n",
       "      <td>2013</td>\n",
       "      <td>14999</td>\n",
       "      <td>782.459431</td>\n",
       "      <td>36</td>\n",
       "      <td>0.47</td>\n",
       "      <td>0.0</td>\n",
       "      <td>332</td>\n",
       "      <td>5900</td>\n",
       "    </tr>\n",
       "    <tr>\n",
       "      <th>1</th>\n",
       "      <td>2013-11-27</td>\n",
       "      <td>4</td>\n",
       "      <td>11</td>\n",
       "      <td>2013</td>\n",
       "      <td>7976</td>\n",
       "      <td>661.534604</td>\n",
       "      <td>48</td>\n",
       "      <td>1.74</td>\n",
       "      <td>0.0</td>\n",
       "      <td>332</td>\n",
       "      <td>5900</td>\n",
       "    </tr>\n",
       "    <tr>\n",
       "      <th>2</th>\n",
       "      <td>2013-11-07</td>\n",
       "      <td>5</td>\n",
       "      <td>11</td>\n",
       "      <td>2013</td>\n",
       "      <td>25719</td>\n",
       "      <td>712.190132</td>\n",
       "      <td>58</td>\n",
       "      <td>0.08</td>\n",
       "      <td>0.0</td>\n",
       "      <td>332</td>\n",
       "      <td>5900</td>\n",
       "    </tr>\n",
       "    <tr>\n",
       "      <th>3</th>\n",
       "      <td>2013-11-18</td>\n",
       "      <td>2</td>\n",
       "      <td>11</td>\n",
       "      <td>2013</td>\n",
       "      <td>30615</td>\n",
       "      <td>793.150253</td>\n",
       "      <td>60</td>\n",
       "      <td>0.23</td>\n",
       "      <td>0.0</td>\n",
       "      <td>332</td>\n",
       "      <td>5900</td>\n",
       "    </tr>\n",
       "    <tr>\n",
       "      <th>4</th>\n",
       "      <td>2013-11-25</td>\n",
       "      <td>2</td>\n",
       "      <td>11</td>\n",
       "      <td>2013</td>\n",
       "      <td>19116</td>\n",
       "      <td>661.051580</td>\n",
       "      <td>28</td>\n",
       "      <td>0.00</td>\n",
       "      <td>0.0</td>\n",
       "      <td>332</td>\n",
       "      <td>5900</td>\n",
       "    </tr>\n",
       "  </tbody>\n",
       "</table>\n",
       "</div>"
      ],
      "text/plain": [
       "    trip_date  day_of_week  trip_month  trip_year  num_trip    avg_trip  temp  \\\n",
       "0  2013-11-26            3          11       2013     14999  782.459431    36   \n",
       "1  2013-11-27            4          11       2013      7976  661.534604    48   \n",
       "2  2013-11-07            5          11       2013     25719  712.190132    58   \n",
       "3  2013-11-18            2          11       2013     30615  793.150253    60   \n",
       "4  2013-11-25            2          11       2013     19116  661.051580    28   \n",
       "\n",
       "   prec  snowfall  stations  bicycles  \n",
       "0  0.47       0.0       332      5900  \n",
       "1  1.74       0.0       332      5900  \n",
       "2  0.08       0.0       332      5900  \n",
       "3  0.23       0.0       332      5900  \n",
       "4  0.00       0.0       332      5900  "
      ]
     },
     "execution_count": 4,
     "metadata": {},
     "output_type": "execute_result"
    }
   ],
   "source": [
    "trips_weather_stations_by_date_query=\"\"\"\n",
    "# Get date, trip, weather, reports data; join reports data on month-year concatenation\n",
    "SELECT trips_and_weather.*, reports.stations, reports.bicycles\n",
    "FROM\n",
    "  (\n",
    "    # Get date, trip, and weather data; join weather data on date\n",
    "    SELECT trips_by_date.trip_date AS trip_date, EXTRACT(DAYOFWEEK FROM trips_by_date.trip_date) AS day_of_week, \n",
    "      EXTRACT(MONTH FROM trips_by_date.trip_date) AS trip_month, EXTRACT(YEAR FROM trips_by_date.trip_date) AS trip_year,\n",
    "      trips_by_date.num_trip AS num_trip, trips_by_date.avg_trip AS avg_trip, \n",
    "      weather.avg_temperature AS temp, weather.precipitation AS prec, weather.snowfall AS snowfall\n",
    "    FROM\n",
    "      (\n",
    "        # Get aggregate trip data grouped by date\n",
    "        SELECT EXTRACT(DATE FROM starttime) AS trip_date, COUNT(tripduration) AS num_trip, AVG(tripduration) AS avg_trip \n",
    "        FROM\n",
    "          (\n",
    "            (\n",
    "              SELECT starttime, tripduration FROM\n",
    "              `bigquery-public-data.new_york.citibike_trips`\n",
    "            )\n",
    "            UNION ALL\n",
    "            (\n",
    "              SELECT starttime, tripduration FROM\n",
    "              `citibike_tripdata.tripdata_2016_10_to_2017_12`\n",
    "            )\n",
    "            UNION ALL\n",
    "            (\n",
    "              SELECT starttime, tripduration FROM\n",
    "              `citibike_tripdata.tripdata_jc_2015_09_to_2017_12`\n",
    "            )\n",
    "          )\n",
    "        GROUP BY trip_date ORDER BY trip_date\n",
    "      ) AS trips_by_date\n",
    "      \n",
    "    JOIN `weather.laguardia_20130701_20171231` AS weather\n",
    "    ON trips_by_date.trip_date = weather.date\n",
    "  ) AS trips_and_weather\n",
    "  \n",
    "JOIN `operating_reports.reports_2013_07_to_2017_12` AS reports\n",
    "ON CONCAT(CAST(trips_and_weather.trip_month AS STRING), CAST(trips_and_weather.trip_year AS STRING)) \n",
    "  = CONCAT(CAST(EXTRACT(MONTH FROM reports.date) AS STRING), CAST(EXTRACT(YEAR FROM reports.date) AS STRING))\n",
    "\"\"\"\n",
    "\n",
    "trips_weather_stations_by_date = gbq.read_gbq(query=trips_weather_stations_by_date_query, \n",
    "                                              dialect ='standard', project_id=project_id)\n",
    "trips_weather_stations_by_date.head()"
   ]
  },
  {
   "cell_type": "code",
   "execution_count": 5,
   "metadata": {
    "collapsed": false,
    "scrolled": true
   },
   "outputs": [
    {
     "data": {
      "text/plain": [
       "trip_date       object\n",
       "day_of_week      int32\n",
       "trip_month       int32\n",
       "trip_year        int32\n",
       "num_trip         int32\n",
       "avg_trip       float64\n",
       "temp             int32\n",
       "prec           float64\n",
       "snowfall       float64\n",
       "stations         int32\n",
       "bicycles         int32\n",
       "dtype: object"
      ]
     },
     "execution_count": 5,
     "metadata": {},
     "output_type": "execute_result"
    }
   ],
   "source": [
    "trips_weather_stations_by_date.dtypes"
   ]
  },
  {
   "cell_type": "markdown",
   "metadata": {},
   "source": [
    "In the descriptive statistics below, we note a few things. The num_trip field has a standard deviation of 16929.4 daily trips and ranges from 876 to 75,917 daily trips, expressing high variance with ridership. Additionally, the precipitation and snowfall values are typically 0, reflecting no/limited precipitation most of the time. "
   ]
  },
  {
   "cell_type": "code",
   "execution_count": 6,
   "metadata": {
    "collapsed": false,
    "scrolled": true
   },
   "outputs": [
    {
     "data": {
      "text/html": [
       "<div>\n",
       "<style scoped>\n",
       "    .dataframe tbody tr th:only-of-type {\n",
       "        vertical-align: middle;\n",
       "    }\n",
       "\n",
       "    .dataframe tbody tr th {\n",
       "        vertical-align: top;\n",
       "    }\n",
       "\n",
       "    .dataframe thead th {\n",
       "        text-align: right;\n",
       "    }\n",
       "</style>\n",
       "<table border=\"1\" class=\"dataframe\">\n",
       "  <thead>\n",
       "    <tr style=\"text-align: right;\">\n",
       "      <th></th>\n",
       "      <th>day_of_week</th>\n",
       "      <th>trip_month</th>\n",
       "      <th>trip_year</th>\n",
       "      <th>num_trip</th>\n",
       "      <th>avg_trip</th>\n",
       "      <th>temp</th>\n",
       "      <th>prec</th>\n",
       "      <th>snowfall</th>\n",
       "      <th>stations</th>\n",
       "      <th>bicycles</th>\n",
       "    </tr>\n",
       "  </thead>\n",
       "  <tbody>\n",
       "    <tr>\n",
       "      <th>count</th>\n",
       "      <td>1637.000000</td>\n",
       "      <td>1637.000000</td>\n",
       "      <td>1637.000000</td>\n",
       "      <td>1637.000000</td>\n",
       "      <td>1637.000000</td>\n",
       "      <td>1637.000000</td>\n",
       "      <td>1637.000000</td>\n",
       "      <td>1637.000000</td>\n",
       "      <td>1637.000000</td>\n",
       "      <td>1637.000000</td>\n",
       "    </tr>\n",
       "    <tr>\n",
       "      <th>mean</th>\n",
       "      <td>4.001222</td>\n",
       "      <td>6.879658</td>\n",
       "      <td>2015.214417</td>\n",
       "      <td>32902.918143</td>\n",
       "      <td>914.586178</td>\n",
       "      <td>57.227856</td>\n",
       "      <td>0.110574</td>\n",
       "      <td>0.084301</td>\n",
       "      <td>448.080024</td>\n",
       "      <td>6707.524130</td>\n",
       "    </tr>\n",
       "    <tr>\n",
       "      <th>std</th>\n",
       "      <td>2.001527</td>\n",
       "      <td>3.421608</td>\n",
       "      <td>1.315634</td>\n",
       "      <td>16929.402344</td>\n",
       "      <td>210.753427</td>\n",
       "      <td>17.608727</td>\n",
       "      <td>0.324160</td>\n",
       "      <td>0.607485</td>\n",
       "      <td>131.113953</td>\n",
       "      <td>1909.499756</td>\n",
       "    </tr>\n",
       "    <tr>\n",
       "      <th>min</th>\n",
       "      <td>1.000000</td>\n",
       "      <td>1.000000</td>\n",
       "      <td>2013.000000</td>\n",
       "      <td>876.000000</td>\n",
       "      <td>569.723753</td>\n",
       "      <td>8.000000</td>\n",
       "      <td>0.000000</td>\n",
       "      <td>0.000000</td>\n",
       "      <td>319.000000</td>\n",
       "      <td>3457.000000</td>\n",
       "    </tr>\n",
       "    <tr>\n",
       "      <th>25%</th>\n",
       "      <td>2.000000</td>\n",
       "      <td>4.000000</td>\n",
       "      <td>2014.000000</td>\n",
       "      <td>20384.000000</td>\n",
       "      <td>780.936392</td>\n",
       "      <td>44.000000</td>\n",
       "      <td>0.000000</td>\n",
       "      <td>0.000000</td>\n",
       "      <td>327.000000</td>\n",
       "      <td>5362.000000</td>\n",
       "    </tr>\n",
       "    <tr>\n",
       "      <th>50%</th>\n",
       "      <td>4.000000</td>\n",
       "      <td>7.000000</td>\n",
       "      <td>2015.000000</td>\n",
       "      <td>32203.000000</td>\n",
       "      <td>880.166972</td>\n",
       "      <td>59.000000</td>\n",
       "      <td>0.000000</td>\n",
       "      <td>0.000000</td>\n",
       "      <td>442.000000</td>\n",
       "      <td>6628.000000</td>\n",
       "    </tr>\n",
       "    <tr>\n",
       "      <th>75%</th>\n",
       "      <td>6.000000</td>\n",
       "      <td>10.000000</td>\n",
       "      <td>2016.000000</td>\n",
       "      <td>42832.000000</td>\n",
       "      <td>1009.718065</td>\n",
       "      <td>73.000000</td>\n",
       "      <td>0.030000</td>\n",
       "      <td>0.000000</td>\n",
       "      <td>590.000000</td>\n",
       "      <td>8139.000000</td>\n",
       "    </tr>\n",
       "    <tr>\n",
       "      <th>max</th>\n",
       "      <td>7.000000</td>\n",
       "      <td>12.000000</td>\n",
       "      <td>2017.000000</td>\n",
       "      <td>75917.000000</td>\n",
       "      <td>4866.605023</td>\n",
       "      <td>92.000000</td>\n",
       "      <td>5.260000</td>\n",
       "      <td>8.100000</td>\n",
       "      <td>740.000000</td>\n",
       "      <td>11367.000000</td>\n",
       "    </tr>\n",
       "  </tbody>\n",
       "</table>\n",
       "</div>"
      ],
      "text/plain": [
       "       day_of_week   trip_month    trip_year      num_trip     avg_trip  \\\n",
       "count  1637.000000  1637.000000  1637.000000   1637.000000  1637.000000   \n",
       "mean      4.001222     6.879658  2015.214417  32902.918143   914.586178   \n",
       "std       2.001527     3.421608     1.315634  16929.402344   210.753427   \n",
       "min       1.000000     1.000000  2013.000000    876.000000   569.723753   \n",
       "25%       2.000000     4.000000  2014.000000  20384.000000   780.936392   \n",
       "50%       4.000000     7.000000  2015.000000  32203.000000   880.166972   \n",
       "75%       6.000000    10.000000  2016.000000  42832.000000  1009.718065   \n",
       "max       7.000000    12.000000  2017.000000  75917.000000  4866.605023   \n",
       "\n",
       "              temp         prec     snowfall     stations      bicycles  \n",
       "count  1637.000000  1637.000000  1637.000000  1637.000000   1637.000000  \n",
       "mean     57.227856     0.110574     0.084301   448.080024   6707.524130  \n",
       "std      17.608727     0.324160     0.607485   131.113953   1909.499756  \n",
       "min       8.000000     0.000000     0.000000   319.000000   3457.000000  \n",
       "25%      44.000000     0.000000     0.000000   327.000000   5362.000000  \n",
       "50%      59.000000     0.000000     0.000000   442.000000   6628.000000  \n",
       "75%      73.000000     0.030000     0.000000   590.000000   8139.000000  \n",
       "max      92.000000     5.260000     8.100000   740.000000  11367.000000  "
      ]
     },
     "execution_count": 6,
     "metadata": {},
     "output_type": "execute_result"
    }
   ],
   "source": [
    "trips_weather_stations_by_date.describe()"
   ]
  },
  {
   "cell_type": "markdown",
   "metadata": {},
   "source": [
    "### Plot of Daily Trips Over Time\n",
    "\n",
    "Below is a plot of daily trips over time from July 2013 to December 2017. There are noticable trends of general ridership increasing over the years as well as seasonal cycles of peaks during the summer and drops during the winter. These trips may also be affected by holidays and other events, which are not explored in this notebook."
   ]
  },
  {
   "cell_type": "code",
   "execution_count": 7,
   "metadata": {
    "collapsed": false,
    "scrolled": false
   },
   "outputs": [
    {
     "data": {
      "image/png": "[encoded data removed]",
      "text/plain": [
       "<Figure size 1200x600 with 1 Axes>"
      ]
     },
     "metadata": {},
     "output_type": "display_data"
    }
   ],
   "source": [
    "# Alias and sort by trip_date\n",
    "twsbd = trips_weather_stations_by_date\n",
    "twsbd = twsbd.sort_values(by=['trip_date'])\n",
    "\n",
    "plt.figure(figsize=(12,6))\n",
    "\n",
    "plt.plot(twsbd['trip_date'], twsbd['num_trip'], color='blue', linewidth=1)\n",
    "\n",
    "plt.xlabel('Date')\n",
    "plt.ylabel('Trips')\n",
    "\n",
    "plt.show()"
   ]
  },
  {
   "cell_type": "markdown",
   "metadata": {},
   "source": [
    "### Weather Scatterplots\n",
    "\n",
    "Below are scatterplots of daily trips against weather features. \n",
    "\n",
    "For temperature, there is heteroskedasticity, as variability in number of trips increases as temperature rises. At the lower end of the spectrum, colder temperatures seem to discourage ridership, while other factors seem to be more influential at higher temperatures. \n",
    "\n",
    "For precipitation, no precipitation seems to be the normal case with varying daily trips. At higher levels of precipitation, daily trips seem to decrease.\n",
    "\n",
    "Snowfall is similar to precipitation, but with a more pronounced drop in ridership with any presence of snow."
   ]
  },
  {
   "cell_type": "code",
   "execution_count": 8,
   "metadata": {
    "collapsed": false
   },
   "outputs": [
    {
     "data": {
      "image/png": "[encoded data removed]",
      "text/plain": [
       "<Figure size 1000x500 with 1 Axes>"
      ]
     },
     "metadata": {},
     "output_type": "display_data"
    }
   ],
   "source": [
    "plt.figure(figsize=(10,5))\n",
    "\n",
    "plt.scatter(twsbd['temp'], twsbd['num_trip'])\n",
    "\n",
    "plt.xlabel('Temperature')\n",
    "plt.ylabel('Trips')\n",
    "\n",
    "plt.show()"
   ]
  },
  {
   "cell_type": "code",
   "execution_count": 9,
   "metadata": {
    "collapsed": false,
    "scrolled": true
   },
   "outputs": [
    {
     "data": {
      "image/png": "[encoded data removed]",
      "text/plain": [
       "<Figure size 1000x500 with 1 Axes>"
      ]
     },
     "metadata": {},
     "output_type": "display_data"
    }
   ],
   "source": [
    "plt.figure(figsize=(10,5))\n",
    "\n",
    "plt.scatter(twsbd['prec'], twsbd['num_trip'])\n",
    "\n",
    "plt.xlabel('Precipitation')\n",
    "plt.ylabel('Trips')\n",
    "\n",
    "plt.show()"
   ]
  },
  {
   "cell_type": "code",
   "execution_count": 10,
   "metadata": {
    "collapsed": false
   },
   "outputs": [
    {
     "data": {
      "image/png": "[encoded data removed]",
      "text/plain": [
       "<Figure size 1000x500 with 1 Axes>"
      ]
     },
     "metadata": {},
     "output_type": "display_data"
    }
   ],
   "source": [
    "plt.figure(figsize=(10,5))\n",
    "\n",
    "plt.scatter(twsbd['snowfall'], twsbd['num_trip'])\n",
    "\n",
    "plt.xlabel('Snowfall')\n",
    "plt.ylabel('Trips')\n",
    "\n",
    "plt.show()"
   ]
  },
  {
   "cell_type": "markdown",
   "metadata": {},
   "source": [
    "### Cyclical Features\n",
    "\n",
    "Daily trip numbers are affected by the cyclical trends such as the day of the week and month. These features help to capture factors such as the work week and schools being out of session.\n",
    "\n",
    "Since the trip_month and day_of_week variables are on the scale of 1 to 12 and 1 to 7 respectively, our model will not naturally recognize the \"closeness\" of certain values. For instance, December (12) and January (1) will be seen as far apart numerically. In turn, we create sin and cos features for both trip_month and day_of_week variables to compensate for this. \n",
    "\n",
    "References:\n",
    "- [Encoding Cyclical Features](https://ianlondon.github.io/blog/encoding-cyclical-features-24hour-time/)\n",
    "- [Feature Engineering](http://blog.davidkaleko.com/feature-engineering-cyclical-features.html)"
   ]
  },
  {
   "cell_type": "code",
   "execution_count": 11,
   "metadata": {
    "collapsed": false
   },
   "outputs": [],
   "source": [
    "twsbd['month_sin'] = np.sin((twsbd['trip_month'] - 1) * (2.0 * np.pi/12))\n",
    "twsbd['month_cos'] = np.cos((twsbd['trip_month'] - 1) * (2.0 * np.pi/12))"
   ]
  },
  {
   "cell_type": "code",
   "execution_count": 12,
   "metadata": {
    "collapsed": false,
    "scrolled": true
   },
   "outputs": [
    {
     "data": {
      "image/png": "[encoded data removed]",
      "text/plain": [
       "<Figure size 600x400 with 1 Axes>"
      ]
     },
     "metadata": {},
     "output_type": "display_data"
    }
   ],
   "source": [
    "twsbd.plot.scatter('month_sin','month_cos').set_aspect('equal');"
   ]
  },
  {
   "cell_type": "code",
   "execution_count": 13,
   "metadata": {
    "collapsed": true
   },
   "outputs": [],
   "source": [
    "twsbd['day_of_week_sin'] = np.sin((twsbd['day_of_week'] - 1) * (2.0 * np.pi/7))\n",
    "twsbd['day_of_week_cos'] = np.cos((twsbd['day_of_week'] - 1) * (2.0 * np.pi/7))"
   ]
  },
  {
   "cell_type": "code",
   "execution_count": 14,
   "metadata": {
    "collapsed": false,
    "scrolled": false
   },
   "outputs": [
    {
     "data": {
      "image/png": "[encoded data removed]",
      "text/plain": [
       "<Figure size 600x400 with 1 Axes>"
      ]
     },
     "metadata": {},
     "output_type": "display_data"
    }
   ],
   "source": [
    "twsbd.plot.scatter('day_of_week_sin','day_of_week_cos').set_aspect('equal');"
   ]
  },
  {
   "cell_type": "markdown",
   "metadata": {},
   "source": [
    "### Preparing our Model\n",
    "\n",
    "We will utilize a linear model to predict the number of trips (label or y variable) given date, weather, and stations data (features or x variables).\n",
    "\n",
    "We will take our 1637 rows of data and split them into training and testing sets. Our training set will be 67% of our data and the testing set will be the remaining 33%. We seed the number generator with random_state 42 to guarantee the same output for experimentation purposes. \n",
    "\n",
    "- train > training set values for our 8 features \n",
    "- test > testing set values for our 8 features\n",
    "- train_labels > training set values for our label (num_trip)\n",
    "- test_labels > testing set values for our label (num_trip)"
   ]
  },
  {
   "cell_type": "code",
   "execution_count": 15,
   "metadata": {
    "collapsed": false
   },
   "outputs": [],
   "source": [
    "# Organize our data\n",
    "labels = twsbd['num_trip']\n",
    "features = twsbd[['trip_date', 'temp', 'prec', 'snowfall', 'day_of_week_sin', \n",
    "                  'day_of_week_cos', 'month_sin', 'month_cos', 'stations']]\n",
    "# Actual features will exclude trip_date, trip_date used later for visualizations"
   ]
  },
  {
   "cell_type": "code",
   "execution_count": 16,
   "metadata": {
    "collapsed": false,
    "scrolled": true
   },
   "outputs": [
    {
     "data": {
      "text/plain": [
       "(1637, 9)"
      ]
     },
     "execution_count": 16,
     "metadata": {},
     "output_type": "execute_result"
    }
   ],
   "source": [
    "features.shape"
   ]
  },
  {
   "cell_type": "code",
   "execution_count": 17,
   "metadata": {
    "collapsed": false
   },
   "outputs": [
    {
     "name": "stdout",
     "output_type": "stream",
     "text": [
      "Train Shape: (1096, 8) \n",
      "Test Shape: (541, 8)\n"
     ]
    }
   ],
   "source": [
    "train_preprocess, test_preprocess, train_labels, test_labels = train_test_split(features, labels, \n",
    "                                                                                test_size=0.33, random_state=42)\n",
    "train = train_preprocess.drop(columns=['trip_date'])\n",
    "test = test_preprocess.drop(columns=['trip_date'])\n",
    "print('Train Shape:', train.shape, '\\nTest Shape:', test.shape)"
   ]
  },
  {
   "cell_type": "markdown",
   "metadata": {},
   "source": [
    "### Feature Scaling\n",
    "\n",
    "As a data preprocessing step, we scale the values of our features since the ranges of these values can vary widely. Below are histograms of features we plan to scale. Since these features do not have normal distributions, we decide to normalize their values into a (0,1) range (as opposed to standardizing them). \n",
    "\n",
    "Reference:\n",
    "- [Normalize and Standardize](https://machinelearningmastery.com/normalize-standardize-time-series-data-python/)"
   ]
  },
  {
   "cell_type": "code",
   "execution_count": 18,
   "metadata": {
    "collapsed": false,
    "scrolled": true
   },
   "outputs": [
    {
     "data": {
      "text/plain": [
       "<matplotlib.axes._subplots.AxesSubplot at 0x1da50bab9e8>"
      ]
     },
     "execution_count": 18,
     "metadata": {},
     "output_type": "execute_result"
    },
    {
     "data": {
      "image/png": "[encoded data removed]",
      "text/plain": [
       "<Figure size 600x400 with 1 Axes>"
      ]
     },
     "metadata": {},
     "output_type": "display_data"
    }
   ],
   "source": [
    "train['temp'].hist()"
   ]
  },
  {
   "cell_type": "code",
   "execution_count": 19,
   "metadata": {
    "collapsed": false
   },
   "outputs": [
    {
     "data": {
      "text/plain": [
       "<matplotlib.axes._subplots.AxesSubplot at 0x1da50bf1f98>"
      ]
     },
     "execution_count": 19,
     "metadata": {},
     "output_type": "execute_result"
    },
    {
     "data": {
      "image/png": "[encoded data removed]",
      "text/plain": [
       "<Figure size 600x400 with 1 Axes>"
      ]
     },
     "metadata": {},
     "output_type": "display_data"
    }
   ],
   "source": [
    "train['prec'].hist()"
   ]
  },
  {
   "cell_type": "code",
   "execution_count": 20,
   "metadata": {
    "collapsed": false
   },
   "outputs": [
    {
     "data": {
      "text/plain": [
       "<matplotlib.axes._subplots.AxesSubplot at 0x1da50b856d8>"
      ]
     },
     "execution_count": 20,
     "metadata": {},
     "output_type": "execute_result"
    },
    {
     "data": {
      "image/png": "[encoded data removed]",
      "text/plain": [
       "<Figure size 600x400 with 1 Axes>"
      ]
     },
     "metadata": {},
     "output_type": "display_data"
    }
   ],
   "source": [
    "train['snowfall'].hist()"
   ]
  },
  {
   "cell_type": "code",
   "execution_count": 21,
   "metadata": {
    "collapsed": false,
    "scrolled": false
   },
   "outputs": [
    {
     "data": {
      "text/plain": [
       "<matplotlib.axes._subplots.AxesSubplot at 0x1da50c69550>"
      ]
     },
     "execution_count": 21,
     "metadata": {},
     "output_type": "execute_result"
    },
    {
     "data": {
      "image/png": "[encoded data removed]",
      "text/plain": [
       "<Figure size 600x400 with 1 Axes>"
      ]
     },
     "metadata": {},
     "output_type": "display_data"
    }
   ],
   "source": [
    "train['stations'].hist()"
   ]
  },
  {
   "cell_type": "markdown",
   "metadata": {},
   "source": [
    "### Normalizing Data\n",
    "\n",
    "Below is a function definition for normalizing a field. We use scikit-learn's MinMaxScaler and fit the scaler only to field's values in the training set. This scaler object will be used to scale the training and testing set values to the range of (0,1). The old field will be replaced with the new normalized field. "
   ]
  },
  {
   "cell_type": "code",
   "execution_count": 22,
   "metadata": {
    "collapsed": true
   },
   "outputs": [],
   "source": [
    "def normalize_field(train, test, field):\n",
    "    \n",
    "    # Training set field values to be normalized \n",
    "    train_values = train[field].values\n",
    "    train_values = train_values.reshape((len(train_values), 1))  # reshape values into a column of rows\n",
    "\n",
    "    # Create scaler object and normalize training set values\n",
    "    scaler = MinMaxScaler(feature_range=(0, 1))\n",
    "    scaler = scaler.fit(train_values)\n",
    "    train[field + '_normalized'] = scaler.transform(train_values)\n",
    "\n",
    "    display('Min:', scaler.data_min_, 'Max:', scaler.data_max_)\n",
    "    \n",
    "    # Testing set field values to be normalized \n",
    "    test_values = test[field].values\n",
    "    test_values = test_values.reshape((len(test_values), 1))  # reshape values into a column of rows\n",
    "\n",
    "    # Apply scaler fitted to training set values to testing values\n",
    "    test[field + '_normalized'] = scaler.transform(test_values)\n",
    "    \n",
    "    # Drop old field from training and testing sets \n",
    "    train = train.drop(columns=[field])\n",
    "    test = test.drop(columns=[field])\n",
    "    \n",
    "    display(train.head())\n",
    "    display(test.head())\n",
    "    \n",
    "    # returns local copies of train and test to ensure that the given field was dropped properly, see link below\n",
    "    # https://stackoverflow.com/questions/38895768/python-pandas-dataframe-is-it-pass-by-value-or-pass-by-reference\n",
    "    return train, test"
   ]
  },
  {
   "cell_type": "code",
   "execution_count": 23,
   "metadata": {
    "collapsed": false
   },
   "outputs": [
    {
     "name": "stderr",
     "output_type": "stream",
     "text": [
      "C:\\Users\\Chris\\AppData\\Local\\Continuum\\Anaconda3\\lib\\site-packages\\sklearn\\utils\\validation.py:475: DataConversionWarning: Data with input dtype int32 was converted to float64 by MinMaxScaler.\n",
      "  warnings.warn(msg, DataConversionWarning)\n"
     ]
    },
    {
     "data": {
      "text/plain": [
       "'Min:'"
      ]
     },
     "metadata": {},
     "output_type": "display_data"
    },
    {
     "data": {
      "text/plain": [
       "array([8.])"
      ]
     },
     "metadata": {},
     "output_type": "display_data"
    },
    {
     "data": {
      "text/plain": [
       "'Max:'"
      ]
     },
     "metadata": {},
     "output_type": "display_data"
    },
    {
     "data": {
      "text/plain": [
       "array([91.])"
      ]
     },
     "metadata": {},
     "output_type": "display_data"
    },
    {
     "data": {
      "text/html": [
       "<div>\n",
       "<style scoped>\n",
       "    .dataframe tbody tr th:only-of-type {\n",
       "        vertical-align: middle;\n",
       "    }\n",
       "\n",
       "    .dataframe tbody tr th {\n",
       "        vertical-align: top;\n",
       "    }\n",
       "\n",
       "    .dataframe thead th {\n",
       "        text-align: right;\n",
       "    }\n",
       "</style>\n",
       "<table border=\"1\" class=\"dataframe\">\n",
       "  <thead>\n",
       "    <tr style=\"text-align: right;\">\n",
       "      <th></th>\n",
       "      <th>prec</th>\n",
       "      <th>snowfall</th>\n",
       "      <th>day_of_week_sin</th>\n",
       "      <th>day_of_week_cos</th>\n",
       "      <th>month_sin</th>\n",
       "      <th>month_cos</th>\n",
       "      <th>stations</th>\n",
       "      <th>temp_normalized</th>\n",
       "    </tr>\n",
       "  </thead>\n",
       "  <tbody>\n",
       "    <tr>\n",
       "      <th>1338</th>\n",
       "      <td>1.22</td>\n",
       "      <td>0.0</td>\n",
       "      <td>0.781831</td>\n",
       "      <td>0.623490</td>\n",
       "      <td>5.000000e-01</td>\n",
       "      <td>-0.866025</td>\n",
       "      <td>608</td>\n",
       "      <td>0.843373</td>\n",
       "    </tr>\n",
       "    <tr>\n",
       "      <th>190</th>\n",
       "      <td>0.00</td>\n",
       "      <td>0.0</td>\n",
       "      <td>0.781831</td>\n",
       "      <td>0.623490</td>\n",
       "      <td>8.660254e-01</td>\n",
       "      <td>-0.500000</td>\n",
       "      <td>327</td>\n",
       "      <td>0.602410</td>\n",
       "    </tr>\n",
       "    <tr>\n",
       "      <th>452</th>\n",
       "      <td>0.00</td>\n",
       "      <td>0.0</td>\n",
       "      <td>-0.433884</td>\n",
       "      <td>-0.900969</td>\n",
       "      <td>-8.660254e-01</td>\n",
       "      <td>-0.500000</td>\n",
       "      <td>325</td>\n",
       "      <td>0.843373</td>\n",
       "    </tr>\n",
       "    <tr>\n",
       "      <th>239</th>\n",
       "      <td>0.00</td>\n",
       "      <td>0.0</td>\n",
       "      <td>0.000000</td>\n",
       "      <td>1.000000</td>\n",
       "      <td>1.224647e-16</td>\n",
       "      <td>-1.000000</td>\n",
       "      <td>323</td>\n",
       "      <td>0.843373</td>\n",
       "    </tr>\n",
       "    <tr>\n",
       "      <th>869</th>\n",
       "      <td>0.00</td>\n",
       "      <td>0.0</td>\n",
       "      <td>0.000000</td>\n",
       "      <td>1.000000</td>\n",
       "      <td>8.660254e-01</td>\n",
       "      <td>-0.500000</td>\n",
       "      <td>319</td>\n",
       "      <td>0.698795</td>\n",
       "    </tr>\n",
       "  </tbody>\n",
       "</table>\n",
       "</div>"
      ],
      "text/plain": [
       "      prec  snowfall  day_of_week_sin  day_of_week_cos     month_sin  \\\n",
       "1338  1.22       0.0         0.781831         0.623490  5.000000e-01   \n",
       "190   0.00       0.0         0.781831         0.623490  8.660254e-01   \n",
       "452   0.00       0.0        -0.433884        -0.900969 -8.660254e-01   \n",
       "239   0.00       0.0         0.000000         1.000000  1.224647e-16   \n",
       "869   0.00       0.0         0.000000         1.000000  8.660254e-01   \n",
       "\n",
       "      month_cos  stations  temp_normalized  \n",
       "1338  -0.866025       608         0.843373  \n",
       "190   -0.500000       327         0.602410  \n",
       "452   -0.500000       325         0.843373  \n",
       "239   -1.000000       323         0.843373  \n",
       "869   -0.500000       319         0.698795  "
      ]
     },
     "metadata": {},
     "output_type": "display_data"
    },
    {
     "data": {
      "text/html": [
       "<div>\n",
       "<style scoped>\n",
       "    .dataframe tbody tr th:only-of-type {\n",
       "        vertical-align: middle;\n",
       "    }\n",
       "\n",
       "    .dataframe tbody tr th {\n",
       "        vertical-align: top;\n",
       "    }\n",
       "\n",
       "    .dataframe thead th {\n",
       "        text-align: right;\n",
       "    }\n",
       "</style>\n",
       "<table border=\"1\" class=\"dataframe\">\n",
       "  <thead>\n",
       "    <tr style=\"text-align: right;\">\n",
       "      <th></th>\n",
       "      <th>prec</th>\n",
       "      <th>snowfall</th>\n",
       "      <th>day_of_week_sin</th>\n",
       "      <th>day_of_week_cos</th>\n",
       "      <th>month_sin</th>\n",
       "      <th>month_cos</th>\n",
       "      <th>stations</th>\n",
       "      <th>temp_normalized</th>\n",
       "    </tr>\n",
       "  </thead>\n",
       "  <tbody>\n",
       "    <tr>\n",
       "      <th>879</th>\n",
       "      <td>0.01</td>\n",
       "      <td>0.0</td>\n",
       "      <td>-0.781831</td>\n",
       "      <td>0.623490</td>\n",
       "      <td>0.866025</td>\n",
       "      <td>-0.500000</td>\n",
       "      <td>319</td>\n",
       "      <td>0.602410</td>\n",
       "    </tr>\n",
       "    <tr>\n",
       "      <th>1406</th>\n",
       "      <td>0.00</td>\n",
       "      <td>0.0</td>\n",
       "      <td>0.974928</td>\n",
       "      <td>-0.222521</td>\n",
       "      <td>-0.866025</td>\n",
       "      <td>0.500000</td>\n",
       "      <td>729</td>\n",
       "      <td>0.421687</td>\n",
       "    </tr>\n",
       "    <tr>\n",
       "      <th>988</th>\n",
       "      <td>0.00</td>\n",
       "      <td>0.0</td>\n",
       "      <td>0.974928</td>\n",
       "      <td>-0.222521</td>\n",
       "      <td>0.866025</td>\n",
       "      <td>0.500000</td>\n",
       "      <td>469</td>\n",
       "      <td>0.481928</td>\n",
       "    </tr>\n",
       "    <tr>\n",
       "      <th>649</th>\n",
       "      <td>0.00</td>\n",
       "      <td>0.0</td>\n",
       "      <td>-0.781831</td>\n",
       "      <td>0.623490</td>\n",
       "      <td>0.500000</td>\n",
       "      <td>0.866025</td>\n",
       "      <td>328</td>\n",
       "      <td>0.168675</td>\n",
       "    </tr>\n",
       "    <tr>\n",
       "      <th>1493</th>\n",
       "      <td>0.00</td>\n",
       "      <td>0.0</td>\n",
       "      <td>0.781831</td>\n",
       "      <td>0.623490</td>\n",
       "      <td>0.866025</td>\n",
       "      <td>-0.500000</td>\n",
       "      <td>605</td>\n",
       "      <td>0.578313</td>\n",
       "    </tr>\n",
       "  </tbody>\n",
       "</table>\n",
       "</div>"
      ],
      "text/plain": [
       "      prec  snowfall  day_of_week_sin  day_of_week_cos  month_sin  month_cos  \\\n",
       "879   0.01       0.0        -0.781831         0.623490   0.866025  -0.500000   \n",
       "1406  0.00       0.0         0.974928        -0.222521  -0.866025   0.500000   \n",
       "988   0.00       0.0         0.974928        -0.222521   0.866025   0.500000   \n",
       "649   0.00       0.0        -0.781831         0.623490   0.500000   0.866025   \n",
       "1493  0.00       0.0         0.781831         0.623490   0.866025  -0.500000   \n",
       "\n",
       "      stations  temp_normalized  \n",
       "879        319         0.602410  \n",
       "1406       729         0.421687  \n",
       "988        469         0.481928  \n",
       "649        328         0.168675  \n",
       "1493       605         0.578313  "
      ]
     },
     "metadata": {},
     "output_type": "display_data"
    }
   ],
   "source": [
    "train, test = normalize_field(train, test, 'temp')"
   ]
  },
  {
   "cell_type": "code",
   "execution_count": 24,
   "metadata": {
    "collapsed": false,
    "scrolled": false
   },
   "outputs": [
    {
     "data": {
      "text/plain": [
       "'Min:'"
      ]
     },
     "metadata": {},
     "output_type": "display_data"
    },
    {
     "data": {
      "text/plain": [
       "array([0.])"
      ]
     },
     "metadata": {},
     "output_type": "display_data"
    },
    {
     "data": {
      "text/plain": [
       "'Max:'"
      ]
     },
     "metadata": {},
     "output_type": "display_data"
    },
    {
     "data": {
      "text/plain": [
       "array([2.78])"
      ]
     },
     "metadata": {},
     "output_type": "display_data"
    },
    {
     "data": {
      "text/html": [
       "<div>\n",
       "<style scoped>\n",
       "    .dataframe tbody tr th:only-of-type {\n",
       "        vertical-align: middle;\n",
       "    }\n",
       "\n",
       "    .dataframe tbody tr th {\n",
       "        vertical-align: top;\n",
       "    }\n",
       "\n",
       "    .dataframe thead th {\n",
       "        text-align: right;\n",
       "    }\n",
       "</style>\n",
       "<table border=\"1\" class=\"dataframe\">\n",
       "  <thead>\n",
       "    <tr style=\"text-align: right;\">\n",
       "      <th></th>\n",
       "      <th>snowfall</th>\n",
       "      <th>day_of_week_sin</th>\n",
       "      <th>day_of_week_cos</th>\n",
       "      <th>month_sin</th>\n",
       "      <th>month_cos</th>\n",
       "      <th>stations</th>\n",
       "      <th>temp_normalized</th>\n",
       "      <th>prec_normalized</th>\n",
       "    </tr>\n",
       "  </thead>\n",
       "  <tbody>\n",
       "    <tr>\n",
       "      <th>1338</th>\n",
       "      <td>0.0</td>\n",
       "      <td>0.781831</td>\n",
       "      <td>0.623490</td>\n",
       "      <td>5.000000e-01</td>\n",
       "      <td>-0.866025</td>\n",
       "      <td>608</td>\n",
       "      <td>0.843373</td>\n",
       "      <td>0.438849</td>\n",
       "    </tr>\n",
       "    <tr>\n",
       "      <th>190</th>\n",
       "      <td>0.0</td>\n",
       "      <td>0.781831</td>\n",
       "      <td>0.623490</td>\n",
       "      <td>8.660254e-01</td>\n",
       "      <td>-0.500000</td>\n",
       "      <td>327</td>\n",
       "      <td>0.602410</td>\n",
       "      <td>0.000000</td>\n",
       "    </tr>\n",
       "    <tr>\n",
       "      <th>452</th>\n",
       "      <td>0.0</td>\n",
       "      <td>-0.433884</td>\n",
       "      <td>-0.900969</td>\n",
       "      <td>-8.660254e-01</td>\n",
       "      <td>-0.500000</td>\n",
       "      <td>325</td>\n",
       "      <td>0.843373</td>\n",
       "      <td>0.000000</td>\n",
       "    </tr>\n",
       "    <tr>\n",
       "      <th>239</th>\n",
       "      <td>0.0</td>\n",
       "      <td>0.000000</td>\n",
       "      <td>1.000000</td>\n",
       "      <td>1.224647e-16</td>\n",
       "      <td>-1.000000</td>\n",
       "      <td>323</td>\n",
       "      <td>0.843373</td>\n",
       "      <td>0.000000</td>\n",
       "    </tr>\n",
       "    <tr>\n",
       "      <th>869</th>\n",
       "      <td>0.0</td>\n",
       "      <td>0.000000</td>\n",
       "      <td>1.000000</td>\n",
       "      <td>8.660254e-01</td>\n",
       "      <td>-0.500000</td>\n",
       "      <td>319</td>\n",
       "      <td>0.698795</td>\n",
       "      <td>0.000000</td>\n",
       "    </tr>\n",
       "  </tbody>\n",
       "</table>\n",
       "</div>"
      ],
      "text/plain": [
       "      snowfall  day_of_week_sin  day_of_week_cos     month_sin  month_cos  \\\n",
       "1338       0.0         0.781831         0.623490  5.000000e-01  -0.866025   \n",
       "190        0.0         0.781831         0.623490  8.660254e-01  -0.500000   \n",
       "452        0.0        -0.433884        -0.900969 -8.660254e-01  -0.500000   \n",
       "239        0.0         0.000000         1.000000  1.224647e-16  -1.000000   \n",
       "869        0.0         0.000000         1.000000  8.660254e-01  -0.500000   \n",
       "\n",
       "      stations  temp_normalized  prec_normalized  \n",
       "1338       608         0.843373         0.438849  \n",
       "190        327         0.602410         0.000000  \n",
       "452        325         0.843373         0.000000  \n",
       "239        323         0.843373         0.000000  \n",
       "869        319         0.698795         0.000000  "
      ]
     },
     "metadata": {},
     "output_type": "display_data"
    },
    {
     "data": {
      "text/html": [
       "<div>\n",
       "<style scoped>\n",
       "    .dataframe tbody tr th:only-of-type {\n",
       "        vertical-align: middle;\n",
       "    }\n",
       "\n",
       "    .dataframe tbody tr th {\n",
       "        vertical-align: top;\n",
       "    }\n",
       "\n",
       "    .dataframe thead th {\n",
       "        text-align: right;\n",
       "    }\n",
       "</style>\n",
       "<table border=\"1\" class=\"dataframe\">\n",
       "  <thead>\n",
       "    <tr style=\"text-align: right;\">\n",
       "      <th></th>\n",
       "      <th>snowfall</th>\n",
       "      <th>day_of_week_sin</th>\n",
       "      <th>day_of_week_cos</th>\n",
       "      <th>month_sin</th>\n",
       "      <th>month_cos</th>\n",
       "      <th>stations</th>\n",
       "      <th>temp_normalized</th>\n",
       "      <th>prec_normalized</th>\n",
       "    </tr>\n",
       "  </thead>\n",
       "  <tbody>\n",
       "    <tr>\n",
       "      <th>879</th>\n",
       "      <td>0.0</td>\n",
       "      <td>-0.781831</td>\n",
       "      <td>0.623490</td>\n",
       "      <td>0.866025</td>\n",
       "      <td>-0.500000</td>\n",
       "      <td>319</td>\n",
       "      <td>0.602410</td>\n",
       "      <td>0.003597</td>\n",
       "    </tr>\n",
       "    <tr>\n",
       "      <th>1406</th>\n",
       "      <td>0.0</td>\n",
       "      <td>0.974928</td>\n",
       "      <td>-0.222521</td>\n",
       "      <td>-0.866025</td>\n",
       "      <td>0.500000</td>\n",
       "      <td>729</td>\n",
       "      <td>0.421687</td>\n",
       "      <td>0.000000</td>\n",
       "    </tr>\n",
       "    <tr>\n",
       "      <th>988</th>\n",
       "      <td>0.0</td>\n",
       "      <td>0.974928</td>\n",
       "      <td>-0.222521</td>\n",
       "      <td>0.866025</td>\n",
       "      <td>0.500000</td>\n",
       "      <td>469</td>\n",
       "      <td>0.481928</td>\n",
       "      <td>0.000000</td>\n",
       "    </tr>\n",
       "    <tr>\n",
       "      <th>649</th>\n",
       "      <td>0.0</td>\n",
       "      <td>-0.781831</td>\n",
       "      <td>0.623490</td>\n",
       "      <td>0.500000</td>\n",
       "      <td>0.866025</td>\n",
       "      <td>328</td>\n",
       "      <td>0.168675</td>\n",
       "      <td>0.000000</td>\n",
       "    </tr>\n",
       "    <tr>\n",
       "      <th>1493</th>\n",
       "      <td>0.0</td>\n",
       "      <td>0.781831</td>\n",
       "      <td>0.623490</td>\n",
       "      <td>0.866025</td>\n",
       "      <td>-0.500000</td>\n",
       "      <td>605</td>\n",
       "      <td>0.578313</td>\n",
       "      <td>0.000000</td>\n",
       "    </tr>\n",
       "  </tbody>\n",
       "</table>\n",
       "</div>"
      ],
      "text/plain": [
       "      snowfall  day_of_week_sin  day_of_week_cos  month_sin  month_cos  \\\n",
       "879        0.0        -0.781831         0.623490   0.866025  -0.500000   \n",
       "1406       0.0         0.974928        -0.222521  -0.866025   0.500000   \n",
       "988        0.0         0.974928        -0.222521   0.866025   0.500000   \n",
       "649        0.0        -0.781831         0.623490   0.500000   0.866025   \n",
       "1493       0.0         0.781831         0.623490   0.866025  -0.500000   \n",
       "\n",
       "      stations  temp_normalized  prec_normalized  \n",
       "879        319         0.602410         0.003597  \n",
       "1406       729         0.421687         0.000000  \n",
       "988        469         0.481928         0.000000  \n",
       "649        328         0.168675         0.000000  \n",
       "1493       605         0.578313         0.000000  "
      ]
     },
     "metadata": {},
     "output_type": "display_data"
    }
   ],
   "source": [
    "train, test = normalize_field(train, test, 'prec')"
   ]
  },
  {
   "cell_type": "code",
   "execution_count": 25,
   "metadata": {
    "collapsed": false
   },
   "outputs": [
    {
     "data": {
      "text/plain": [
       "'Min:'"
      ]
     },
     "metadata": {},
     "output_type": "display_data"
    },
    {
     "data": {
      "text/plain": [
       "array([0.])"
      ]
     },
     "metadata": {},
     "output_type": "display_data"
    },
    {
     "data": {
      "text/plain": [
       "'Max:'"
      ]
     },
     "metadata": {},
     "output_type": "display_data"
    },
    {
     "data": {
      "text/plain": [
       "array([8.1])"
      ]
     },
     "metadata": {},
     "output_type": "display_data"
    },
    {
     "data": {
      "text/html": [
       "<div>\n",
       "<style scoped>\n",
       "    .dataframe tbody tr th:only-of-type {\n",
       "        vertical-align: middle;\n",
       "    }\n",
       "\n",
       "    .dataframe tbody tr th {\n",
       "        vertical-align: top;\n",
       "    }\n",
       "\n",
       "    .dataframe thead th {\n",
       "        text-align: right;\n",
       "    }\n",
       "</style>\n",
       "<table border=\"1\" class=\"dataframe\">\n",
       "  <thead>\n",
       "    <tr style=\"text-align: right;\">\n",
       "      <th></th>\n",
       "      <th>day_of_week_sin</th>\n",
       "      <th>day_of_week_cos</th>\n",
       "      <th>month_sin</th>\n",
       "      <th>month_cos</th>\n",
       "      <th>stations</th>\n",
       "      <th>temp_normalized</th>\n",
       "      <th>prec_normalized</th>\n",
       "      <th>snowfall_normalized</th>\n",
       "    </tr>\n",
       "  </thead>\n",
       "  <tbody>\n",
       "    <tr>\n",
       "      <th>1338</th>\n",
       "      <td>0.781831</td>\n",
       "      <td>0.623490</td>\n",
       "      <td>5.000000e-01</td>\n",
       "      <td>-0.866025</td>\n",
       "      <td>608</td>\n",
       "      <td>0.843373</td>\n",
       "      <td>0.438849</td>\n",
       "      <td>0.0</td>\n",
       "    </tr>\n",
       "    <tr>\n",
       "      <th>190</th>\n",
       "      <td>0.781831</td>\n",
       "      <td>0.623490</td>\n",
       "      <td>8.660254e-01</td>\n",
       "      <td>-0.500000</td>\n",
       "      <td>327</td>\n",
       "      <td>0.602410</td>\n",
       "      <td>0.000000</td>\n",
       "      <td>0.0</td>\n",
       "    </tr>\n",
       "    <tr>\n",
       "      <th>452</th>\n",
       "      <td>-0.433884</td>\n",
       "      <td>-0.900969</td>\n",
       "      <td>-8.660254e-01</td>\n",
       "      <td>-0.500000</td>\n",
       "      <td>325</td>\n",
       "      <td>0.843373</td>\n",
       "      <td>0.000000</td>\n",
       "      <td>0.0</td>\n",
       "    </tr>\n",
       "    <tr>\n",
       "      <th>239</th>\n",
       "      <td>0.000000</td>\n",
       "      <td>1.000000</td>\n",
       "      <td>1.224647e-16</td>\n",
       "      <td>-1.000000</td>\n",
       "      <td>323</td>\n",
       "      <td>0.843373</td>\n",
       "      <td>0.000000</td>\n",
       "      <td>0.0</td>\n",
       "    </tr>\n",
       "    <tr>\n",
       "      <th>869</th>\n",
       "      <td>0.000000</td>\n",
       "      <td>1.000000</td>\n",
       "      <td>8.660254e-01</td>\n",
       "      <td>-0.500000</td>\n",
       "      <td>319</td>\n",
       "      <td>0.698795</td>\n",
       "      <td>0.000000</td>\n",
       "      <td>0.0</td>\n",
       "    </tr>\n",
       "  </tbody>\n",
       "</table>\n",
       "</div>"
      ],
      "text/plain": [
       "      day_of_week_sin  day_of_week_cos     month_sin  month_cos  stations  \\\n",
       "1338         0.781831         0.623490  5.000000e-01  -0.866025       608   \n",
       "190          0.781831         0.623490  8.660254e-01  -0.500000       327   \n",
       "452         -0.433884        -0.900969 -8.660254e-01  -0.500000       325   \n",
       "239          0.000000         1.000000  1.224647e-16  -1.000000       323   \n",
       "869          0.000000         1.000000  8.660254e-01  -0.500000       319   \n",
       "\n",
       "      temp_normalized  prec_normalized  snowfall_normalized  \n",
       "1338         0.843373         0.438849                  0.0  \n",
       "190          0.602410         0.000000                  0.0  \n",
       "452          0.843373         0.000000                  0.0  \n",
       "239          0.843373         0.000000                  0.0  \n",
       "869          0.698795         0.000000                  0.0  "
      ]
     },
     "metadata": {},
     "output_type": "display_data"
    },
    {
     "data": {
      "text/html": [
       "<div>\n",
       "<style scoped>\n",
       "    .dataframe tbody tr th:only-of-type {\n",
       "        vertical-align: middle;\n",
       "    }\n",
       "\n",
       "    .dataframe tbody tr th {\n",
       "        vertical-align: top;\n",
       "    }\n",
       "\n",
       "    .dataframe thead th {\n",
       "        text-align: right;\n",
       "    }\n",
       "</style>\n",
       "<table border=\"1\" class=\"dataframe\">\n",
       "  <thead>\n",
       "    <tr style=\"text-align: right;\">\n",
       "      <th></th>\n",
       "      <th>day_of_week_sin</th>\n",
       "      <th>day_of_week_cos</th>\n",
       "      <th>month_sin</th>\n",
       "      <th>month_cos</th>\n",
       "      <th>stations</th>\n",
       "      <th>temp_normalized</th>\n",
       "      <th>prec_normalized</th>\n",
       "      <th>snowfall_normalized</th>\n",
       "    </tr>\n",
       "  </thead>\n",
       "  <tbody>\n",
       "    <tr>\n",
       "      <th>879</th>\n",
       "      <td>-0.781831</td>\n",
       "      <td>0.623490</td>\n",
       "      <td>0.866025</td>\n",
       "      <td>-0.500000</td>\n",
       "      <td>319</td>\n",
       "      <td>0.602410</td>\n",
       "      <td>0.003597</td>\n",
       "      <td>0.0</td>\n",
       "    </tr>\n",
       "    <tr>\n",
       "      <th>1406</th>\n",
       "      <td>0.974928</td>\n",
       "      <td>-0.222521</td>\n",
       "      <td>-0.866025</td>\n",
       "      <td>0.500000</td>\n",
       "      <td>729</td>\n",
       "      <td>0.421687</td>\n",
       "      <td>0.000000</td>\n",
       "      <td>0.0</td>\n",
       "    </tr>\n",
       "    <tr>\n",
       "      <th>988</th>\n",
       "      <td>0.974928</td>\n",
       "      <td>-0.222521</td>\n",
       "      <td>0.866025</td>\n",
       "      <td>0.500000</td>\n",
       "      <td>469</td>\n",
       "      <td>0.481928</td>\n",
       "      <td>0.000000</td>\n",
       "      <td>0.0</td>\n",
       "    </tr>\n",
       "    <tr>\n",
       "      <th>649</th>\n",
       "      <td>-0.781831</td>\n",
       "      <td>0.623490</td>\n",
       "      <td>0.500000</td>\n",
       "      <td>0.866025</td>\n",
       "      <td>328</td>\n",
       "      <td>0.168675</td>\n",
       "      <td>0.000000</td>\n",
       "      <td>0.0</td>\n",
       "    </tr>\n",
       "    <tr>\n",
       "      <th>1493</th>\n",
       "      <td>0.781831</td>\n",
       "      <td>0.623490</td>\n",
       "      <td>0.866025</td>\n",
       "      <td>-0.500000</td>\n",
       "      <td>605</td>\n",
       "      <td>0.578313</td>\n",
       "      <td>0.000000</td>\n",
       "      <td>0.0</td>\n",
       "    </tr>\n",
       "  </tbody>\n",
       "</table>\n",
       "</div>"
      ],
      "text/plain": [
       "      day_of_week_sin  day_of_week_cos  month_sin  month_cos  stations  \\\n",
       "879         -0.781831         0.623490   0.866025  -0.500000       319   \n",
       "1406         0.974928        -0.222521  -0.866025   0.500000       729   \n",
       "988          0.974928        -0.222521   0.866025   0.500000       469   \n",
       "649         -0.781831         0.623490   0.500000   0.866025       328   \n",
       "1493         0.781831         0.623490   0.866025  -0.500000       605   \n",
       "\n",
       "      temp_normalized  prec_normalized  snowfall_normalized  \n",
       "879          0.602410         0.003597                  0.0  \n",
       "1406         0.421687         0.000000                  0.0  \n",
       "988          0.481928         0.000000                  0.0  \n",
       "649          0.168675         0.000000                  0.0  \n",
       "1493         0.578313         0.000000                  0.0  "
      ]
     },
     "metadata": {},
     "output_type": "display_data"
    }
   ],
   "source": [
    "train, test = normalize_field(train, test, 'snowfall')"
   ]
  },
  {
   "cell_type": "code",
   "execution_count": 26,
   "metadata": {
    "collapsed": false,
    "scrolled": false
   },
   "outputs": [
    {
     "name": "stderr",
     "output_type": "stream",
     "text": [
      "C:\\Users\\Chris\\AppData\\Local\\Continuum\\Anaconda3\\lib\\site-packages\\sklearn\\utils\\validation.py:475: DataConversionWarning: Data with input dtype int32 was converted to float64 by MinMaxScaler.\n",
      "  warnings.warn(msg, DataConversionWarning)\n"
     ]
    },
    {
     "data": {
      "text/plain": [
       "'Min:'"
      ]
     },
     "metadata": {},
     "output_type": "display_data"
    },
    {
     "data": {
      "text/plain": [
       "array([319.])"
      ]
     },
     "metadata": {},
     "output_type": "display_data"
    },
    {
     "data": {
      "text/plain": [
       "'Max:'"
      ]
     },
     "metadata": {},
     "output_type": "display_data"
    },
    {
     "data": {
      "text/plain": [
       "array([740.])"
      ]
     },
     "metadata": {},
     "output_type": "display_data"
    },
    {
     "data": {
      "text/html": [
       "<div>\n",
       "<style scoped>\n",
       "    .dataframe tbody tr th:only-of-type {\n",
       "        vertical-align: middle;\n",
       "    }\n",
       "\n",
       "    .dataframe tbody tr th {\n",
       "        vertical-align: top;\n",
       "    }\n",
       "\n",
       "    .dataframe thead th {\n",
       "        text-align: right;\n",
       "    }\n",
       "</style>\n",
       "<table border=\"1\" class=\"dataframe\">\n",
       "  <thead>\n",
       "    <tr style=\"text-align: right;\">\n",
       "      <th></th>\n",
       "      <th>day_of_week_sin</th>\n",
       "      <th>day_of_week_cos</th>\n",
       "      <th>month_sin</th>\n",
       "      <th>month_cos</th>\n",
       "      <th>temp_normalized</th>\n",
       "      <th>prec_normalized</th>\n",
       "      <th>snowfall_normalized</th>\n",
       "      <th>stations_normalized</th>\n",
       "    </tr>\n",
       "  </thead>\n",
       "  <tbody>\n",
       "    <tr>\n",
       "      <th>1338</th>\n",
       "      <td>0.781831</td>\n",
       "      <td>0.623490</td>\n",
       "      <td>5.000000e-01</td>\n",
       "      <td>-0.866025</td>\n",
       "      <td>0.843373</td>\n",
       "      <td>0.438849</td>\n",
       "      <td>0.0</td>\n",
       "      <td>0.686461</td>\n",
       "    </tr>\n",
       "    <tr>\n",
       "      <th>190</th>\n",
       "      <td>0.781831</td>\n",
       "      <td>0.623490</td>\n",
       "      <td>8.660254e-01</td>\n",
       "      <td>-0.500000</td>\n",
       "      <td>0.602410</td>\n",
       "      <td>0.000000</td>\n",
       "      <td>0.0</td>\n",
       "      <td>0.019002</td>\n",
       "    </tr>\n",
       "    <tr>\n",
       "      <th>452</th>\n",
       "      <td>-0.433884</td>\n",
       "      <td>-0.900969</td>\n",
       "      <td>-8.660254e-01</td>\n",
       "      <td>-0.500000</td>\n",
       "      <td>0.843373</td>\n",
       "      <td>0.000000</td>\n",
       "      <td>0.0</td>\n",
       "      <td>0.014252</td>\n",
       "    </tr>\n",
       "    <tr>\n",
       "      <th>239</th>\n",
       "      <td>0.000000</td>\n",
       "      <td>1.000000</td>\n",
       "      <td>1.224647e-16</td>\n",
       "      <td>-1.000000</td>\n",
       "      <td>0.843373</td>\n",
       "      <td>0.000000</td>\n",
       "      <td>0.0</td>\n",
       "      <td>0.009501</td>\n",
       "    </tr>\n",
       "    <tr>\n",
       "      <th>869</th>\n",
       "      <td>0.000000</td>\n",
       "      <td>1.000000</td>\n",
       "      <td>8.660254e-01</td>\n",
       "      <td>-0.500000</td>\n",
       "      <td>0.698795</td>\n",
       "      <td>0.000000</td>\n",
       "      <td>0.0</td>\n",
       "      <td>0.000000</td>\n",
       "    </tr>\n",
       "  </tbody>\n",
       "</table>\n",
       "</div>"
      ],
      "text/plain": [
       "      day_of_week_sin  day_of_week_cos     month_sin  month_cos  \\\n",
       "1338         0.781831         0.623490  5.000000e-01  -0.866025   \n",
       "190          0.781831         0.623490  8.660254e-01  -0.500000   \n",
       "452         -0.433884        -0.900969 -8.660254e-01  -0.500000   \n",
       "239          0.000000         1.000000  1.224647e-16  -1.000000   \n",
       "869          0.000000         1.000000  8.660254e-01  -0.500000   \n",
       "\n",
       "      temp_normalized  prec_normalized  snowfall_normalized  \\\n",
       "1338         0.843373         0.438849                  0.0   \n",
       "190          0.602410         0.000000                  0.0   \n",
       "452          0.843373         0.000000                  0.0   \n",
       "239          0.843373         0.000000                  0.0   \n",
       "869          0.698795         0.000000                  0.0   \n",
       "\n",
       "      stations_normalized  \n",
       "1338             0.686461  \n",
       "190              0.019002  \n",
       "452              0.014252  \n",
       "239              0.009501  \n",
       "869              0.000000  "
      ]
     },
     "metadata": {},
     "output_type": "display_data"
    },
    {
     "data": {
      "text/html": [
       "<div>\n",
       "<style scoped>\n",
       "    .dataframe tbody tr th:only-of-type {\n",
       "        vertical-align: middle;\n",
       "    }\n",
       "\n",
       "    .dataframe tbody tr th {\n",
       "        vertical-align: top;\n",
       "    }\n",
       "\n",
       "    .dataframe thead th {\n",
       "        text-align: right;\n",
       "    }\n",
       "</style>\n",
       "<table border=\"1\" class=\"dataframe\">\n",
       "  <thead>\n",
       "    <tr style=\"text-align: right;\">\n",
       "      <th></th>\n",
       "      <th>day_of_week_sin</th>\n",
       "      <th>day_of_week_cos</th>\n",
       "      <th>month_sin</th>\n",
       "      <th>month_cos</th>\n",
       "      <th>temp_normalized</th>\n",
       "      <th>prec_normalized</th>\n",
       "      <th>snowfall_normalized</th>\n",
       "      <th>stations_normalized</th>\n",
       "    </tr>\n",
       "  </thead>\n",
       "  <tbody>\n",
       "    <tr>\n",
       "      <th>879</th>\n",
       "      <td>-0.781831</td>\n",
       "      <td>0.623490</td>\n",
       "      <td>0.866025</td>\n",
       "      <td>-0.500000</td>\n",
       "      <td>0.602410</td>\n",
       "      <td>0.003597</td>\n",
       "      <td>0.0</td>\n",
       "      <td>0.000000</td>\n",
       "    </tr>\n",
       "    <tr>\n",
       "      <th>1406</th>\n",
       "      <td>0.974928</td>\n",
       "      <td>-0.222521</td>\n",
       "      <td>-0.866025</td>\n",
       "      <td>0.500000</td>\n",
       "      <td>0.421687</td>\n",
       "      <td>0.000000</td>\n",
       "      <td>0.0</td>\n",
       "      <td>0.973872</td>\n",
       "    </tr>\n",
       "    <tr>\n",
       "      <th>988</th>\n",
       "      <td>0.974928</td>\n",
       "      <td>-0.222521</td>\n",
       "      <td>0.866025</td>\n",
       "      <td>0.500000</td>\n",
       "      <td>0.481928</td>\n",
       "      <td>0.000000</td>\n",
       "      <td>0.0</td>\n",
       "      <td>0.356295</td>\n",
       "    </tr>\n",
       "    <tr>\n",
       "      <th>649</th>\n",
       "      <td>-0.781831</td>\n",
       "      <td>0.623490</td>\n",
       "      <td>0.500000</td>\n",
       "      <td>0.866025</td>\n",
       "      <td>0.168675</td>\n",
       "      <td>0.000000</td>\n",
       "      <td>0.0</td>\n",
       "      <td>0.021378</td>\n",
       "    </tr>\n",
       "    <tr>\n",
       "      <th>1493</th>\n",
       "      <td>0.781831</td>\n",
       "      <td>0.623490</td>\n",
       "      <td>0.866025</td>\n",
       "      <td>-0.500000</td>\n",
       "      <td>0.578313</td>\n",
       "      <td>0.000000</td>\n",
       "      <td>0.0</td>\n",
       "      <td>0.679335</td>\n",
       "    </tr>\n",
       "  </tbody>\n",
       "</table>\n",
       "</div>"
      ],
      "text/plain": [
       "      day_of_week_sin  day_of_week_cos  month_sin  month_cos  temp_normalized  \\\n",
       "879         -0.781831         0.623490   0.866025  -0.500000         0.602410   \n",
       "1406         0.974928        -0.222521  -0.866025   0.500000         0.421687   \n",
       "988          0.974928        -0.222521   0.866025   0.500000         0.481928   \n",
       "649         -0.781831         0.623490   0.500000   0.866025         0.168675   \n",
       "1493         0.781831         0.623490   0.866025  -0.500000         0.578313   \n",
       "\n",
       "      prec_normalized  snowfall_normalized  stations_normalized  \n",
       "879          0.003597                  0.0             0.000000  \n",
       "1406         0.000000                  0.0             0.973872  \n",
       "988          0.000000                  0.0             0.356295  \n",
       "649          0.000000                  0.0             0.021378  \n",
       "1493         0.000000                  0.0             0.679335  "
      ]
     },
     "metadata": {},
     "output_type": "display_data"
    }
   ],
   "source": [
    "train, test = normalize_field(train, test, 'stations')"
   ]
  },
  {
   "cell_type": "markdown",
   "metadata": {},
   "source": [
    "### Linear Regression Model\n",
    "\n",
    "We create a linear regression model and train it using the training set. Afterwards, we use the model to generate predictions based on the testing set's features."
   ]
  },
  {
   "cell_type": "code",
   "execution_count": 27,
   "metadata": {
    "collapsed": false
   },
   "outputs": [
    {
     "data": {
      "text/plain": [
       "LinearRegression(copy_X=True, fit_intercept=True, n_jobs=1, normalize=False)"
      ]
     },
     "execution_count": 27,
     "metadata": {},
     "output_type": "execute_result"
    }
   ],
   "source": [
    "# Create linear regression object\n",
    "regr = linear_model.LinearRegression()\n",
    "\n",
    "# Train the model using the training sets\n",
    "regr.fit(train, train_labels)"
   ]
  },
  {
   "cell_type": "code",
   "execution_count": 28,
   "metadata": {
    "collapsed": false,
    "scrolled": true
   },
   "outputs": [
    {
     "data": {
      "text/plain": [
       "(541,)"
      ]
     },
     "execution_count": 28,
     "metadata": {},
     "output_type": "execute_result"
    }
   ],
   "source": [
    "# Make predictions\n",
    "predictions = regr.predict(test)\n",
    "predictions.shape"
   ]
  },
  {
   "cell_type": "markdown",
   "metadata": {},
   "source": [
    "### Model Metrics\n",
    "\n",
    "#### Model:\n",
    "\n",
    "```\n",
    "num_trip = 1689.8(day_of_week_sin) - 4605.8(day_of_week_cos) - 1232.4(month_sin) \n",
    "            - 4678.1(month_cos) + 33810.8(temp_normalized) - 37984.5(prec_normalized) \n",
    "            - 1789.2(snowfall_normalized) + 30495.4(stations_normalized)\n",
    "```\n",
    "\n",
    "The root mean squared error (RMSE) represents the sample standard deviation of differences between our predictions and actual values. For a normal distribution, about 68% of the differences (residuals) should be within the range of -RMSE to RMSE. Although this may not be the exact case for our model due to the nature of our data, it expresses that the majority of our predictions will fall within the range of +/- 7776.5 trips. \n",
    "\n",
    "The R-squared value is the percentage of the variability in the data that our model explains. 79% of the variability is explained through our model, but there may be severe multicollinearity."
   ]
  },
  {
   "cell_type": "code",
   "execution_count": 29,
   "metadata": {
    "collapsed": false
   },
   "outputs": [
    {
     "name": "stdout",
     "output_type": "stream",
     "text": [
      "Coefficients: \n",
      " [  1689.7865232   -4605.82654167  -1232.37560677  -4678.07331017\n",
      "  33810.75936168 -37984.5432101   -1789.18151535  30495.38133222]\n",
      "Mean squared error: 60474234.57\n",
      "Root mean squared error: 7776.52\n",
      "Variance score: 0.79\n"
     ]
    }
   ],
   "source": [
    "# Model Coefficients\n",
    "print('Coefficients: \\n', regr.coef_)\n",
    "# Mean squared error\n",
    "print(\"Mean squared error: %.2f\" % mean_squared_error(test_labels, predictions))\n",
    "# Root mean squared error\n",
    "print(\"Root mean squared error: %.2f\" % sqrt(mean_squared_error(test_labels, predictions)))\n",
    "# Explained variance score\n",
    "print('Variance score: %.2f' % r2_score(test_labels, predictions))"
   ]
  },
  {
   "cell_type": "markdown",
   "metadata": {},
   "source": [
    "### Plot Actual Trips vs Predictions\n",
    "\n",
    "Below is a plot of actual trips against our model's predictions. The values seem to hover around the diagonal line, suggesting that the model generally makes adequate predictions.\n",
    "\n",
    "Note: since the model is a linear model, there are a couple negative prediction values not shown in this plot"
   ]
  },
  {
   "cell_type": "code",
   "execution_count": 31,
   "metadata": {
    "collapsed": false,
    "scrolled": false
   },
   "outputs": [
    {
     "data": {
      "image/png": "[encoded data removed]",
      "text/plain": [
       "<Figure size 600x400 with 1 Axes>"
      ]
     },
     "metadata": {},
     "output_type": "display_data"
    }
   ],
   "source": [
    "# Plot test_labels against predictions\n",
    "plt.scatter(predictions, test_labels, color='blue')\n",
    "plt.plot([0, 80000], [0, 80000], color='red', linestyle='-', linewidth=1)\n",
    "\n",
    "plt.xlabel('Predictions')\n",
    "plt.ylabel('Trips')\n",
    "\n",
    "# Set box\n",
    "plt.xlim(0, 80000)\n",
    "plt.ylim(0, 80000)\n",
    "plt.gca().set_aspect('equal', adjustable='box')\n",
    "\n",
    "plt.show()"
   ]
  },
  {
   "cell_type": "markdown",
   "metadata": {},
   "source": [
    "A subset of the twsbd dataframe is made based on the values of the testing set. "
   ]
  },
  {
   "cell_type": "code",
   "execution_count": 32,
   "metadata": {
    "collapsed": false
   },
   "outputs": [
    {
     "data": {
      "text/plain": [
       "(541, 15)"
      ]
     },
     "execution_count": 32,
     "metadata": {},
     "output_type": "execute_result"
    }
   ],
   "source": [
    "test_df = twsbd.loc[twsbd['trip_date'].isin(test_preprocess['trip_date'])]\n",
    "test_df.shape"
   ]
  },
  {
   "cell_type": "code",
   "execution_count": 33,
   "metadata": {
    "collapsed": false,
    "scrolled": true
   },
   "outputs": [
    {
     "data": {
      "text/html": [
       "<div>\n",
       "<style scoped>\n",
       "    .dataframe tbody tr th:only-of-type {\n",
       "        vertical-align: middle;\n",
       "    }\n",
       "\n",
       "    .dataframe tbody tr th {\n",
       "        vertical-align: top;\n",
       "    }\n",
       "\n",
       "    .dataframe thead th {\n",
       "        text-align: right;\n",
       "    }\n",
       "</style>\n",
       "<table border=\"1\" class=\"dataframe\">\n",
       "  <thead>\n",
       "    <tr style=\"text-align: right;\">\n",
       "      <th></th>\n",
       "      <th>trip_date</th>\n",
       "      <th>day_of_week</th>\n",
       "      <th>trip_month</th>\n",
       "      <th>trip_year</th>\n",
       "      <th>num_trip</th>\n",
       "      <th>avg_trip</th>\n",
       "      <th>temp</th>\n",
       "      <th>prec</th>\n",
       "      <th>snowfall</th>\n",
       "      <th>stations</th>\n",
       "      <th>bicycles</th>\n",
       "      <th>month_sin</th>\n",
       "      <th>month_cos</th>\n",
       "      <th>day_of_week_sin</th>\n",
       "      <th>day_of_week_cos</th>\n",
       "    </tr>\n",
       "  </thead>\n",
       "  <tbody>\n",
       "    <tr>\n",
       "      <th>142</th>\n",
       "      <td>2013-07-16</td>\n",
       "      <td>3</td>\n",
       "      <td>7</td>\n",
       "      <td>2013</td>\n",
       "      <td>29842</td>\n",
       "      <td>907.713055</td>\n",
       "      <td>87</td>\n",
       "      <td>0.0</td>\n",
       "      <td>0.0</td>\n",
       "      <td>328</td>\n",
       "      <td>5531</td>\n",
       "      <td>1.224647e-16</td>\n",
       "      <td>-1.0</td>\n",
       "      <td>0.974928</td>\n",
       "      <td>-0.222521</td>\n",
       "    </tr>\n",
       "    <tr>\n",
       "      <th>146</th>\n",
       "      <td>2013-07-19</td>\n",
       "      <td>6</td>\n",
       "      <td>7</td>\n",
       "      <td>2013</td>\n",
       "      <td>26591</td>\n",
       "      <td>880.263172</td>\n",
       "      <td>92</td>\n",
       "      <td>0.0</td>\n",
       "      <td>0.0</td>\n",
       "      <td>328</td>\n",
       "      <td>5531</td>\n",
       "      <td>1.224647e-16</td>\n",
       "      <td>-1.0</td>\n",
       "      <td>-0.974928</td>\n",
       "      <td>-0.222521</td>\n",
       "    </tr>\n",
       "    <tr>\n",
       "      <th>132</th>\n",
       "      <td>2013-07-24</td>\n",
       "      <td>4</td>\n",
       "      <td>7</td>\n",
       "      <td>2013</td>\n",
       "      <td>35271</td>\n",
       "      <td>935.532165</td>\n",
       "      <td>80</td>\n",
       "      <td>0.0</td>\n",
       "      <td>0.0</td>\n",
       "      <td>328</td>\n",
       "      <td>5531</td>\n",
       "      <td>1.224647e-16</td>\n",
       "      <td>-1.0</td>\n",
       "      <td>0.433884</td>\n",
       "      <td>-0.900969</td>\n",
       "    </tr>\n",
       "    <tr>\n",
       "      <th>128</th>\n",
       "      <td>2013-07-30</td>\n",
       "      <td>3</td>\n",
       "      <td>7</td>\n",
       "      <td>2013</td>\n",
       "      <td>37334</td>\n",
       "      <td>949.690791</td>\n",
       "      <td>76</td>\n",
       "      <td>0.0</td>\n",
       "      <td>0.0</td>\n",
       "      <td>328</td>\n",
       "      <td>5531</td>\n",
       "      <td>1.224647e-16</td>\n",
       "      <td>-1.0</td>\n",
       "      <td>0.974928</td>\n",
       "      <td>-0.222521</td>\n",
       "    </tr>\n",
       "    <tr>\n",
       "      <th>129</th>\n",
       "      <td>2013-07-31</td>\n",
       "      <td>4</td>\n",
       "      <td>7</td>\n",
       "      <td>2013</td>\n",
       "      <td>37261</td>\n",
       "      <td>923.552830</td>\n",
       "      <td>76</td>\n",
       "      <td>0.0</td>\n",
       "      <td>0.0</td>\n",
       "      <td>328</td>\n",
       "      <td>5531</td>\n",
       "      <td>1.224647e-16</td>\n",
       "      <td>-1.0</td>\n",
       "      <td>0.433884</td>\n",
       "      <td>-0.900969</td>\n",
       "    </tr>\n",
       "  </tbody>\n",
       "</table>\n",
       "</div>"
      ],
      "text/plain": [
       "      trip_date  day_of_week  trip_month  trip_year  num_trip    avg_trip  \\\n",
       "142  2013-07-16            3           7       2013     29842  907.713055   \n",
       "146  2013-07-19            6           7       2013     26591  880.263172   \n",
       "132  2013-07-24            4           7       2013     35271  935.532165   \n",
       "128  2013-07-30            3           7       2013     37334  949.690791   \n",
       "129  2013-07-31            4           7       2013     37261  923.552830   \n",
       "\n",
       "     temp  prec  snowfall  stations  bicycles     month_sin  month_cos  \\\n",
       "142    87   0.0       0.0       328      5531  1.224647e-16       -1.0   \n",
       "146    92   0.0       0.0       328      5531  1.224647e-16       -1.0   \n",
       "132    80   0.0       0.0       328      5531  1.224647e-16       -1.0   \n",
       "128    76   0.0       0.0       328      5531  1.224647e-16       -1.0   \n",
       "129    76   0.0       0.0       328      5531  1.224647e-16       -1.0   \n",
       "\n",
       "     day_of_week_sin  day_of_week_cos  \n",
       "142         0.974928        -0.222521  \n",
       "146        -0.974928        -0.222521  \n",
       "132         0.433884        -0.900969  \n",
       "128         0.974928        -0.222521  \n",
       "129         0.433884        -0.900969  "
      ]
     },
     "execution_count": 33,
     "metadata": {},
     "output_type": "execute_result"
    }
   ],
   "source": [
    "test_df.head()"
   ]
  },
  {
   "cell_type": "markdown",
   "metadata": {},
   "source": [
    "Merge predictions to the dataframe and add residuals for plotting."
   ]
  },
  {
   "cell_type": "code",
   "execution_count": 34,
   "metadata": {
    "collapsed": false,
    "scrolled": true
   },
   "outputs": [
    {
     "data": {
      "text/html": [
       "<div>\n",
       "<style scoped>\n",
       "    .dataframe tbody tr th:only-of-type {\n",
       "        vertical-align: middle;\n",
       "    }\n",
       "\n",
       "    .dataframe tbody tr th {\n",
       "        vertical-align: top;\n",
       "    }\n",
       "\n",
       "    .dataframe thead th {\n",
       "        text-align: right;\n",
       "    }\n",
       "</style>\n",
       "<table border=\"1\" class=\"dataframe\">\n",
       "  <thead>\n",
       "    <tr style=\"text-align: right;\">\n",
       "      <th></th>\n",
       "      <th>trip_date</th>\n",
       "      <th>day_of_week</th>\n",
       "      <th>trip_month</th>\n",
       "      <th>trip_year</th>\n",
       "      <th>num_trip</th>\n",
       "      <th>avg_trip</th>\n",
       "      <th>temp</th>\n",
       "      <th>prec</th>\n",
       "      <th>snowfall</th>\n",
       "      <th>stations</th>\n",
       "      <th>bicycles</th>\n",
       "      <th>month_sin</th>\n",
       "      <th>month_cos</th>\n",
       "      <th>day_of_week_sin</th>\n",
       "      <th>day_of_week_cos</th>\n",
       "      <th>predictions</th>\n",
       "      <th>residuals</th>\n",
       "    </tr>\n",
       "  </thead>\n",
       "  <tbody>\n",
       "    <tr>\n",
       "      <th>142</th>\n",
       "      <td>2013-07-16</td>\n",
       "      <td>3</td>\n",
       "      <td>7</td>\n",
       "      <td>2013</td>\n",
       "      <td>29842</td>\n",
       "      <td>907.713055</td>\n",
       "      <td>87</td>\n",
       "      <td>0.0</td>\n",
       "      <td>0.0</td>\n",
       "      <td>328</td>\n",
       "      <td>5531</td>\n",
       "      <td>1.224647e-16</td>\n",
       "      <td>-1.0</td>\n",
       "      <td>0.974928</td>\n",
       "      <td>-0.222521</td>\n",
       "      <td>29294.635935</td>\n",
       "      <td>-547.364065</td>\n",
       "    </tr>\n",
       "    <tr>\n",
       "      <th>146</th>\n",
       "      <td>2013-07-19</td>\n",
       "      <td>6</td>\n",
       "      <td>7</td>\n",
       "      <td>2013</td>\n",
       "      <td>26591</td>\n",
       "      <td>880.263172</td>\n",
       "      <td>92</td>\n",
       "      <td>0.0</td>\n",
       "      <td>0.0</td>\n",
       "      <td>328</td>\n",
       "      <td>5531</td>\n",
       "      <td>1.224647e-16</td>\n",
       "      <td>-1.0</td>\n",
       "      <td>-0.974928</td>\n",
       "      <td>-0.222521</td>\n",
       "      <td>22763.066870</td>\n",
       "      <td>-3827.933130</td>\n",
       "    </tr>\n",
       "    <tr>\n",
       "      <th>132</th>\n",
       "      <td>2013-07-24</td>\n",
       "      <td>4</td>\n",
       "      <td>7</td>\n",
       "      <td>2013</td>\n",
       "      <td>35271</td>\n",
       "      <td>935.532165</td>\n",
       "      <td>80</td>\n",
       "      <td>0.0</td>\n",
       "      <td>0.0</td>\n",
       "      <td>328</td>\n",
       "      <td>5531</td>\n",
       "      <td>1.224647e-16</td>\n",
       "      <td>-1.0</td>\n",
       "      <td>0.433884</td>\n",
       "      <td>-0.900969</td>\n",
       "      <td>32229.301474</td>\n",
       "      <td>-3041.698526</td>\n",
       "    </tr>\n",
       "    <tr>\n",
       "      <th>128</th>\n",
       "      <td>2013-07-30</td>\n",
       "      <td>3</td>\n",
       "      <td>7</td>\n",
       "      <td>2013</td>\n",
       "      <td>37334</td>\n",
       "      <td>949.690791</td>\n",
       "      <td>76</td>\n",
       "      <td>0.0</td>\n",
       "      <td>0.0</td>\n",
       "      <td>328</td>\n",
       "      <td>5531</td>\n",
       "      <td>1.224647e-16</td>\n",
       "      <td>-1.0</td>\n",
       "      <td>0.974928</td>\n",
       "      <td>-0.222521</td>\n",
       "      <td>47221.218428</td>\n",
       "      <td>9887.218428</td>\n",
       "    </tr>\n",
       "    <tr>\n",
       "      <th>129</th>\n",
       "      <td>2013-07-31</td>\n",
       "      <td>4</td>\n",
       "      <td>7</td>\n",
       "      <td>2013</td>\n",
       "      <td>37261</td>\n",
       "      <td>923.552830</td>\n",
       "      <td>76</td>\n",
       "      <td>0.0</td>\n",
       "      <td>0.0</td>\n",
       "      <td>328</td>\n",
       "      <td>5531</td>\n",
       "      <td>1.224647e-16</td>\n",
       "      <td>-1.0</td>\n",
       "      <td>0.433884</td>\n",
       "      <td>-0.900969</td>\n",
       "      <td>29727.135992</td>\n",
       "      <td>-7533.864008</td>\n",
       "    </tr>\n",
       "  </tbody>\n",
       "</table>\n",
       "</div>"
      ],
      "text/plain": [
       "      trip_date  day_of_week  trip_month  trip_year  num_trip    avg_trip  \\\n",
       "142  2013-07-16            3           7       2013     29842  907.713055   \n",
       "146  2013-07-19            6           7       2013     26591  880.263172   \n",
       "132  2013-07-24            4           7       2013     35271  935.532165   \n",
       "128  2013-07-30            3           7       2013     37334  949.690791   \n",
       "129  2013-07-31            4           7       2013     37261  923.552830   \n",
       "\n",
       "     temp  prec  snowfall  stations  bicycles     month_sin  month_cos  \\\n",
       "142    87   0.0       0.0       328      5531  1.224647e-16       -1.0   \n",
       "146    92   0.0       0.0       328      5531  1.224647e-16       -1.0   \n",
       "132    80   0.0       0.0       328      5531  1.224647e-16       -1.0   \n",
       "128    76   0.0       0.0       328      5531  1.224647e-16       -1.0   \n",
       "129    76   0.0       0.0       328      5531  1.224647e-16       -1.0   \n",
       "\n",
       "     day_of_week_sin  day_of_week_cos   predictions    residuals  \n",
       "142         0.974928        -0.222521  29294.635935  -547.364065  \n",
       "146        -0.974928        -0.222521  22763.066870 -3827.933130  \n",
       "132         0.433884        -0.900969  32229.301474 -3041.698526  \n",
       "128         0.974928        -0.222521  47221.218428  9887.218428  \n",
       "129         0.433884        -0.900969  29727.135992 -7533.864008  "
      ]
     },
     "execution_count": 34,
     "metadata": {},
     "output_type": "execute_result"
    }
   ],
   "source": [
    "# Add predictions to test dataframe\n",
    "predictions_df = pd.DataFrame(predictions, columns=['predictions'])\n",
    "test_df = test_df.merge(predictions_df, left_index=True, right_index=True)\n",
    "\n",
    "# Add residuals to test dataframe\n",
    "test_df['residuals'] = test_df['predictions'] - test_df['num_trip']\n",
    "\n",
    "# Sort by trip_date\n",
    "test_df = test_df.sort_values(by=['trip_date'])\n",
    "test_df.head()"
   ]
  },
  {
   "cell_type": "markdown",
   "metadata": {},
   "source": [
    "### Subplots of Actual Values vs. Predictions and Residuals Over Time\n",
    "\n",
    "Below are 2 subplots that display the actual daily trips with prediction values as well as residuals. The subplots share the same x-axis of trip_date. There are a couple negative values for predictions. It is interesting to note that actual daily values seems to follow a smooth trend while the predictions seems to vary widely."
   ]
  },
  {
   "cell_type": "code",
   "execution_count": 35,
   "metadata": {
    "collapsed": false
   },
   "outputs": [
    {
     "data": {
      "image/png": "[encoded data removed]",
      "text/plain": [
       "<Figure size 1200x800 with 2 Axes>"
      ]
     },
     "metadata": {},
     "output_type": "display_data"
    }
   ],
   "source": [
    "# Plot 2 subplots sharing x axis\n",
    "f, (ax1, ax2) = plt.subplots(2, sharex=True, figsize=(12,8))\n",
    "\n",
    "# Subplot of num_trip and predictions\n",
    "ax1.plot_date(test_df['trip_date'], test_df['num_trip'], color='darkblue')\n",
    "ax1.plot_date(test_df['trip_date'], test_df['predictions'], color='darkviolet')\n",
    "\n",
    "ax1.set(ylabel='Trips')\n",
    "\n",
    "# Subplot of residuals\n",
    "ax2.plot_date(test_df['trip_date'], test_df['residuals'], color='dimgray')\n",
    "\n",
    "xmin = min(test_df['trip_date'])\n",
    "xmax = max(test_df['trip_date'])\n",
    "ax2.plot([xmin, xmax], [0, 0], color='red', linestyle='-', linewidth=1)\n",
    "\n",
    "ax2.set(xlabel='Date')\n",
    "ax2.set(ylabel='Residuals')\n",
    "\n",
    "plt.show()"
   ]
  },
  {
   "cell_type": "markdown",
   "metadata": {},
   "source": [
    "### Residual Plot\n",
    "\n",
    "Below is a plot of the residuals against the daily trips. The residuals seem to be consistently scattered at varying values for num_trip, suggesting a linear model was a good fit for the data."
   ]
  },
  {
   "cell_type": "code",
   "execution_count": 36,
   "metadata": {
    "collapsed": false
   },
   "outputs": [
    {
     "data": {
      "text/plain": [
       "<matplotlib.axes._subplots.AxesSubplot at 0x1da4d8b90b8>"
      ]
     },
     "execution_count": 36,
     "metadata": {},
     "output_type": "execute_result"
    },
    {
     "data": {
      "image/png": "[encoded data removed]",
      "text/plain": [
       "<Figure size 600x400 with 1 Axes>"
      ]
     },
     "metadata": {},
     "output_type": "display_data"
    }
   ],
   "source": [
    "sns.residplot(x='num_trip', y='residuals', data=test_df)"
   ]
  },
  {
   "cell_type": "code",
   "execution_count": null,
   "metadata": {
    "collapsed": true
   },
   "outputs": [],
   "source": []
  }
 ],
 "metadata": {
  "anaconda-cloud": {},
  "kernelspec": {
   "display_name": "Python [Root]",
   "language": "python",
   "name": "Python [Root]"
  },
  "language_info": {
   "codemirror_mode": {
    "name": "ipython",
    "version": 3
   },
   "file_extension": ".py",
   "mimetype": "text/x-python",
   "name": "python",
   "nbconvert_exporter": "python",
   "pygments_lexer": "ipython3",
   "version": "3.5.2"
  }
 },
 "nbformat": 4,
 "nbformat_minor": 2
}
