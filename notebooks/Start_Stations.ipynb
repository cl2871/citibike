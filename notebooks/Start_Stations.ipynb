{
 "cells": [
  {
   "cell_type": "markdown",
   "metadata": {},
   "source": [
    "# Start Station Analysis\n",
    "\n",
    "An introductory analysis of the stations that Citibike trips originate from.\n",
    "\n",
    "### Import Packages"
   ]
  },
  {
   "cell_type": "code",
   "execution_count": 3,
   "metadata": {
    "collapsed": true
   },
   "outputs": [],
   "source": [
    "import pandas as pd\n",
    "import seaborn as sns\n",
    "import matplotlib.pyplot as plt\n",
    "import numpy as np\n",
    "from pandas.io import gbq\n",
    "import os\n",
    "%matplotlib inline"
   ]
  },
  {
   "cell_type": "code",
   "execution_count": 4,
   "metadata": {
    "collapsed": true
   },
   "outputs": [],
   "source": [
    "project_id = os.environ['project_id']"
   ]
  },
  {
   "cell_type": "markdown",
   "metadata": {},
   "source": [
    "### Trip Data Overview Query\n",
    "\n",
    "As a starting step, we take a look at some aggregate values of the underlying data. As shown below, there are 53,862,077 total trips recorded with an average trip duration of 947.7 seconds for the period of July 2013 to December 2017. Additionally, 18,559 distinct bikes have been used during this period, which is approximately 2902 trips/bike. Interestingly, there is a discrepancy between number of start stations and end stations, suggesting that some stations are not used as starting locations. More investigative work would need to be done to confirm this hypothesis."
   ]
  },
  {
   "cell_type": "code",
   "execution_count": 5,
   "metadata": {
    "collapsed": false
   },
   "outputs": [
    {
     "name": "stdout",
     "output_type": "stream",
     "text": [
      "Requesting query... ok.\n",
      "Job ID: 28f5c95e-b4f3-4a26-a144-7739e58bdf49\n",
      "Query running...\n",
      "Query done.\n",
      "Processed: 1.6 GB Billed: 1.6 GB\n",
      "Standard price: $0.01 USD\n",
      "\n",
      "Retrieving results...\n",
      "Got 1 rows.\n",
      "\n",
      "Total time taken 3.12 s.\n",
      "Finished at 2018-03-25 17:08:47.\n"
     ]
    },
    {
     "data": {
      "text/html": [
       "<div>\n",
       "<style scoped>\n",
       "    .dataframe tbody tr th:only-of-type {\n",
       "        vertical-align: middle;\n",
       "    }\n",
       "\n",
       "    .dataframe tbody tr th {\n",
       "        vertical-align: top;\n",
       "    }\n",
       "\n",
       "    .dataframe thead th {\n",
       "        text-align: right;\n",
       "    }\n",
       "</style>\n",
       "<table border=\"1\" class=\"dataframe\">\n",
       "  <thead>\n",
       "    <tr style=\"text-align: right;\">\n",
       "      <th></th>\n",
       "      <th>num_trip</th>\n",
       "      <th>avg_trip</th>\n",
       "      <th>num_bike</th>\n",
       "      <th>num_start_station</th>\n",
       "      <th>num_end_station</th>\n",
       "    </tr>\n",
       "  </thead>\n",
       "  <tbody>\n",
       "    <tr>\n",
       "      <th>0</th>\n",
       "      <td>53862077</td>\n",
       "      <td>947.737651</td>\n",
       "      <td>18559</td>\n",
       "      <td>908</td>\n",
       "      <td>915</td>\n",
       "    </tr>\n",
       "  </tbody>\n",
       "</table>\n",
       "</div>"
      ],
      "text/plain": [
       "   num_trip    avg_trip  num_bike  num_start_station  num_end_station\n",
       "0  53862077  947.737651     18559                908              915"
      ]
     },
     "execution_count": 5,
     "metadata": {},
     "output_type": "execute_result"
    }
   ],
   "source": [
    "trips_query=\"\"\"\n",
    "SELECT COUNT(tripduration) as num_trip, AVG(tripduration) as avg_trip, COUNT(DISTINCT bikeid) as num_bike,\n",
    "  COUNT(DISTINCT start_station_id) as num_start_station, COUNT(DISTINCT end_station_id) as num_end_station\n",
    "FROM \n",
    "  [bigquery-public-data:new_york.citibike_trips],\n",
    "  [citibike_tripdata.tripdata_2016_10_to_2017_12],\n",
    "  [citibike_tripdata.tripdata_jc_2015_09_to_2017_12] \n",
    "\"\"\"\n",
    "\n",
    "trips = gbq.read_gbq(query=trips_query,dialect ='legacy', project_id=project_id)\n",
    "trips.head()"
   ]
  },
  {
   "cell_type": "markdown",
   "metadata": {},
   "source": [
    "### Trip Data by Year Query\n",
    "\n",
    "The above query could be broken down by year, as shown below. As the Citibike system has expanded over the years, ridership has increased as well, with 16,659,585 trips recorded for 2017. "
   ]
  },
  {
   "cell_type": "code",
   "execution_count": 6,
   "metadata": {
    "collapsed": false,
    "scrolled": true
   },
   "outputs": [
    {
     "name": "stdout",
     "output_type": "stream",
     "text": [
      "Requesting query... ok.\n",
      "Job ID: 87dbf624-260c-4596-884f-1901d284a915\n",
      "Query running...\n",
      "Query done.\n",
      "Processed: 2.0 GB Billed: 2.0 GB\n",
      "Standard price: $0.01 USD\n",
      "\n",
      "Retrieving results...\n",
      "Got 5 rows.\n",
      "\n",
      "Total time taken 4.65 s.\n",
      "Finished at 2018-03-25 17:17:54.\n"
     ]
    },
    {
     "data": {
      "text/html": [
       "<div>\n",
       "<style scoped>\n",
       "    .dataframe tbody tr th:only-of-type {\n",
       "        vertical-align: middle;\n",
       "    }\n",
       "\n",
       "    .dataframe tbody tr th {\n",
       "        vertical-align: top;\n",
       "    }\n",
       "\n",
       "    .dataframe thead th {\n",
       "        text-align: right;\n",
       "    }\n",
       "</style>\n",
       "<table border=\"1\" class=\"dataframe\">\n",
       "  <thead>\n",
       "    <tr style=\"text-align: right;\">\n",
       "      <th></th>\n",
       "      <th>num_trip</th>\n",
       "      <th>avg_trip</th>\n",
       "      <th>num_bike</th>\n",
       "      <th>num_start_station</th>\n",
       "      <th>num_end_station</th>\n",
       "      <th>trip_year</th>\n",
       "    </tr>\n",
       "  </thead>\n",
       "  <tbody>\n",
       "    <tr>\n",
       "      <th>0</th>\n",
       "      <td>5037185</td>\n",
       "      <td>887.638411</td>\n",
       "      <td>6082</td>\n",
       "      <td>330</td>\n",
       "      <td>330</td>\n",
       "      <td>2013</td>\n",
       "    </tr>\n",
       "    <tr>\n",
       "      <th>1</th>\n",
       "      <td>8081216</td>\n",
       "      <td>851.175207</td>\n",
       "      <td>6319</td>\n",
       "      <td>332</td>\n",
       "      <td>332</td>\n",
       "      <td>2014</td>\n",
       "    </tr>\n",
       "    <tr>\n",
       "      <th>2</th>\n",
       "      <td>9990852</td>\n",
       "      <td>971.323531</td>\n",
       "      <td>8658</td>\n",
       "      <td>523</td>\n",
       "      <td>527</td>\n",
       "      <td>2015</td>\n",
       "    </tr>\n",
       "    <tr>\n",
       "      <th>3</th>\n",
       "      <td>14093239</td>\n",
       "      <td>957.823031</td>\n",
       "      <td>10654</td>\n",
       "      <td>701</td>\n",
       "      <td>704</td>\n",
       "      <td>2016</td>\n",
       "    </tr>\n",
       "    <tr>\n",
       "      <th>4</th>\n",
       "      <td>16659585</td>\n",
       "      <td>990.073293</td>\n",
       "      <td>14376</td>\n",
       "      <td>864</td>\n",
       "      <td>869</td>\n",
       "      <td>2017</td>\n",
       "    </tr>\n",
       "  </tbody>\n",
       "</table>\n",
       "</div>"
      ],
      "text/plain": [
       "   num_trip    avg_trip  num_bike  num_start_station  num_end_station  \\\n",
       "0   5037185  887.638411      6082                330              330   \n",
       "1   8081216  851.175207      6319                332              332   \n",
       "2   9990852  971.323531      8658                523              527   \n",
       "3  14093239  957.823031     10654                701              704   \n",
       "4  16659585  990.073293     14376                864              869   \n",
       "\n",
       "   trip_year  \n",
       "0       2013  \n",
       "1       2014  \n",
       "2       2015  \n",
       "3       2016  \n",
       "4       2017  "
      ]
     },
     "execution_count": 6,
     "metadata": {},
     "output_type": "execute_result"
    }
   ],
   "source": [
    "trips_by_year_query=\"\"\"\n",
    "SELECT COUNT(tripduration) as num_trip, AVG(tripduration) as avg_trip, COUNT(DISTINCT bikeid) as num_bike,\n",
    "  COUNT(DISTINCT start_station_id) as num_start_station, COUNT(DISTINCT end_station_id) as num_end_station,\n",
    "  YEAR(starttime) as trip_year\n",
    "FROM \n",
    "  [bigquery-public-data:new_york.citibike_trips],\n",
    "  [citibike_tripdata.tripdata_2016_10_to_2017_12],\n",
    "  [citibike_tripdata.tripdata_jc_2015_09_to_2017_12]\n",
    "GROUP BY trip_year ORDER BY trip_year\n",
    "\"\"\"\n",
    "\n",
    "trips_by_year = gbq.read_gbq(query=trips_by_year_query,dialect ='legacy', project_id=project_id)\n",
    "trips_by_year.head()"
   ]
  },
  {
   "cell_type": "markdown",
   "metadata": {},
   "source": [
    "### Start Stations Query\n",
    "\n",
    "In the query below, we aggregate trip data such as number of trips (num_trip) and average trip duration (avg_trip) by start station for analysis. While aggregation by start station does not necessarily account for all stations, it is good enough for our purposes."
   ]
  },
  {
   "cell_type": "code",
   "execution_count": 7,
   "metadata": {
    "collapsed": false,
    "scrolled": true
   },
   "outputs": [
    {
     "name": "stdout",
     "output_type": "stream",
     "text": [
      "Requesting query... ok.\n",
      "Job ID: e28641e3-2fd4-4c56-8cf5-0f369cbe635f\n",
      "Query running...\n",
      "Query done.\n",
      "Cache hit.\n",
      "\n",
      "Retrieving results...\n",
      "Got 987 rows.\n",
      "\n",
      "Total time taken 1.58 s.\n",
      "Finished at 2018-03-25 17:23:57.\n"
     ]
    },
    {
     "data": {
      "text/html": [
       "<div>\n",
       "<style scoped>\n",
       "    .dataframe tbody tr th:only-of-type {\n",
       "        vertical-align: middle;\n",
       "    }\n",
       "\n",
       "    .dataframe tbody tr th {\n",
       "        vertical-align: top;\n",
       "    }\n",
       "\n",
       "    .dataframe thead th {\n",
       "        text-align: right;\n",
       "    }\n",
       "</style>\n",
       "<table border=\"1\" class=\"dataframe\">\n",
       "  <thead>\n",
       "    <tr style=\"text-align: right;\">\n",
       "      <th></th>\n",
       "      <th>start_station_id</th>\n",
       "      <th>start_station_name</th>\n",
       "      <th>start_station_latitude</th>\n",
       "      <th>start_station_longitude</th>\n",
       "      <th>num_trip</th>\n",
       "      <th>avg_trip</th>\n",
       "    </tr>\n",
       "  </thead>\n",
       "  <tbody>\n",
       "    <tr>\n",
       "      <th>0</th>\n",
       "      <td>519</td>\n",
       "      <td>Pershing Square North</td>\n",
       "      <td>40.751873</td>\n",
       "      <td>-73.977706</td>\n",
       "      <td>447528</td>\n",
       "      <td>841.747336</td>\n",
       "    </tr>\n",
       "    <tr>\n",
       "      <th>1</th>\n",
       "      <td>497</td>\n",
       "      <td>E 17 St &amp; Broadway</td>\n",
       "      <td>40.737050</td>\n",
       "      <td>-73.990093</td>\n",
       "      <td>427728</td>\n",
       "      <td>797.162603</td>\n",
       "    </tr>\n",
       "    <tr>\n",
       "      <th>2</th>\n",
       "      <td>435</td>\n",
       "      <td>W 21 St &amp; 6 Ave</td>\n",
       "      <td>40.741740</td>\n",
       "      <td>-73.994156</td>\n",
       "      <td>406831</td>\n",
       "      <td>722.300896</td>\n",
       "    </tr>\n",
       "    <tr>\n",
       "      <th>3</th>\n",
       "      <td>426</td>\n",
       "      <td>West St &amp; Chambers St</td>\n",
       "      <td>40.717548</td>\n",
       "      <td>-74.013221</td>\n",
       "      <td>386478</td>\n",
       "      <td>1199.372288</td>\n",
       "    </tr>\n",
       "    <tr>\n",
       "      <th>4</th>\n",
       "      <td>402</td>\n",
       "      <td>Broadway &amp; E 22 St</td>\n",
       "      <td>40.740343</td>\n",
       "      <td>-73.989551</td>\n",
       "      <td>369470</td>\n",
       "      <td>770.480486</td>\n",
       "    </tr>\n",
       "  </tbody>\n",
       "</table>\n",
       "</div>"
      ],
      "text/plain": [
       "   start_station_id     start_station_name  start_station_latitude  \\\n",
       "0               519  Pershing Square North               40.751873   \n",
       "1               497     E 17 St & Broadway               40.737050   \n",
       "2               435        W 21 St & 6 Ave               40.741740   \n",
       "3               426  West St & Chambers St               40.717548   \n",
       "4               402     Broadway & E 22 St               40.740343   \n",
       "\n",
       "   start_station_longitude  num_trip     avg_trip  \n",
       "0               -73.977706    447528   841.747336  \n",
       "1               -73.990093    427728   797.162603  \n",
       "2               -73.994156    406831   722.300896  \n",
       "3               -74.013221    386478  1199.372288  \n",
       "4               -73.989551    369470   770.480486  "
      ]
     },
     "execution_count": 7,
     "metadata": {},
     "output_type": "execute_result"
    }
   ],
   "source": [
    "start_stations_query=\"\"\"\n",
    "SELECT start_station_id, start_station_name, start_station_latitude, start_station_longitude,\n",
    "COUNT(tripduration) as num_trip, AVG(tripduration) as avg_trip \n",
    "FROM \n",
    "  [bigquery-public-data:new_york.citibike_trips],\n",
    "  [citibike_tripdata.tripdata_2016_10_to_2017_12],\n",
    "  [citibike_tripdata.tripdata_jc_2015_09_to_2017_12] \n",
    "GROUP BY start_station_id, start_station_name, start_station_latitude, start_station_longitude ORDER BY num_trip DESC\n",
    "\"\"\"\n",
    "\n",
    "start_stations = gbq.read_gbq(query=start_stations_query,dialect ='legacy', project_id=project_id)\n",
    "start_stations.head()"
   ]
  },
  {
   "cell_type": "markdown",
   "metadata": {},
   "source": [
    "### Data Cleaning\n",
    "\n",
    "In order to plot a representation of NYC with Citibike (start) stations, we need to clean our DataFrame of questionable location data. We ignore all stations that have latitude and/or longitude of 0.0 as well as any with \"8D\" in their name for [8D Technologies](https://www.motivateco.com/bike-share-leaders-motivate-and-8d-technologies-announce-merger/). These are assumed to be test stations."
   ]
  },
  {
   "cell_type": "code",
   "execution_count": 8,
   "metadata": {
    "collapsed": false
   },
   "outputs": [
    {
     "name": "stdout",
     "output_type": "stream",
     "text": [
      "(981, 6)\n",
      "(981, 6)\n",
      "(976, 6)\n"
     ]
    }
   ],
   "source": [
    "start_stations = start_stations[start_stations[\"start_station_latitude\"] != 0.0]\n",
    "print(start_stations.shape)\n",
    "start_stations = start_stations[start_stations[\"start_station_longitude\"] != 0.0]\n",
    "print(start_stations.shape)\n",
    "start_stations = start_stations[start_stations[\"start_station_name\"].str[:2] != \"8D\"]\n",
    "print(start_stations.shape)"
   ]
  },
  {
   "cell_type": "code",
   "execution_count": 9,
   "metadata": {
    "collapsed": false,
    "scrolled": true
   },
   "outputs": [
    {
     "data": {
      "text/plain": [
       "<matplotlib.collections.PathCollection at 0x2555168ecc0>"
      ]
     },
     "execution_count": 9,
     "metadata": {},
     "output_type": "execute_result"
    },
    {
     "data": {
      "image/png": "[encoded data removed]",
      "text/plain": [
       "<matplotlib.figure.Figure at 0x2555158e320>"
      ]
     },
     "metadata": {},
     "output_type": "display_data"
    }
   ],
   "source": [
    "plt.scatter(x=start_stations['start_station_longitude'], y=start_stations['start_station_latitude'], \n",
    "            c=start_stations['num_trip'], cmap='BuPu')"
   ]
  },
  {
   "cell_type": "markdown",
   "metadata": {},
   "source": [
    "We notice an outlier location and take a look at it. Since the number of trips is low, we decide to ignore it."
   ]
  },
  {
   "cell_type": "code",
   "execution_count": 10,
   "metadata": {
    "collapsed": false
   },
   "outputs": [
    {
     "data": {
      "text/html": [
       "<div>\n",
       "<style scoped>\n",
       "    .dataframe tbody tr th:only-of-type {\n",
       "        vertical-align: middle;\n",
       "    }\n",
       "\n",
       "    .dataframe tbody tr th {\n",
       "        vertical-align: top;\n",
       "    }\n",
       "\n",
       "    .dataframe thead th {\n",
       "        text-align: right;\n",
       "    }\n",
       "</style>\n",
       "<table border=\"1\" class=\"dataframe\">\n",
       "  <thead>\n",
       "    <tr style=\"text-align: right;\">\n",
       "      <th></th>\n",
       "      <th>start_station_id</th>\n",
       "      <th>start_station_name</th>\n",
       "      <th>start_station_latitude</th>\n",
       "      <th>start_station_longitude</th>\n",
       "      <th>num_trip</th>\n",
       "      <th>avg_trip</th>\n",
       "    </tr>\n",
       "  </thead>\n",
       "  <tbody>\n",
       "    <tr>\n",
       "      <th>973</th>\n",
       "      <td>160</td>\n",
       "      <td>E 37 St &amp; Lexington Ave</td>\n",
       "      <td>40.44535</td>\n",
       "      <td>-73.978238</td>\n",
       "      <td>8</td>\n",
       "      <td>569.75</td>\n",
       "    </tr>\n",
       "  </tbody>\n",
       "</table>\n",
       "</div>"
      ],
      "text/plain": [
       "     start_station_id       start_station_name  start_station_latitude  \\\n",
       "973               160  E 37 St & Lexington Ave                40.44535   \n",
       "\n",
       "     start_station_longitude  num_trip  avg_trip  \n",
       "973               -73.978238         8    569.75  "
      ]
     },
     "execution_count": 10,
     "metadata": {},
     "output_type": "execute_result"
    }
   ],
   "source": [
    "start_stations.loc[start_stations['start_station_latitude'] < 40.5]"
   ]
  },
  {
   "cell_type": "code",
   "execution_count": 11,
   "metadata": {
    "collapsed": false,
    "scrolled": true
   },
   "outputs": [
    {
     "name": "stdout",
     "output_type": "stream",
     "text": [
      "(975, 6)\n"
     ]
    }
   ],
   "source": [
    "start_stations = start_stations[start_stations[\"start_station_latitude\"] > 40.5]\n",
    "print(start_stations.shape)"
   ]
  },
  {
   "cell_type": "markdown",
   "metadata": {},
   "source": [
    "### NYC as Citibike Stations\n",
    "\n",
    "Below is a scatterplot of Citibike (start) stations from July 2013 to December 2017 (including ones that have been removed/restored). In the below plot, NY can be visualized as parts of Manhattan, Brooklyn, Queens, and Jersey City. Certain regions of white space can be recognized as Central Park as well as the Hudson and East Rivers. A blue/purple color scheme is used for color ramping by number of trips (purple-high, blue-medium, white-low). A lot of Citibike activity seems to be centralized around Midtown and below."
   ]
  },
  {
   "cell_type": "code",
   "execution_count": 12,
   "metadata": {
    "collapsed": false,
    "scrolled": false
   },
   "outputs": [
    {
     "data": {
      "text/plain": [
       "<matplotlib.collections.PathCollection at 0x25553717780>"
      ]
     },
     "execution_count": 12,
     "metadata": {},
     "output_type": "execute_result"
    },
    {
     "data": {
      "image/png": "[encoded data removed]",
      "text/plain": [
       "<matplotlib.figure.Figure at 0x255516a4c50>"
      ]
     },
     "metadata": {},
     "output_type": "display_data"
    }
   ],
   "source": [
    "plt.figure(figsize=(10,10))\n",
    "plt.scatter(x=start_stations['start_station_longitude'], y=start_stations['start_station_latitude'], \n",
    "            c=start_stations['num_trip'], cmap='BuPu')"
   ]
  },
  {
   "cell_type": "markdown",
   "metadata": {},
   "source": [
    "### Digging Deeper into Start Station Data\n",
    "\n",
    "Below, we take a look into the descriptive statistics of our start station data. We notice that for both num_trip and avg_trip the standard deviations are larger than their respective means. Moreover, both have extremely wide ranges, as we shall visualize later on. In turn, there is high variability in the number of trips originating at a station and the average duration of those trips."
   ]
  },
  {
   "cell_type": "code",
   "execution_count": 29,
   "metadata": {
    "collapsed": false
   },
   "outputs": [
    {
     "data": {
      "text/html": [
       "<div>\n",
       "<style scoped>\n",
       "    .dataframe tbody tr th:only-of-type {\n",
       "        vertical-align: middle;\n",
       "    }\n",
       "\n",
       "    .dataframe tbody tr th {\n",
       "        vertical-align: top;\n",
       "    }\n",
       "\n",
       "    .dataframe thead th {\n",
       "        text-align: right;\n",
       "    }\n",
       "</style>\n",
       "<table border=\"1\" class=\"dataframe\">\n",
       "  <thead>\n",
       "    <tr style=\"text-align: right;\">\n",
       "      <th></th>\n",
       "      <th>start_station_id</th>\n",
       "      <th>start_station_latitude</th>\n",
       "      <th>start_station_longitude</th>\n",
       "      <th>num_trip</th>\n",
       "      <th>avg_trip</th>\n",
       "    </tr>\n",
       "  </thead>\n",
       "  <tbody>\n",
       "    <tr>\n",
       "      <th>count</th>\n",
       "      <td>975.000000</td>\n",
       "      <td>975.000000</td>\n",
       "      <td>975.000000</td>\n",
       "      <td>975.000000</td>\n",
       "      <td>975.000000</td>\n",
       "    </tr>\n",
       "    <tr>\n",
       "      <th>mean</th>\n",
       "      <td>2201.284103</td>\n",
       "      <td>40.731767</td>\n",
       "      <td>-73.977916</td>\n",
       "      <td>55242.990769</td>\n",
       "      <td>1245.241658</td>\n",
       "    </tr>\n",
       "    <tr>\n",
       "      <th>std</th>\n",
       "      <td>1434.541138</td>\n",
       "      <td>0.038211</td>\n",
       "      <td>0.030039</td>\n",
       "      <td>73911.406250</td>\n",
       "      <td>1855.504237</td>\n",
       "    </tr>\n",
       "    <tr>\n",
       "      <th>min</th>\n",
       "      <td>72.000000</td>\n",
       "      <td>40.646538</td>\n",
       "      <td>-74.096937</td>\n",
       "      <td>1.000000</td>\n",
       "      <td>178.000000</td>\n",
       "    </tr>\n",
       "    <tr>\n",
       "      <th>25%</th>\n",
       "      <td>435.500000</td>\n",
       "      <td>40.701575</td>\n",
       "      <td>-73.994491</td>\n",
       "      <td>4614.500000</td>\n",
       "      <td>812.912895</td>\n",
       "    </tr>\n",
       "    <tr>\n",
       "      <th>50%</th>\n",
       "      <td>3134.000000</td>\n",
       "      <td>40.729170</td>\n",
       "      <td>-73.977932</td>\n",
       "      <td>19512.000000</td>\n",
       "      <td>931.673839</td>\n",
       "    </tr>\n",
       "    <tr>\n",
       "      <th>75%</th>\n",
       "      <td>3378.500000</td>\n",
       "      <td>40.760252</td>\n",
       "      <td>-73.956189</td>\n",
       "      <td>84659.000000</td>\n",
       "      <td>1208.508559</td>\n",
       "    </tr>\n",
       "    <tr>\n",
       "      <th>max</th>\n",
       "      <td>3654.000000</td>\n",
       "      <td>40.814394</td>\n",
       "      <td>-73.907744</td>\n",
       "      <td>447528.000000</td>\n",
       "      <td>49716.277778</td>\n",
       "    </tr>\n",
       "  </tbody>\n",
       "</table>\n",
       "</div>"
      ],
      "text/plain": [
       "       start_station_id  start_station_latitude  start_station_longitude  \\\n",
       "count        975.000000              975.000000               975.000000   \n",
       "mean        2201.284103               40.731767               -73.977916   \n",
       "std         1434.541138                0.038211                 0.030039   \n",
       "min           72.000000               40.646538               -74.096937   \n",
       "25%          435.500000               40.701575               -73.994491   \n",
       "50%         3134.000000               40.729170               -73.977932   \n",
       "75%         3378.500000               40.760252               -73.956189   \n",
       "max         3654.000000               40.814394               -73.907744   \n",
       "\n",
       "            num_trip      avg_trip  \n",
       "count     975.000000    975.000000  \n",
       "mean    55242.990769   1245.241658  \n",
       "std     73911.406250   1855.504237  \n",
       "min         1.000000    178.000000  \n",
       "25%      4614.500000    812.912895  \n",
       "50%     19512.000000    931.673839  \n",
       "75%     84659.000000   1208.508559  \n",
       "max    447528.000000  49716.277778  "
      ]
     },
     "execution_count": 29,
     "metadata": {},
     "output_type": "execute_result"
    }
   ],
   "source": [
    "start_stations.describe()"
   ]
  },
  {
   "cell_type": "markdown",
   "metadata": {},
   "source": [
    "### Number of Trips per Station Boxplot\n",
    "\n",
    "In the below boxplot of number of trips per (start) station, the majority of stations have approx. 200,000 total trips or less, with 75% of stations having 84,659 total trips or less. Nevertheless, there are several stations that deviate drastically from this majority, with the greatest outlier having 447,528 recorded trips. In turn, there is a substantial discrepancy between the median of 19,512 trips and the mean of 55,243 trips."
   ]
  },
  {
   "cell_type": "code",
   "execution_count": 17,
   "metadata": {
    "collapsed": false,
    "scrolled": true
   },
   "outputs": [
    {
     "data": {
      "text/plain": [
       "<matplotlib.axes._subplots.AxesSubplot at 0x25556aabfd0>"
      ]
     },
     "execution_count": 17,
     "metadata": {},
     "output_type": "execute_result"
    },
    {
     "data": {
      "image/png": "[encoded data removed]",
      "text/plain": [
       "<matplotlib.figure.Figure at 0x25556b31198>"
      ]
     },
     "metadata": {},
     "output_type": "display_data"
    }
   ],
   "source": [
    "sns.boxplot(y=start_stations[\"num_trip\"])"
   ]
  },
  {
   "cell_type": "markdown",
   "metadata": {},
   "source": [
    "### Top 10 Start Stations by Number of Trips\n",
    "\n",
    "Not surprisingly, certain stations have high usage due to proximity to landmarks and transit hubs. Pershing Square North, the station with the highest count, is next to Grand Central Terminal. E 17th St & Broadway is on the corner of Union Square. W 21 St & 6 Ave is close to Madison Square Park and the 23rd Street MTA stations. "
   ]
  },
  {
   "cell_type": "code",
   "execution_count": 33,
   "metadata": {
    "collapsed": false
   },
   "outputs": [
    {
     "data": {
      "text/html": [
       "<div>\n",
       "<style scoped>\n",
       "    .dataframe tbody tr th:only-of-type {\n",
       "        vertical-align: middle;\n",
       "    }\n",
       "\n",
       "    .dataframe tbody tr th {\n",
       "        vertical-align: top;\n",
       "    }\n",
       "\n",
       "    .dataframe thead th {\n",
       "        text-align: right;\n",
       "    }\n",
       "</style>\n",
       "<table border=\"1\" class=\"dataframe\">\n",
       "  <thead>\n",
       "    <tr style=\"text-align: right;\">\n",
       "      <th></th>\n",
       "      <th>start_station_id</th>\n",
       "      <th>start_station_name</th>\n",
       "      <th>start_station_latitude</th>\n",
       "      <th>start_station_longitude</th>\n",
       "      <th>num_trip</th>\n",
       "      <th>avg_trip</th>\n",
       "    </tr>\n",
       "  </thead>\n",
       "  <tbody>\n",
       "    <tr>\n",
       "      <th>0</th>\n",
       "      <td>519</td>\n",
       "      <td>Pershing Square North</td>\n",
       "      <td>40.751873</td>\n",
       "      <td>-73.977706</td>\n",
       "      <td>447528</td>\n",
       "      <td>841.747336</td>\n",
       "    </tr>\n",
       "    <tr>\n",
       "      <th>1</th>\n",
       "      <td>497</td>\n",
       "      <td>E 17 St &amp; Broadway</td>\n",
       "      <td>40.737050</td>\n",
       "      <td>-73.990093</td>\n",
       "      <td>427728</td>\n",
       "      <td>797.162603</td>\n",
       "    </tr>\n",
       "    <tr>\n",
       "      <th>2</th>\n",
       "      <td>435</td>\n",
       "      <td>W 21 St &amp; 6 Ave</td>\n",
       "      <td>40.741740</td>\n",
       "      <td>-73.994156</td>\n",
       "      <td>406831</td>\n",
       "      <td>722.300896</td>\n",
       "    </tr>\n",
       "    <tr>\n",
       "      <th>3</th>\n",
       "      <td>426</td>\n",
       "      <td>West St &amp; Chambers St</td>\n",
       "      <td>40.717548</td>\n",
       "      <td>-74.013221</td>\n",
       "      <td>386478</td>\n",
       "      <td>1199.372288</td>\n",
       "    </tr>\n",
       "    <tr>\n",
       "      <th>4</th>\n",
       "      <td>402</td>\n",
       "      <td>Broadway &amp; E 22 St</td>\n",
       "      <td>40.740343</td>\n",
       "      <td>-73.989551</td>\n",
       "      <td>369470</td>\n",
       "      <td>770.480486</td>\n",
       "    </tr>\n",
       "    <tr>\n",
       "      <th>5</th>\n",
       "      <td>285</td>\n",
       "      <td>Broadway &amp; E 14 St</td>\n",
       "      <td>40.734546</td>\n",
       "      <td>-73.990741</td>\n",
       "      <td>348109</td>\n",
       "      <td>737.188424</td>\n",
       "    </tr>\n",
       "    <tr>\n",
       "      <th>6</th>\n",
       "      <td>490</td>\n",
       "      <td>8 Ave &amp; W 33 St</td>\n",
       "      <td>40.751551</td>\n",
       "      <td>-73.993934</td>\n",
       "      <td>340673</td>\n",
       "      <td>803.280923</td>\n",
       "    </tr>\n",
       "    <tr>\n",
       "      <th>7</th>\n",
       "      <td>459</td>\n",
       "      <td>W 20 St &amp; 11 Ave</td>\n",
       "      <td>40.746745</td>\n",
       "      <td>-74.007756</td>\n",
       "      <td>318408</td>\n",
       "      <td>954.753788</td>\n",
       "    </tr>\n",
       "    <tr>\n",
       "      <th>8</th>\n",
       "      <td>477</td>\n",
       "      <td>W 41 St &amp; 8 Ave</td>\n",
       "      <td>40.756405</td>\n",
       "      <td>-73.990026</td>\n",
       "      <td>314902</td>\n",
       "      <td>815.396457</td>\n",
       "    </tr>\n",
       "    <tr>\n",
       "      <th>9</th>\n",
       "      <td>368</td>\n",
       "      <td>Carmine St &amp; 6 Ave</td>\n",
       "      <td>40.730386</td>\n",
       "      <td>-74.002150</td>\n",
       "      <td>309649</td>\n",
       "      <td>828.074094</td>\n",
       "    </tr>\n",
       "  </tbody>\n",
       "</table>\n",
       "</div>"
      ],
      "text/plain": [
       "   start_station_id     start_station_name  start_station_latitude  \\\n",
       "0               519  Pershing Square North               40.751873   \n",
       "1               497     E 17 St & Broadway               40.737050   \n",
       "2               435        W 21 St & 6 Ave               40.741740   \n",
       "3               426  West St & Chambers St               40.717548   \n",
       "4               402     Broadway & E 22 St               40.740343   \n",
       "5               285     Broadway & E 14 St               40.734546   \n",
       "6               490        8 Ave & W 33 St               40.751551   \n",
       "7               459       W 20 St & 11 Ave               40.746745   \n",
       "8               477        W 41 St & 8 Ave               40.756405   \n",
       "9               368     Carmine St & 6 Ave               40.730386   \n",
       "\n",
       "   start_station_longitude  num_trip     avg_trip  \n",
       "0               -73.977706    447528   841.747336  \n",
       "1               -73.990093    427728   797.162603  \n",
       "2               -73.994156    406831   722.300896  \n",
       "3               -74.013221    386478  1199.372288  \n",
       "4               -73.989551    369470   770.480486  \n",
       "5               -73.990741    348109   737.188424  \n",
       "6               -73.993934    340673   803.280923  \n",
       "7               -74.007756    318408   954.753788  \n",
       "8               -73.990026    314902   815.396457  \n",
       "9               -74.002150    309649   828.074094  "
      ]
     },
     "execution_count": 33,
     "metadata": {},
     "output_type": "execute_result"
    }
   ],
   "source": [
    "start_stations.sort_values('num_trip', ascending=False).head(10)"
   ]
  },
  {
   "cell_type": "markdown",
   "metadata": {},
   "source": [
    "### Average Trip Duration by Station Boxplot\n",
    "\n",
    "Below is a boxplot of average trip duration by station. There are several outliers present within the boxplot, the most prominent having an average trip duration of 49716.3 seconds (828.6 minutes or 13 hours)."
   ]
  },
  {
   "cell_type": "code",
   "execution_count": 19,
   "metadata": {
    "collapsed": false,
    "scrolled": true
   },
   "outputs": [
    {
     "data": {
      "text/plain": [
       "<matplotlib.axes._subplots.AxesSubplot at 0x25556b47390>"
      ]
     },
     "execution_count": 19,
     "metadata": {},
     "output_type": "execute_result"
    },
    {
     "data": {
      "image/png": "[encoded data removed]",
      "text/plain": [
       "<matplotlib.figure.Figure at 0x25556b19cc0>"
      ]
     },
     "metadata": {},
     "output_type": "display_data"
    }
   ],
   "source": [
    "sns.boxplot(y=start_stations[\"avg_trip\"])"
   ]
  },
  {
   "cell_type": "markdown",
   "metadata": {},
   "source": [
    "### Start Stations with Average Trip Duration Above 45 Minutes\n",
    "\n",
    "Since Citibike users are allowed 30-minute or 45-minute rides (depending on pricing plan), average trip durations for Citibike stations are expected to be below these limits. Below is a table of stations with average trip durations above 45 minutes. Surprisingly, there are 41 entries."
   ]
  },
  {
   "cell_type": "code",
   "execution_count": 20,
   "metadata": {
    "collapsed": false
   },
   "outputs": [
    {
     "data": {
      "text/html": [
       "<div>\n",
       "<style scoped>\n",
       "    .dataframe tbody tr th:only-of-type {\n",
       "        vertical-align: middle;\n",
       "    }\n",
       "\n",
       "    .dataframe tbody tr th {\n",
       "        vertical-align: top;\n",
       "    }\n",
       "\n",
       "    .dataframe thead th {\n",
       "        text-align: right;\n",
       "    }\n",
       "</style>\n",
       "<table border=\"1\" class=\"dataframe\">\n",
       "  <thead>\n",
       "    <tr style=\"text-align: right;\">\n",
       "      <th></th>\n",
       "      <th>start_station_id</th>\n",
       "      <th>start_station_name</th>\n",
       "      <th>start_station_latitude</th>\n",
       "      <th>start_station_longitude</th>\n",
       "      <th>num_trip</th>\n",
       "      <th>avg_trip</th>\n",
       "    </tr>\n",
       "  </thead>\n",
       "  <tbody>\n",
       "    <tr>\n",
       "      <th>531</th>\n",
       "      <td>3052</td>\n",
       "      <td>Lewis Ave &amp; Madison St</td>\n",
       "      <td>40.686312</td>\n",
       "      <td>-73.935775</td>\n",
       "      <td>15344</td>\n",
       "      <td>4532.134385</td>\n",
       "    </tr>\n",
       "    <tr>\n",
       "      <th>541</th>\n",
       "      <td>3068</td>\n",
       "      <td>Humboldt St &amp; Varet St</td>\n",
       "      <td>40.703172</td>\n",
       "      <td>-73.940636</td>\n",
       "      <td>14640</td>\n",
       "      <td>5566.343238</td>\n",
       "    </tr>\n",
       "    <tr>\n",
       "      <th>563</th>\n",
       "      <td>3067</td>\n",
       "      <td>Broadway &amp; Whipple St</td>\n",
       "      <td>40.701666</td>\n",
       "      <td>-73.943730</td>\n",
       "      <td>13207</td>\n",
       "      <td>3119.595366</td>\n",
       "    </tr>\n",
       "    <tr>\n",
       "      <th>586</th>\n",
       "      <td>3047</td>\n",
       "      <td>Halsey St &amp; Tompkins Ave</td>\n",
       "      <td>40.682369</td>\n",
       "      <td>-73.944118</td>\n",
       "      <td>12249</td>\n",
       "      <td>5018.287125</td>\n",
       "    </tr>\n",
       "    <tr>\n",
       "      <th>587</th>\n",
       "      <td>3042</td>\n",
       "      <td>Fulton St &amp; Utica Ave</td>\n",
       "      <td>40.679427</td>\n",
       "      <td>-73.929891</td>\n",
       "      <td>12244</td>\n",
       "      <td>9922.021480</td>\n",
       "    </tr>\n",
       "    <tr>\n",
       "      <th>620</th>\n",
       "      <td>3050</td>\n",
       "      <td>Putnam Ave &amp; Throop Ave</td>\n",
       "      <td>40.685153</td>\n",
       "      <td>-73.941110</td>\n",
       "      <td>10704</td>\n",
       "      <td>2776.620235</td>\n",
       "    </tr>\n",
       "    <tr>\n",
       "      <th>626</th>\n",
       "      <td>3058</td>\n",
       "      <td>Lewis Ave &amp; Kosciuszko St</td>\n",
       "      <td>40.692371</td>\n",
       "      <td>-73.937054</td>\n",
       "      <td>10417</td>\n",
       "      <td>5063.008832</td>\n",
       "    </tr>\n",
       "    <tr>\n",
       "      <th>647</th>\n",
       "      <td>3046</td>\n",
       "      <td>Marcus Garvey Blvd &amp; Macon St</td>\n",
       "      <td>40.682601</td>\n",
       "      <td>-73.938037</td>\n",
       "      <td>9215</td>\n",
       "      <td>4459.386869</td>\n",
       "    </tr>\n",
       "    <tr>\n",
       "      <th>656</th>\n",
       "      <td>3048</td>\n",
       "      <td>Putnam Ave &amp; Nostrand Ave</td>\n",
       "      <td>40.684020</td>\n",
       "      <td>-73.949770</td>\n",
       "      <td>8536</td>\n",
       "      <td>2992.974695</td>\n",
       "    </tr>\n",
       "    <tr>\n",
       "      <th>660</th>\n",
       "      <td>3249</td>\n",
       "      <td>Verona Pl &amp; Fulton St</td>\n",
       "      <td>40.680356</td>\n",
       "      <td>-73.947679</td>\n",
       "      <td>8234</td>\n",
       "      <td>6476.092665</td>\n",
       "    </tr>\n",
       "    <tr>\n",
       "      <th>661</th>\n",
       "      <td>3041</td>\n",
       "      <td>Kingston Ave &amp; Herkimer St</td>\n",
       "      <td>40.678907</td>\n",
       "      <td>-73.941428</td>\n",
       "      <td>8188</td>\n",
       "      <td>7026.739619</td>\n",
       "    </tr>\n",
       "    <tr>\n",
       "      <th>670</th>\n",
       "      <td>3065</td>\n",
       "      <td>Union Ave &amp; Wallabout St</td>\n",
       "      <td>40.700295</td>\n",
       "      <td>-73.950323</td>\n",
       "      <td>7663</td>\n",
       "      <td>2744.389534</td>\n",
       "    </tr>\n",
       "    <tr>\n",
       "      <th>690</th>\n",
       "      <td>3043</td>\n",
       "      <td>Lewis Ave &amp; Decatur St</td>\n",
       "      <td>40.681460</td>\n",
       "      <td>-73.934903</td>\n",
       "      <td>6416</td>\n",
       "      <td>3185.233167</td>\n",
       "    </tr>\n",
       "    <tr>\n",
       "      <th>693</th>\n",
       "      <td>3059</td>\n",
       "      <td>Pulaski St &amp; Marcus Garvey Blvd</td>\n",
       "      <td>40.693398</td>\n",
       "      <td>-73.939877</td>\n",
       "      <td>6337</td>\n",
       "      <td>5255.591447</td>\n",
       "    </tr>\n",
       "    <tr>\n",
       "      <th>698</th>\n",
       "      <td>3179</td>\n",
       "      <td>Park Ave &amp; Marcus Garvey Blvd</td>\n",
       "      <td>40.698617</td>\n",
       "      <td>-73.941342</td>\n",
       "      <td>6196</td>\n",
       "      <td>4166.597644</td>\n",
       "    </tr>\n",
       "    <tr>\n",
       "      <th>703</th>\n",
       "      <td>3061</td>\n",
       "      <td>Throop Ave &amp; Myrtle Ave</td>\n",
       "      <td>40.696229</td>\n",
       "      <td>-73.943711</td>\n",
       "      <td>5991</td>\n",
       "      <td>3028.804373</td>\n",
       "    </tr>\n",
       "    <tr>\n",
       "      <th>727</th>\n",
       "      <td>3044</td>\n",
       "      <td>Albany Ave &amp; Fulton St</td>\n",
       "      <td>40.680011</td>\n",
       "      <td>-73.938475</td>\n",
       "      <td>4857</td>\n",
       "      <td>12135.759522</td>\n",
       "    </tr>\n",
       "    <tr>\n",
       "      <th>748</th>\n",
       "      <td>3215</td>\n",
       "      <td>Central Ave</td>\n",
       "      <td>40.746730</td>\n",
       "      <td>-74.049251</td>\n",
       "      <td>3637</td>\n",
       "      <td>5598.595821</td>\n",
       "    </tr>\n",
       "    <tr>\n",
       "      <th>766</th>\n",
       "      <td>3518</td>\n",
       "      <td>Lenox Ave &amp; W 126 St</td>\n",
       "      <td>40.808442</td>\n",
       "      <td>-73.945209</td>\n",
       "      <td>2875</td>\n",
       "      <td>3410.713043</td>\n",
       "    </tr>\n",
       "    <tr>\n",
       "      <th>772</th>\n",
       "      <td>3197</td>\n",
       "      <td>North St</td>\n",
       "      <td>40.752559</td>\n",
       "      <td>-74.044725</td>\n",
       "      <td>2701</td>\n",
       "      <td>9887.974824</td>\n",
       "    </tr>\n",
       "    <tr>\n",
       "      <th>784</th>\n",
       "      <td>3280</td>\n",
       "      <td>Astor Place</td>\n",
       "      <td>40.719282</td>\n",
       "      <td>-74.071262</td>\n",
       "      <td>2324</td>\n",
       "      <td>2937.160929</td>\n",
       "    </tr>\n",
       "    <tr>\n",
       "      <th>787</th>\n",
       "      <td>3529</td>\n",
       "      <td>Lenox Ave &amp; W 130 St</td>\n",
       "      <td>40.810792</td>\n",
       "      <td>-73.943068</td>\n",
       "      <td>2251</td>\n",
       "      <td>4731.434918</td>\n",
       "    </tr>\n",
       "    <tr>\n",
       "      <th>788</th>\n",
       "      <td>3190</td>\n",
       "      <td>Garfield Ave Station</td>\n",
       "      <td>40.710467</td>\n",
       "      <td>-74.070039</td>\n",
       "      <td>2224</td>\n",
       "      <td>5135.181205</td>\n",
       "    </tr>\n",
       "    <tr>\n",
       "      <th>807</th>\n",
       "      <td>3394</td>\n",
       "      <td>Columbia St &amp; W 9 St</td>\n",
       "      <td>40.676999</td>\n",
       "      <td>-74.006471</td>\n",
       "      <td>1640</td>\n",
       "      <td>4024.254268</td>\n",
       "    </tr>\n",
       "    <tr>\n",
       "      <th>810</th>\n",
       "      <td>3562</td>\n",
       "      <td>Classon Ave &amp; St Marks Ave</td>\n",
       "      <td>40.676520</td>\n",
       "      <td>-73.959608</td>\n",
       "      <td>1587</td>\n",
       "      <td>6831.277883</td>\n",
       "    </tr>\n",
       "    <tr>\n",
       "      <th>835</th>\n",
       "      <td>3531</td>\n",
       "      <td>Frederick Douglass Blvd &amp; W 129 St</td>\n",
       "      <td>40.812551</td>\n",
       "      <td>-73.949229</td>\n",
       "      <td>1081</td>\n",
       "      <td>3321.750231</td>\n",
       "    </tr>\n",
       "    <tr>\n",
       "      <th>880</th>\n",
       "      <td>3189</td>\n",
       "      <td>West Side Light Rail</td>\n",
       "      <td>40.714402</td>\n",
       "      <td>-74.088772</td>\n",
       "      <td>688</td>\n",
       "      <td>4642.529070</td>\n",
       "    </tr>\n",
       "    <tr>\n",
       "      <th>893</th>\n",
       "      <td>3527</td>\n",
       "      <td>5 Ave &amp; E 126 St</td>\n",
       "      <td>40.806980</td>\n",
       "      <td>-73.941747</td>\n",
       "      <td>574</td>\n",
       "      <td>4128.027875</td>\n",
       "    </tr>\n",
       "    <tr>\n",
       "      <th>898</th>\n",
       "      <td>3622</td>\n",
       "      <td>E 128 St &amp; Madison Ave</td>\n",
       "      <td>40.807560</td>\n",
       "      <td>-73.939182</td>\n",
       "      <td>543</td>\n",
       "      <td>4526.154696</td>\n",
       "    </tr>\n",
       "    <tr>\n",
       "      <th>899</th>\n",
       "      <td>3200</td>\n",
       "      <td>MLK Light Rail</td>\n",
       "      <td>40.711131</td>\n",
       "      <td>-74.078885</td>\n",
       "      <td>541</td>\n",
       "      <td>4838.153420</td>\n",
       "    </tr>\n",
       "    <tr>\n",
       "      <th>910</th>\n",
       "      <td>3585</td>\n",
       "      <td>Union St &amp; Bedford Ave</td>\n",
       "      <td>40.669178</td>\n",
       "      <td>-73.955416</td>\n",
       "      <td>455</td>\n",
       "      <td>3540.239560</td>\n",
       "    </tr>\n",
       "    <tr>\n",
       "      <th>912</th>\n",
       "      <td>3604</td>\n",
       "      <td>Rogers Ave &amp; Sterling St</td>\n",
       "      <td>40.663062</td>\n",
       "      <td>-73.953875</td>\n",
       "      <td>440</td>\n",
       "      <td>5173.038636</td>\n",
       "    </tr>\n",
       "    <tr>\n",
       "      <th>923</th>\n",
       "      <td>3219</td>\n",
       "      <td>NYCBS Depot - STY</td>\n",
       "      <td>40.729193</td>\n",
       "      <td>-73.976655</td>\n",
       "      <td>323</td>\n",
       "      <td>6930.386997</td>\n",
       "    </tr>\n",
       "    <tr>\n",
       "      <th>930</th>\n",
       "      <td>3594</td>\n",
       "      <td>Montgomery St &amp; Franklin Ave OLD</td>\n",
       "      <td>40.666165</td>\n",
       "      <td>-73.959348</td>\n",
       "      <td>264</td>\n",
       "      <td>3189.534091</td>\n",
       "    </tr>\n",
       "    <tr>\n",
       "      <th>931</th>\n",
       "      <td>3586</td>\n",
       "      <td>34 Ave &amp; 13 St</td>\n",
       "      <td>40.763875</td>\n",
       "      <td>-73.936485</td>\n",
       "      <td>258</td>\n",
       "      <td>10906.751938</td>\n",
       "    </tr>\n",
       "    <tr>\n",
       "      <th>948</th>\n",
       "      <td>3274</td>\n",
       "      <td>Bethune Center</td>\n",
       "      <td>40.704958</td>\n",
       "      <td>-74.085931</td>\n",
       "      <td>90</td>\n",
       "      <td>5280.511111</td>\n",
       "    </tr>\n",
       "    <tr>\n",
       "      <th>962</th>\n",
       "      <td>3040</td>\n",
       "      <td>SSP Tech Workshop</td>\n",
       "      <td>40.646678</td>\n",
       "      <td>-74.016263</td>\n",
       "      <td>18</td>\n",
       "      <td>49716.277778</td>\n",
       "    </tr>\n",
       "    <tr>\n",
       "      <th>963</th>\n",
       "      <td>3017</td>\n",
       "      <td>NYCBS Depot - FAR</td>\n",
       "      <td>40.751483</td>\n",
       "      <td>-73.996764</td>\n",
       "      <td>17</td>\n",
       "      <td>4660.529412</td>\n",
       "    </tr>\n",
       "    <tr>\n",
       "      <th>970</th>\n",
       "      <td>3014</td>\n",
       "      <td>3969.TEMP (Bike The Branches - Central Branch)</td>\n",
       "      <td>40.722852</td>\n",
       "      <td>-73.959114</td>\n",
       "      <td>9</td>\n",
       "      <td>3361.111111</td>\n",
       "    </tr>\n",
       "    <tr>\n",
       "      <th>975</th>\n",
       "      <td>3266</td>\n",
       "      <td>Kiosk in a box Deployment</td>\n",
       "      <td>40.708611</td>\n",
       "      <td>-73.928504</td>\n",
       "      <td>7</td>\n",
       "      <td>5601.000000</td>\n",
       "    </tr>\n",
       "    <tr>\n",
       "      <th>976</th>\n",
       "      <td>3470</td>\n",
       "      <td>Gowanus Tech Station</td>\n",
       "      <td>40.669802</td>\n",
       "      <td>-73.994905</td>\n",
       "      <td>7</td>\n",
       "      <td>9546.428571</td>\n",
       "    </tr>\n",
       "  </tbody>\n",
       "</table>\n",
       "</div>"
      ],
      "text/plain": [
       "     start_station_id                              start_station_name  \\\n",
       "531              3052                          Lewis Ave & Madison St   \n",
       "541              3068                          Humboldt St & Varet St   \n",
       "563              3067                           Broadway & Whipple St   \n",
       "586              3047                        Halsey St & Tompkins Ave   \n",
       "587              3042                           Fulton St & Utica Ave   \n",
       "620              3050                         Putnam Ave & Throop Ave   \n",
       "626              3058                       Lewis Ave & Kosciuszko St   \n",
       "647              3046                   Marcus Garvey Blvd & Macon St   \n",
       "656              3048                       Putnam Ave & Nostrand Ave   \n",
       "660              3249                           Verona Pl & Fulton St   \n",
       "661              3041                      Kingston Ave & Herkimer St   \n",
       "670              3065                        Union Ave & Wallabout St   \n",
       "690              3043                          Lewis Ave & Decatur St   \n",
       "693              3059                 Pulaski St & Marcus Garvey Blvd   \n",
       "698              3179                   Park Ave & Marcus Garvey Blvd   \n",
       "703              3061                         Throop Ave & Myrtle Ave   \n",
       "727              3044                          Albany Ave & Fulton St   \n",
       "748              3215                                     Central Ave   \n",
       "766              3518                            Lenox Ave & W 126 St   \n",
       "772              3197                                        North St   \n",
       "784              3280                                     Astor Place   \n",
       "787              3529                            Lenox Ave & W 130 St   \n",
       "788              3190                            Garfield Ave Station   \n",
       "807              3394                            Columbia St & W 9 St   \n",
       "810              3562                      Classon Ave & St Marks Ave   \n",
       "835              3531              Frederick Douglass Blvd & W 129 St   \n",
       "880              3189                            West Side Light Rail   \n",
       "893              3527                                5 Ave & E 126 St   \n",
       "898              3622                          E 128 St & Madison Ave   \n",
       "899              3200                                  MLK Light Rail   \n",
       "910              3585                          Union St & Bedford Ave   \n",
       "912              3604                        Rogers Ave & Sterling St   \n",
       "923              3219                               NYCBS Depot - STY   \n",
       "930              3594                Montgomery St & Franklin Ave OLD   \n",
       "931              3586                                  34 Ave & 13 St   \n",
       "948              3274                                  Bethune Center   \n",
       "962              3040                               SSP Tech Workshop   \n",
       "963              3017                               NYCBS Depot - FAR   \n",
       "970              3014  3969.TEMP (Bike The Branches - Central Branch)   \n",
       "975              3266                       Kiosk in a box Deployment   \n",
       "976              3470                            Gowanus Tech Station   \n",
       "\n",
       "     start_station_latitude  start_station_longitude  num_trip      avg_trip  \n",
       "531               40.686312               -73.935775     15344   4532.134385  \n",
       "541               40.703172               -73.940636     14640   5566.343238  \n",
       "563               40.701666               -73.943730     13207   3119.595366  \n",
       "586               40.682369               -73.944118     12249   5018.287125  \n",
       "587               40.679427               -73.929891     12244   9922.021480  \n",
       "620               40.685153               -73.941110     10704   2776.620235  \n",
       "626               40.692371               -73.937054     10417   5063.008832  \n",
       "647               40.682601               -73.938037      9215   4459.386869  \n",
       "656               40.684020               -73.949770      8536   2992.974695  \n",
       "660               40.680356               -73.947679      8234   6476.092665  \n",
       "661               40.678907               -73.941428      8188   7026.739619  \n",
       "670               40.700295               -73.950323      7663   2744.389534  \n",
       "690               40.681460               -73.934903      6416   3185.233167  \n",
       "693               40.693398               -73.939877      6337   5255.591447  \n",
       "698               40.698617               -73.941342      6196   4166.597644  \n",
       "703               40.696229               -73.943711      5991   3028.804373  \n",
       "727               40.680011               -73.938475      4857  12135.759522  \n",
       "748               40.746730               -74.049251      3637   5598.595821  \n",
       "766               40.808442               -73.945209      2875   3410.713043  \n",
       "772               40.752559               -74.044725      2701   9887.974824  \n",
       "784               40.719282               -74.071262      2324   2937.160929  \n",
       "787               40.810792               -73.943068      2251   4731.434918  \n",
       "788               40.710467               -74.070039      2224   5135.181205  \n",
       "807               40.676999               -74.006471      1640   4024.254268  \n",
       "810               40.676520               -73.959608      1587   6831.277883  \n",
       "835               40.812551               -73.949229      1081   3321.750231  \n",
       "880               40.714402               -74.088772       688   4642.529070  \n",
       "893               40.806980               -73.941747       574   4128.027875  \n",
       "898               40.807560               -73.939182       543   4526.154696  \n",
       "899               40.711131               -74.078885       541   4838.153420  \n",
       "910               40.669178               -73.955416       455   3540.239560  \n",
       "912               40.663062               -73.953875       440   5173.038636  \n",
       "923               40.729193               -73.976655       323   6930.386997  \n",
       "930               40.666165               -73.959348       264   3189.534091  \n",
       "931               40.763875               -73.936485       258  10906.751938  \n",
       "948               40.704958               -74.085931        90   5280.511111  \n",
       "962               40.646678               -74.016263        18  49716.277778  \n",
       "963               40.751483               -73.996764        17   4660.529412  \n",
       "970               40.722852               -73.959114         9   3361.111111  \n",
       "975               40.708611               -73.928504         7   5601.000000  \n",
       "976               40.669802               -73.994905         7   9546.428571  "
      ]
     },
     "execution_count": 20,
     "metadata": {},
     "output_type": "execute_result"
    }
   ],
   "source": [
    "start_stations.loc[start_stations['avg_trip'] > 2700]"
   ]
  },
  {
   "cell_type": "code",
   "execution_count": 35,
   "metadata": {
    "collapsed": false
   },
   "outputs": [
    {
     "data": {
      "text/plain": [
       "(41, 6)"
      ]
     },
     "execution_count": 35,
     "metadata": {},
     "output_type": "execute_result"
    }
   ],
   "source": [
    "start_stations.loc[start_stations['avg_trip'] > 2700].shape"
   ]
  },
  {
   "cell_type": "markdown",
   "metadata": {},
   "source": [
    "### Average Trip Duration by Station Modified Boxplot\n",
    "\n",
    "We decide to regenerate our boxplot without stations that have average trip durations above an hour. While a significant number of entries are ignored (29 entries) due to this, we are able to visualize a more accurate representation of the average trip durations of the majority of stations. Moreover, this suggests that the tripduration variable of the overall trip data should be investigated (lost Citibikes could potentially be a key factor)."
   ]
  },
  {
   "cell_type": "code",
   "execution_count": 28,
   "metadata": {
    "collapsed": false
   },
   "outputs": [
    {
     "name": "stdout",
     "output_type": "stream",
     "text": [
      "(946, 6)\n"
     ]
    },
    {
     "data": {
      "text/plain": [
       "<matplotlib.axes._subplots.AxesSubplot at 0x25559102da0>"
      ]
     },
     "execution_count": 28,
     "metadata": {},
     "output_type": "execute_result"
    },
    {
     "data": {
      "image/png": "[encoded data removed]",
      "text/plain": [
       "<matplotlib.figure.Figure at 0x25559119f98>"
      ]
     },
     "metadata": {},
     "output_type": "display_data"
    }
   ],
   "source": [
    "start_stations_ignore_outlier = start_stations[start_stations[\"avg_trip\"] < 3600]\n",
    "print(start_stations_ignore_outlier.shape)\n",
    "sns.boxplot(y=start_stations_ignore_outlier[\"avg_trip\"])"
   ]
  },
  {
   "cell_type": "code",
   "execution_count": null,
   "metadata": {
    "collapsed": true
   },
   "outputs": [],
   "source": []
  }
 ],
 "metadata": {
  "kernelspec": {
   "display_name": "Python [Root]",
   "language": "python",
   "name": "Python [Root]"
  },
  "language_info": {
   "codemirror_mode": {
    "name": "ipython",
    "version": 3
   },
   "file_extension": ".py",
   "mimetype": "text/x-python",
   "name": "python",
   "nbconvert_exporter": "python",
   "pygments_lexer": "ipython3",
   "version": "3.5.2"
  }
 },
 "nbformat": 4,
 "nbformat_minor": 0
}
