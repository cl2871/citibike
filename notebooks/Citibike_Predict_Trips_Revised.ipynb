{
 "cells": [
  {
   "cell_type": "markdown",
   "metadata": {},
   "source": [
    "## Citibike Daily Trips Predictions\n",
    "\n",
    "Tutorials Used:\n",
    "[Scikit-Learn Linear Regression](http://scikit-learn.org/stable/auto_examples/linear_model/plot_ols.html),\n",
    "[Digital Ocean Classifier](https://www.digitalocean.com/community/tutorials/how-to-build-a-machine-learning-classifier-in-python-with-scikit-learn)"
   ]
  },
  {
   "cell_type": "markdown",
   "metadata": {},
   "source": [
    "Upgrade scikit-learn, may need to restart kernel."
   ]
  },
  {
   "cell_type": "code",
   "execution_count": 1,
   "metadata": {
    "collapsed": false
   },
   "outputs": [],
   "source": [
    "import pandas as pd\n",
    "import seaborn as sns\n",
    "import matplotlib.pyplot as plt\n",
    "import numpy as np\n",
    "from pandas.io import gbq\n",
    "import os\n",
    "import sklearn\n",
    "%matplotlib inline"
   ]
  },
  {
   "cell_type": "code",
   "execution_count": 2,
   "metadata": {
    "collapsed": true
   },
   "outputs": [],
   "source": [
    "from sklearn import linear_model\n",
    "from sklearn.preprocessing import MinMaxScaler\n",
    "from sklearn.metrics import mean_squared_error, r2_score\n",
    "from sklearn.model_selection import train_test_split"
   ]
  },
  {
   "cell_type": "code",
   "execution_count": 3,
   "metadata": {
    "collapsed": true
   },
   "outputs": [],
   "source": [
    "project_id = os.environ['project_id']"
   ]
  },
  {
   "cell_type": "code",
   "execution_count": 4,
   "metadata": {
    "collapsed": false,
    "scrolled": true
   },
   "outputs": [
    {
     "name": "stdout",
     "output_type": "stream",
     "text": [
      "Requesting query... ok.\n",
      "Job ID: 871b91d8-ba59-45fb-baf9-39df2af712d2\n",
      "Query running...\n",
      "Query done.\n",
      "Cache hit.\n",
      "\n",
      "Retrieving results...\n",
      "Got 1637 rows.\n",
      "\n",
      "Total time taken 1.43 s.\n",
      "Finished at 2018-04-05 22:11:56.\n"
     ]
    },
    {
     "data": {
      "text/html": [
       "<div>\n",
       "<style scoped>\n",
       "    .dataframe tbody tr th:only-of-type {\n",
       "        vertical-align: middle;\n",
       "    }\n",
       "\n",
       "    .dataframe tbody tr th {\n",
       "        vertical-align: top;\n",
       "    }\n",
       "\n",
       "    .dataframe thead th {\n",
       "        text-align: right;\n",
       "    }\n",
       "</style>\n",
       "<table border=\"1\" class=\"dataframe\">\n",
       "  <thead>\n",
       "    <tr style=\"text-align: right;\">\n",
       "      <th></th>\n",
       "      <th>date</th>\n",
       "      <th>day_of_week</th>\n",
       "      <th>month</th>\n",
       "      <th>year</th>\n",
       "      <th>num_trip</th>\n",
       "      <th>avg_trip</th>\n",
       "      <th>temp</th>\n",
       "    </tr>\n",
       "  </thead>\n",
       "  <tbody>\n",
       "    <tr>\n",
       "      <th>0</th>\n",
       "      <td>2013-07-01</td>\n",
       "      <td>2</td>\n",
       "      <td>7</td>\n",
       "      <td>2013</td>\n",
       "      <td>16650</td>\n",
       "      <td>978.599279</td>\n",
       "      <td>75</td>\n",
       "    </tr>\n",
       "    <tr>\n",
       "      <th>1</th>\n",
       "      <td>2013-07-02</td>\n",
       "      <td>3</td>\n",
       "      <td>7</td>\n",
       "      <td>2013</td>\n",
       "      <td>22745</td>\n",
       "      <td>958.129567</td>\n",
       "      <td>76</td>\n",
       "    </tr>\n",
       "    <tr>\n",
       "      <th>2</th>\n",
       "      <td>2013-07-03</td>\n",
       "      <td>4</td>\n",
       "      <td>7</td>\n",
       "      <td>2013</td>\n",
       "      <td>21864</td>\n",
       "      <td>974.328485</td>\n",
       "      <td>78</td>\n",
       "    </tr>\n",
       "    <tr>\n",
       "      <th>3</th>\n",
       "      <td>2013-07-04</td>\n",
       "      <td>5</td>\n",
       "      <td>7</td>\n",
       "      <td>2013</td>\n",
       "      <td>22326</td>\n",
       "      <td>1273.108439</td>\n",
       "      <td>82</td>\n",
       "    </tr>\n",
       "    <tr>\n",
       "      <th>4</th>\n",
       "      <td>2013-07-05</td>\n",
       "      <td>6</td>\n",
       "      <td>7</td>\n",
       "      <td>2013</td>\n",
       "      <td>21842</td>\n",
       "      <td>1082.426609</td>\n",
       "      <td>84</td>\n",
       "    </tr>\n",
       "  </tbody>\n",
       "</table>\n",
       "</div>"
      ],
      "text/plain": [
       "         date  day_of_week  month  year  num_trip     avg_trip  temp\n",
       "0  2013-07-01            2      7  2013     16650   978.599279    75\n",
       "1  2013-07-02            3      7  2013     22745   958.129567    76\n",
       "2  2013-07-03            4      7  2013     21864   974.328485    78\n",
       "3  2013-07-04            5      7  2013     22326  1273.108439    82\n",
       "4  2013-07-05            6      7  2013     21842  1082.426609    84"
      ]
     },
     "execution_count": 4,
     "metadata": {},
     "output_type": "execute_result"
    }
   ],
   "source": [
    "trips_weather_by_date_query=\"\"\"\n",
    "SELECT trips_by_date.trip_date as date, dayofweek(trips_by_date.trip_date) as day_of_week, \n",
    "  month(trips_by_date.trip_date) as month, year(trips_by_date.trip_date) as year,\n",
    "  trips_by_date.num_trip as num_trip, trips_by_date.avg_trip as avg_trip, weather.avg_temperature as temp\n",
    "FROM\n",
    "  (\n",
    "  SELECT CAST(DATE(starttime) AS DATE) AS trip_date, COUNT(tripduration) AS num_trip, AVG(tripduration) AS avg_trip \n",
    "  FROM \n",
    "    [bigquery-public-data:new_york.citibike_trips],\n",
    "    [citibike_tripdata.tripdata_2016_10_to_2017_12],\n",
    "    [citibike_tripdata.tripdata_jc_2015_09_to_2017_12] \n",
    "  GROUP BY trip_date ORDER BY trip_date\n",
    "  ) as trips_by_date\n",
    "JOIN [weather.laguardia_20130701_20171231] as weather\n",
    "ON trips_by_date.trip_date = weather.date\n",
    "\"\"\"\n",
    "\n",
    "trips_weather_by_date = gbq.read_gbq(query=trips_weather_by_date_query,dialect ='legacy', project_id=project_id)\n",
    "trips_weather_by_date.head()"
   ]
  },
  {
   "cell_type": "code",
   "execution_count": 5,
   "metadata": {
    "collapsed": false,
    "scrolled": true
   },
   "outputs": [
    {
     "data": {
      "text/plain": [
       "date            object\n",
       "day_of_week      int32\n",
       "month            int32\n",
       "year             int32\n",
       "num_trip         int32\n",
       "avg_trip       float64\n",
       "temp             int32\n",
       "dtype: object"
      ]
     },
     "execution_count": 5,
     "metadata": {},
     "output_type": "execute_result"
    }
   ],
   "source": [
    "trips_weather_by_date.dtypes"
   ]
  },
  {
   "cell_type": "code",
   "execution_count": 6,
   "metadata": {
    "collapsed": false
   },
   "outputs": [
    {
     "data": {
      "text/html": [
       "<div>\n",
       "<style scoped>\n",
       "    .dataframe tbody tr th:only-of-type {\n",
       "        vertical-align: middle;\n",
       "    }\n",
       "\n",
       "    .dataframe tbody tr th {\n",
       "        vertical-align: top;\n",
       "    }\n",
       "\n",
       "    .dataframe thead th {\n",
       "        text-align: right;\n",
       "    }\n",
       "</style>\n",
       "<table border=\"1\" class=\"dataframe\">\n",
       "  <thead>\n",
       "    <tr style=\"text-align: right;\">\n",
       "      <th></th>\n",
       "      <th>day_of_week</th>\n",
       "      <th>month</th>\n",
       "      <th>year</th>\n",
       "      <th>num_trip</th>\n",
       "      <th>avg_trip</th>\n",
       "      <th>temp</th>\n",
       "    </tr>\n",
       "  </thead>\n",
       "  <tbody>\n",
       "    <tr>\n",
       "      <th>count</th>\n",
       "      <td>1637.000000</td>\n",
       "      <td>1637.000000</td>\n",
       "      <td>1637.000000</td>\n",
       "      <td>1637.000000</td>\n",
       "      <td>1637.000000</td>\n",
       "      <td>1637.000000</td>\n",
       "    </tr>\n",
       "    <tr>\n",
       "      <th>mean</th>\n",
       "      <td>4.001222</td>\n",
       "      <td>6.879658</td>\n",
       "      <td>2015.214417</td>\n",
       "      <td>32902.918143</td>\n",
       "      <td>914.586178</td>\n",
       "      <td>57.227856</td>\n",
       "    </tr>\n",
       "    <tr>\n",
       "      <th>std</th>\n",
       "      <td>2.001527</td>\n",
       "      <td>3.421604</td>\n",
       "      <td>1.315634</td>\n",
       "      <td>16929.400391</td>\n",
       "      <td>210.753427</td>\n",
       "      <td>17.608723</td>\n",
       "    </tr>\n",
       "    <tr>\n",
       "      <th>min</th>\n",
       "      <td>1.000000</td>\n",
       "      <td>1.000000</td>\n",
       "      <td>2013.000000</td>\n",
       "      <td>876.000000</td>\n",
       "      <td>569.723753</td>\n",
       "      <td>8.000000</td>\n",
       "    </tr>\n",
       "    <tr>\n",
       "      <th>25%</th>\n",
       "      <td>2.000000</td>\n",
       "      <td>4.000000</td>\n",
       "      <td>2014.000000</td>\n",
       "      <td>20384.000000</td>\n",
       "      <td>780.936392</td>\n",
       "      <td>44.000000</td>\n",
       "    </tr>\n",
       "    <tr>\n",
       "      <th>50%</th>\n",
       "      <td>4.000000</td>\n",
       "      <td>7.000000</td>\n",
       "      <td>2015.000000</td>\n",
       "      <td>32203.000000</td>\n",
       "      <td>880.166972</td>\n",
       "      <td>59.000000</td>\n",
       "    </tr>\n",
       "    <tr>\n",
       "      <th>75%</th>\n",
       "      <td>6.000000</td>\n",
       "      <td>10.000000</td>\n",
       "      <td>2016.000000</td>\n",
       "      <td>42832.000000</td>\n",
       "      <td>1009.718065</td>\n",
       "      <td>73.000000</td>\n",
       "    </tr>\n",
       "    <tr>\n",
       "      <th>max</th>\n",
       "      <td>7.000000</td>\n",
       "      <td>12.000000</td>\n",
       "      <td>2017.000000</td>\n",
       "      <td>75917.000000</td>\n",
       "      <td>4866.605023</td>\n",
       "      <td>92.000000</td>\n",
       "    </tr>\n",
       "  </tbody>\n",
       "</table>\n",
       "</div>"
      ],
      "text/plain": [
       "       day_of_week        month         year      num_trip     avg_trip  \\\n",
       "count  1637.000000  1637.000000  1637.000000   1637.000000  1637.000000   \n",
       "mean      4.001222     6.879658  2015.214417  32902.918143   914.586178   \n",
       "std       2.001527     3.421604     1.315634  16929.400391   210.753427   \n",
       "min       1.000000     1.000000  2013.000000    876.000000   569.723753   \n",
       "25%       2.000000     4.000000  2014.000000  20384.000000   780.936392   \n",
       "50%       4.000000     7.000000  2015.000000  32203.000000   880.166972   \n",
       "75%       6.000000    10.000000  2016.000000  42832.000000  1009.718065   \n",
       "max       7.000000    12.000000  2017.000000  75917.000000  4866.605023   \n",
       "\n",
       "              temp  \n",
       "count  1637.000000  \n",
       "mean     57.227856  \n",
       "std      17.608723  \n",
       "min       8.000000  \n",
       "25%      44.000000  \n",
       "50%      59.000000  \n",
       "75%      73.000000  \n",
       "max      92.000000  "
      ]
     },
     "execution_count": 6,
     "metadata": {},
     "output_type": "execute_result"
    }
   ],
   "source": [
    "trips_weather_by_date.describe()"
   ]
  },
  {
   "cell_type": "code",
   "execution_count": 7,
   "metadata": {
    "collapsed": false,
    "scrolled": true
   },
   "outputs": [
    {
     "data": {
      "image/png": "[encoded data removed]",
      "text/plain": [
       "<Figure size 600x400 with 1 Axes>"
      ]
     },
     "metadata": {},
     "output_type": "display_data"
    }
   ],
   "source": [
    "# Alias\n",
    "twbd = trips_weather_by_date\n",
    "\n",
    "plt.plot(twbd['date'], twbd['num_trip'], color='blue', linewidth=1)\n",
    "\n",
    "plt.xlabel('Date')\n",
    "plt.ylabel('Trips')\n",
    "\n",
    "plt.show()"
   ]
  },
  {
   "cell_type": "code",
   "execution_count": 8,
   "metadata": {
    "collapsed": false
   },
   "outputs": [
    {
     "data": {
      "image/png": "[encoded data removed]",
      "text/plain": [
       "<Figure size 600x400 with 1 Axes>"
      ]
     },
     "metadata": {},
     "output_type": "display_data"
    }
   ],
   "source": [
    "plt.scatter(twbd['temp'], twbd['num_trip'])\n",
    "\n",
    "plt.xlabel('Temp')\n",
    "plt.ylabel('Trips')\n",
    "\n",
    "plt.show()"
   ]
  },
  {
   "cell_type": "markdown",
   "metadata": {},
   "source": [
    "Cyclical Features\n",
    "\n",
    "References:\n",
    "- [Encoding Cyclical Features](https://ianlondon.github.io/blog/encoding-cyclical-features-24hour-time/)\n",
    "- [Feature Engineering](http://blog.davidkaleko.com/feature-engineering-cyclical-features.html)"
   ]
  },
  {
   "cell_type": "code",
   "execution_count": 9,
   "metadata": {
    "collapsed": false
   },
   "outputs": [],
   "source": [
    "twbd['month_sin'] = np.sin((twbd['month'] - 1) * (2.0 * np.pi/12))\n",
    "twbd['month_cos'] = np.cos((twbd['month'] - 1) * (2.0 * np.pi/12))"
   ]
  },
  {
   "cell_type": "code",
   "execution_count": 10,
   "metadata": {
    "collapsed": false,
    "scrolled": true
   },
   "outputs": [
    {
     "data": {
      "image/png": "[encoded data removed]",
      "text/plain": [
       "<Figure size 600x400 with 1 Axes>"
      ]
     },
     "metadata": {},
     "output_type": "display_data"
    }
   ],
   "source": [
    "twbd.plot.scatter('month_sin','month_cos').set_aspect('equal');"
   ]
  },
  {
   "cell_type": "code",
   "execution_count": 11,
   "metadata": {
    "collapsed": true
   },
   "outputs": [],
   "source": [
    "twbd['day_of_week_sin'] = np.sin((twbd['day_of_week'] - 1) * (2.0 * np.pi/7))\n",
    "twbd['day_of_week_cos'] = np.cos((twbd['day_of_week'] - 1) * (2.0 * np.pi/7))"
   ]
  },
  {
   "cell_type": "code",
   "execution_count": 12,
   "metadata": {
    "collapsed": false,
    "scrolled": false
   },
   "outputs": [
    {
     "data": {
      "image/png": "[encoded data removed]",
      "text/plain": [
       "<Figure size 600x400 with 1 Axes>"
      ]
     },
     "metadata": {},
     "output_type": "display_data"
    }
   ],
   "source": [
    "twbd.plot.scatter('day_of_week_sin','day_of_week_cos').set_aspect('equal');"
   ]
  },
  {
   "cell_type": "markdown",
   "metadata": {},
   "source": [
    "Predict number of trips (label) given the temperature and date features."
   ]
  },
  {
   "cell_type": "code",
   "execution_count": 13,
   "metadata": {
    "collapsed": true
   },
   "outputs": [],
   "source": [
    "# Organize our data\n",
    "labels = twbd['num_trip']\n",
    "features = twbd[['temp', 'year', 'day_of_week_sin', 'day_of_week_cos', 'month_sin', 'month_cos']]"
   ]
  },
  {
   "cell_type": "code",
   "execution_count": 14,
   "metadata": {
    "collapsed": false,
    "scrolled": true
   },
   "outputs": [
    {
     "data": {
      "text/plain": [
       "(1637, 6)"
      ]
     },
     "execution_count": 14,
     "metadata": {},
     "output_type": "execute_result"
    }
   ],
   "source": [
    "features.shape"
   ]
  },
  {
   "cell_type": "code",
   "execution_count": 15,
   "metadata": {
    "collapsed": false
   },
   "outputs": [],
   "source": [
    "train, test, train_labels, test_labels = train_test_split(features, labels, test_size=0.33, random_state=42)"
   ]
  },
  {
   "cell_type": "code",
   "execution_count": 16,
   "metadata": {
    "collapsed": false,
    "scrolled": true
   },
   "outputs": [
    {
     "data": {
      "text/plain": [
       "<matplotlib.axes._subplots.AxesSubplot at 0x1fc11bbb278>"
      ]
     },
     "execution_count": 16,
     "metadata": {},
     "output_type": "execute_result"
    },
    {
     "data": {
      "image/png": "[encoded data removed]",
      "text/plain": [
       "<Figure size 600x400 with 1 Axes>"
      ]
     },
     "metadata": {},
     "output_type": "display_data"
    }
   ],
   "source": [
    "train['temp'].hist()"
   ]
  },
  {
   "cell_type": "markdown",
   "metadata": {},
   "source": [
    "Normalize data into (0,1) range\n",
    "\n",
    "Reference:\n",
    "- [Normalize and Standardize](https://machinelearningmastery.com/normalize-standardize-time-series-data-python/)"
   ]
  },
  {
   "cell_type": "code",
   "execution_count": 17,
   "metadata": {
    "collapsed": false,
    "scrolled": true
   },
   "outputs": [
    {
     "name": "stdout",
     "output_type": "stream",
     "text": [
      "Min: [8.] Max: [91.]\n"
     ]
    },
    {
     "name": "stderr",
     "output_type": "stream",
     "text": [
      "C:\\Users\\Chris\\AppData\\Local\\Continuum\\Anaconda3\\lib\\site-packages\\sklearn\\utils\\validation.py:475: DataConversionWarning: Data with input dtype int32 was converted to float64 by MinMaxScaler.\n",
      "  warnings.warn(msg, DataConversionWarning)\n",
      "C:\\Users\\Chris\\AppData\\Local\\Continuum\\Anaconda3\\lib\\site-packages\\ipykernel\\__main__.py:8: SettingWithCopyWarning: \n",
      "A value is trying to be set on a copy of a slice from a DataFrame.\n",
      "Try using .loc[row_indexer,col_indexer] = value instead\n",
      "\n",
      "See the caveats in the documentation: http://pandas.pydata.org/pandas-docs/stable/indexing.html#indexing-view-versus-copy\n"
     ]
    }
   ],
   "source": [
    "# Training set temperature values to be normalized \n",
    "train_values = train['temp'].values\n",
    "train_values = train_values.reshape((len(train_values), 1))  # reshape values into a column of rows\n",
    "\n",
    "# Normalize the data\n",
    "scaler = MinMaxScaler(feature_range=(0, 1))\n",
    "scaler = scaler.fit(train_values)\n",
    "train['temp_normalized'] = scaler.transform(train_values)\n",
    "\n",
    "print('Min:', scaler.data_min_, 'Max:', scaler.data_max_)"
   ]
  },
  {
   "cell_type": "code",
   "execution_count": 18,
   "metadata": {
    "collapsed": false,
    "scrolled": true
   },
   "outputs": [
    {
     "name": "stderr",
     "output_type": "stream",
     "text": [
      "C:\\Users\\Chris\\AppData\\Local\\Continuum\\Anaconda3\\lib\\site-packages\\ipykernel\\__main__.py:6: SettingWithCopyWarning: \n",
      "A value is trying to be set on a copy of a slice from a DataFrame.\n",
      "Try using .loc[row_indexer,col_indexer] = value instead\n",
      "\n",
      "See the caveats in the documentation: http://pandas.pydata.org/pandas-docs/stable/indexing.html#indexing-view-versus-copy\n"
     ]
    }
   ],
   "source": [
    "# Testing set temperature values to be normalized \n",
    "test_values = test['temp'].values\n",
    "test_values = test_values.reshape((len(test_values), 1))  # reshape values into a column of rows\n",
    "\n",
    "# Apply scaler fitted to training set values to testing values\n",
    "test['temp_normalized'] = scaler.transform(test_values)"
   ]
  },
  {
   "cell_type": "code",
   "execution_count": 19,
   "metadata": {
    "collapsed": false
   },
   "outputs": [
    {
     "data": {
      "text/html": [
       "<div>\n",
       "<style scoped>\n",
       "    .dataframe tbody tr th:only-of-type {\n",
       "        vertical-align: middle;\n",
       "    }\n",
       "\n",
       "    .dataframe tbody tr th {\n",
       "        vertical-align: top;\n",
       "    }\n",
       "\n",
       "    .dataframe thead th {\n",
       "        text-align: right;\n",
       "    }\n",
       "</style>\n",
       "<table border=\"1\" class=\"dataframe\">\n",
       "  <thead>\n",
       "    <tr style=\"text-align: right;\">\n",
       "      <th></th>\n",
       "      <th>year</th>\n",
       "      <th>day_of_week_sin</th>\n",
       "      <th>day_of_week_cos</th>\n",
       "      <th>month_sin</th>\n",
       "      <th>month_cos</th>\n",
       "      <th>temp_normalized</th>\n",
       "    </tr>\n",
       "  </thead>\n",
       "  <tbody>\n",
       "    <tr>\n",
       "      <th>1441</th>\n",
       "      <td>2017</td>\n",
       "      <td>0.781831</td>\n",
       "      <td>0.623490</td>\n",
       "      <td>5.000000e-01</td>\n",
       "      <td>-0.866025</td>\n",
       "      <td>0.843373</td>\n",
       "    </tr>\n",
       "    <tr>\n",
       "      <th>308</th>\n",
       "      <td>2014</td>\n",
       "      <td>0.781831</td>\n",
       "      <td>0.623490</td>\n",
       "      <td>8.660254e-01</td>\n",
       "      <td>-0.500000</td>\n",
       "      <td>0.602410</td>\n",
       "    </tr>\n",
       "    <tr>\n",
       "      <th>430</th>\n",
       "      <td>2014</td>\n",
       "      <td>-0.433884</td>\n",
       "      <td>-0.900969</td>\n",
       "      <td>-8.660254e-01</td>\n",
       "      <td>-0.500000</td>\n",
       "      <td>0.843373</td>\n",
       "    </tr>\n",
       "    <tr>\n",
       "      <th>370</th>\n",
       "      <td>2014</td>\n",
       "      <td>0.000000</td>\n",
       "      <td>1.000000</td>\n",
       "      <td>1.224647e-16</td>\n",
       "      <td>-1.000000</td>\n",
       "      <td>0.843373</td>\n",
       "    </tr>\n",
       "    <tr>\n",
       "      <th>678</th>\n",
       "      <td>2015</td>\n",
       "      <td>0.000000</td>\n",
       "      <td>1.000000</td>\n",
       "      <td>8.660254e-01</td>\n",
       "      <td>-0.500000</td>\n",
       "      <td>0.698795</td>\n",
       "    </tr>\n",
       "  </tbody>\n",
       "</table>\n",
       "</div>"
      ],
      "text/plain": [
       "      year  day_of_week_sin  day_of_week_cos     month_sin  month_cos  \\\n",
       "1441  2017         0.781831         0.623490  5.000000e-01  -0.866025   \n",
       "308   2014         0.781831         0.623490  8.660254e-01  -0.500000   \n",
       "430   2014        -0.433884        -0.900969 -8.660254e-01  -0.500000   \n",
       "370   2014         0.000000         1.000000  1.224647e-16  -1.000000   \n",
       "678   2015         0.000000         1.000000  8.660254e-01  -0.500000   \n",
       "\n",
       "      temp_normalized  \n",
       "1441         0.843373  \n",
       "308          0.602410  \n",
       "430          0.843373  \n",
       "370          0.843373  \n",
       "678          0.698795  "
      ]
     },
     "execution_count": 19,
     "metadata": {},
     "output_type": "execute_result"
    }
   ],
   "source": [
    "train = train.drop(columns=['temp'])\n",
    "train.head()"
   ]
  },
  {
   "cell_type": "code",
   "execution_count": 20,
   "metadata": {
    "collapsed": false
   },
   "outputs": [
    {
     "data": {
      "text/html": [
       "<div>\n",
       "<style scoped>\n",
       "    .dataframe tbody tr th:only-of-type {\n",
       "        vertical-align: middle;\n",
       "    }\n",
       "\n",
       "    .dataframe tbody tr th {\n",
       "        vertical-align: top;\n",
       "    }\n",
       "\n",
       "    .dataframe thead th {\n",
       "        text-align: right;\n",
       "    }\n",
       "</style>\n",
       "<table border=\"1\" class=\"dataframe\">\n",
       "  <thead>\n",
       "    <tr style=\"text-align: right;\">\n",
       "      <th></th>\n",
       "      <th>year</th>\n",
       "      <th>day_of_week_sin</th>\n",
       "      <th>day_of_week_cos</th>\n",
       "      <th>month_sin</th>\n",
       "      <th>month_cos</th>\n",
       "      <th>temp_normalized</th>\n",
       "    </tr>\n",
       "  </thead>\n",
       "  <tbody>\n",
       "    <tr>\n",
       "      <th>677</th>\n",
       "      <td>2015</td>\n",
       "      <td>-0.781831</td>\n",
       "      <td>0.623490</td>\n",
       "      <td>0.866025</td>\n",
       "      <td>-0.500000</td>\n",
       "      <td>0.602410</td>\n",
       "    </tr>\n",
       "    <tr>\n",
       "      <th>1589</th>\n",
       "      <td>2017</td>\n",
       "      <td>0.974928</td>\n",
       "      <td>-0.222521</td>\n",
       "      <td>-0.866025</td>\n",
       "      <td>0.500000</td>\n",
       "      <td>0.421687</td>\n",
       "    </tr>\n",
       "    <tr>\n",
       "      <th>984</th>\n",
       "      <td>2016</td>\n",
       "      <td>0.974928</td>\n",
       "      <td>-0.222521</td>\n",
       "      <td>0.866025</td>\n",
       "      <td>0.500000</td>\n",
       "      <td>0.481928</td>\n",
       "    </tr>\n",
       "    <tr>\n",
       "      <th>607</th>\n",
       "      <td>2015</td>\n",
       "      <td>-0.781831</td>\n",
       "      <td>0.623490</td>\n",
       "      <td>0.500000</td>\n",
       "      <td>0.866025</td>\n",
       "      <td>0.168675</td>\n",
       "    </tr>\n",
       "    <tr>\n",
       "      <th>1392</th>\n",
       "      <td>2017</td>\n",
       "      <td>0.781831</td>\n",
       "      <td>0.623490</td>\n",
       "      <td>0.866025</td>\n",
       "      <td>-0.500000</td>\n",
       "      <td>0.578313</td>\n",
       "    </tr>\n",
       "  </tbody>\n",
       "</table>\n",
       "</div>"
      ],
      "text/plain": [
       "      year  day_of_week_sin  day_of_week_cos  month_sin  month_cos  \\\n",
       "677   2015        -0.781831         0.623490   0.866025  -0.500000   \n",
       "1589  2017         0.974928        -0.222521  -0.866025   0.500000   \n",
       "984   2016         0.974928        -0.222521   0.866025   0.500000   \n",
       "607   2015        -0.781831         0.623490   0.500000   0.866025   \n",
       "1392  2017         0.781831         0.623490   0.866025  -0.500000   \n",
       "\n",
       "      temp_normalized  \n",
       "677          0.602410  \n",
       "1589         0.421687  \n",
       "984          0.481928  \n",
       "607          0.168675  \n",
       "1392         0.578313  "
      ]
     },
     "execution_count": 20,
     "metadata": {},
     "output_type": "execute_result"
    }
   ],
   "source": [
    "test = test.drop(columns=['temp'])\n",
    "test.head()"
   ]
  },
  {
   "cell_type": "code",
   "execution_count": 21,
   "metadata": {
    "collapsed": false
   },
   "outputs": [
    {
     "data": {
      "text/plain": [
       "LinearRegression(copy_X=True, fit_intercept=True, n_jobs=1, normalize=False)"
      ]
     },
     "execution_count": 21,
     "metadata": {},
     "output_type": "execute_result"
    }
   ],
   "source": [
    "# Create linear regression object\n",
    "regr = linear_model.LinearRegression()\n",
    "\n",
    "# Train the model using the training sets\n",
    "regr.fit(train, train_labels)"
   ]
  },
  {
   "cell_type": "code",
   "execution_count": 22,
   "metadata": {
    "collapsed": false
   },
   "outputs": [
    {
     "name": "stdout",
     "output_type": "stream",
     "text": [
      "[24387.36402614 44026.15297673 29524.64320179  5784.55738806\n",
      " 39449.25478812 36033.58276759 46146.2693465  27669.43226267\n",
      " 36314.9296419   9394.13695882 39351.27687291 46372.25968812\n",
      " 31864.32008792 40555.16238144 27196.24205197 28968.39176284\n",
      " 28120.34521494 15102.29987684 43861.35717406 17228.92117471\n",
      " 16542.08450451 33505.28490785 58847.55007602 50610.9398504\n",
      " 21266.34604189 35434.16641316 37655.1837771  41619.36829741\n",
      " 23312.33856795 26370.14164376 49068.24085865 11269.8151741\n",
      " 40052.83068082 31557.03818448 37507.80754026 57518.68135097\n",
      " 43578.27478947 18668.09592281 31896.62740793 27419.31339047\n",
      " 15699.93300514 26593.60333477 20785.52386474 34242.73411933\n",
      " 32549.84764422 56100.90591958 13830.23005498 28952.88749467\n",
      "  5842.66587534 28177.5465169  11304.67998384 58389.67979285\n",
      " 13604.3447116  20181.94797204 54164.33591973 34687.02085942\n",
      " 35738.99538819 33209.64230291 35904.98020593 13389.75981516\n",
      " 51861.61587774 11877.21308926 26156.88553677 35938.82721514\n",
      "  4146.57277953 31294.22478823 43450.02842415 11454.24780469\n",
      " 37185.13666034 49408.11662423 38153.69913735 48057.08313568\n",
      " 40728.77223578 54771.50325959 17820.0493749  18670.28750683\n",
      " 64764.74603986 40000.64093056 34831.17389169 55257.62409183\n",
      " 26845.47117114 37584.90742937 51185.54874573 56524.92919353\n",
      " 15956.24147329 36317.61254754 45673.24618433 30469.42797174\n",
      " 36819.04588421 18375.70012743 54805.35026881 21274.43267444\n",
      " 53720.64883933 11085.96544454 27672.83611207 35942.03383585\n",
      " 11034.0465532  39262.82357124 51375.4950455  42948.54038209\n",
      " 30537.12199017 55643.03563641 28674.86666582 50383.52604063\n",
      " 34890.52244393 40920.91011957 46860.15495805 45495.35271158\n",
      " 11086.26880418 53720.64883933 35126.95080032 44870.61359966\n",
      " 31587.6730508  21240.58566522 41712.26828473 44225.36940192\n",
      " 45568.95526468 34641.1730383  27792.030411   17840.31284104\n",
      " 31261.68137072  9437.65993933 29135.49668908 23577.95618613\n",
      " 38953.71547327 51822.70078873 39296.21347998 29877.46163518\n",
      " 39003.83219745 31310.74133474 40430.55925305 38705.08527979\n",
      " 33263.75277827 45661.33752932 15403.27259967  9238.67408943\n",
      " 32408.90675485 26475.55837255 44850.34461133 36906.66772166\n",
      " 43801.35165016 38002.14468172 25610.99527813 37157.92015627\n",
      " 24032.00444684 18076.96772262 22519.05541694 34414.88955691\n",
      " 10440.72676899 65211.72120779 38670.33525124 21757.1918837\n",
      " 38177.18496626 27545.47324359 10375.94630507 27771.46358522\n",
      " 35607.82398337 21509.14606979 23716.02327293 37165.04921589\n",
      "  4035.26100221 38149.87711489 50734.30896771 11086.26880418\n",
      " 54035.84272286 13206.08181431 41993.39443184 16361.916484\n",
      " 40721.32460998 47376.14151401 27256.79992105 39094.66188483\n",
      " 33212.44652484 18993.49172362 24356.32549962 23611.80319535\n",
      " 32248.74934434 41696.73402637 17629.99255469 31427.36619243\n",
      " 18092.87438956 50134.69432547 22691.27093033 51177.46211318\n",
      " 46734.72486092 50585.38099541 13172.23480509 48091.94794543\n",
      " 33792.95046871 44610.48310905 47135.26230597 50817.26638558\n",
      " 20216.81278179 52892.26609787 32119.92932173 29548.1290307\n",
      " 42945.31801932 42066.34346533 29398.31008534 39557.29136597\n",
      " 45786.11806852 26634.8432644  40031.68371785 11766.29718664\n",
      " 55491.53401747 26631.27236645 36347.71436876 28093.45553662\n",
      " 20586.30743955 39424.03344895 46142.68342152 30858.63456026\n",
      " 30396.17557861 29532.63028472 19768.2858784   8518.64333155\n",
      " 43572.37974093 35888.81433356  9753.89009879 53167.53270882\n",
      " 24713.96386904 23129.84742358 33582.0559638  32742.09604845\n",
      " 22062.47369845 34201.76078787 15730.86101122 38710.98032833\n",
      " 43575.06816877 25244.06874481 38736.0187345  18038.34577337\n",
      " 18645.14402884 38625.09730969 22787.59527229 39334.83542923\n",
      " 32742.09604845 40348.60758945  9145.70505316 15487.71142142\n",
      " 34278.90425241 21929.34732128 15483.88939895 58384.90485282\n",
      " 59295.04895901 33365.35629681 31498.76264866 27198.52438523\n",
      " 39735.90680921 41540.28886883 18070.46279452 48441.17913705\n",
      "  8507.9787916   3247.2199782  30301.48490913 24234.50895956\n",
      " 18684.53736649 36560.88342142 11066.60499774 61819.53501616\n",
      " 35350.91115785 22515.46396977 10670.02880314 21561.11719625\n",
      " 16117.44582879 30968.59288993 20270.92325715 51237.46763707\n",
      " 17668.85111561 36589.13397049 28436.36190122 36236.62121524\n",
      " 55432.41199042 29559.51996304 39300.98842002 33356.06562217\n",
      " 29170.89627556 16321.98921142 49286.64777756 27451.85128577\n",
      " 59034.9184684  29170.89627556 44248.32129589 52776.46742505\n",
      "  8377.93301748 18436.21053265 40629.24174331  7277.84261151\n",
      " 40653.63059155 25082.85886711 23459.71480478 35338.45794315\n",
      " 23257.21029207 39997.83670863 23971.99892295 37107.61965712\n",
      " 39766.94533574 33712.51446236 21744.49183746 61983.72093927\n",
      " 35499.66782085 41604.15534261 37245.14218423 15494.20612965\n",
      " 41007.97663108 59897.45157872 40455.7069918  25008.43166376\n",
      " 25304.0742687  23599.28190242  6624.51730341  2177.95802869\n",
      " 33487.7076136  34156.20154276 31271.88277382 10601.93664669\n",
      " 20678.42998459 17261.26928533  3247.2199782  13905.21243618\n",
      " 17633.98630586 47819.12293077 33059.86231718 25908.66370117\n",
      " 19295.26271624 10605.1432674  24577.31032592 28401.50135223\n",
      " 31034.39765725 26145.31858275 32462.18147302 31388.99056054\n",
      " 50558.71759942 39578.69068268 36584.36925033 36876.07178276\n",
      " 52261.21062509 50951.70234684  8942.66660551 63256.02133642\n",
      " 15120.88944943 58389.67979285 23853.22279709 18571.00813887\n",
      " 28267.35993837 52709.66242565 40475.97045794 30858.81058194\n",
      " 59497.85683137 41146.28505944 29276.32181657 33493.60266213\n",
      " 12206.83700711 49317.47623402 42914.39001324 47819.12293077\n",
      " 37896.05881914 20335.34207611 55008.38871646 39311.88353526\n",
      " 28734.87218971 44828.00811912 14222.13630779 27004.93208468\n",
      " 29826.15538175 41065.17367228 12988.07855561 53595.37800524\n",
      " 34391.93766294 21000.01398281 35772.12042691  8748.89828327\n",
      " 18509.07762912 31282.83385589 49764.44587975 46948.12448888\n",
      " 34362.52807794 40463.27593389  1303.84774448 57965.6565189\n",
      " 36703.01387225 44023.17693132 37398.26542938 45673.24618433\n",
      " 16683.42905408 60745.49812662 53957.3037209  36703.01387225\n",
      " 27753.52324295 26431.69974492 31133.01491053 39220.99500129\n",
      " 38861.75219127 58447.0024111  54149.44705332 32271.82129317\n",
      " 11887.98814965 18054.01582864 53608.07252928 12172.98999789\n",
      " 17458.22320886 39076.53776759 24174.50343567 13832.91296062\n",
      " 15162.30540073 32302.8598197  12117.861722   47793.3625541\n",
      " 43066.58534432 44522.02980739 28528.86974291 53574.22552007\n",
      " 23719.8452954  36515.87605517 59252.44347846 40182.88197714\n",
      " 18839.31741892 42848.88860555 52685.23389904 40149.72868007\n",
      " 37612.98195675 38440.94106021 50157.535699   48484.92843209\n",
      " 26923.41703731 31308.81634888 40016.17518891 20782.31724404\n",
      " 15971.74021926 36478.82242525 41753.93532834 48047.13640023\n",
      " 26705.40825642 25706.70374814 43465.04976329 32494.89815386\n",
      " 56743.87514993 32840.61300115 41047.36996872 58443.79026821\n",
      " 15532.8280789  16992.26629313 51036.51570161 42198.87498997\n",
      " 63481.78110275 45921.46801993 33930.86075906 18447.21616833\n",
      " 18294.36110175 54015.57925673 20780.76466678 19422.87670924\n",
      "  8754.64529159 37491.29099375 36589.12844829 18516.89766352\n",
      " 14255.983317   56670.63480306 33094.72286617 48095.69486505\n",
      " 32088.77074034 37296.23410683 60540.954744   39956.89163551\n",
      " 33108.97272583  6266.6891493  18885.79266158 30378.60380656\n",
      " 34466.92556633 25529.87836877 46368.43766566 33916.74243925\n",
      " 44301.89699452 16800.12296073 30372.6897497  39840.37375055\n",
      " 25591.73982957  5608.7559497  26824.78956417 29552.89375086\n",
      " 41169.23695341 32657.23835994 12567.0327347  15274.27929274\n",
      " 18554.49159236 19223.30408771 31634.39839125 35771.11240934\n",
      " 42043.39157136 44435.02337169 15280.17434127 41977.00666683\n",
      " 45011.32391374 32169.34309001 49333.99278053 33330.49148706\n",
      " 34407.15061773 26156.88553677  8725.67553037 30400.76427708\n",
      " 42304.13194154 58186.87192049  8764.28725975 27402.79684396\n",
      " 19968.51584336 60284.03639628 23133.66944604 22091.44621802\n",
      " 41329.91205438 26479.38039501  3688.70249636 50182.03932844\n",
      " 47619.29110381 26640.73831293  6292.45731146 37214.10365771\n",
      " 23453.28497951 25370.59347693 24355.44200278 13768.13249669\n",
      " 26335.26488253 50348.12645415 49967.58939922 28738.69421217\n",
      " 25984.72457699  7466.05892322 26098.61000095 40653.63059155\n",
      " 52725.16117163 17367.17915844 31277.77782236 56688.811757\n",
      " 39432.86702311 48953.45848396 41650.40682393 31926.60794507\n",
      "   489.64820579 51632.64396851 19971.32984825 38226.95153048\n",
      " 58443.79026821]\n"
     ]
    }
   ],
   "source": [
    "# Make predictions\n",
    "predictions = regr.predict(test)\n",
    "print(predictions)"
   ]
  },
  {
   "cell_type": "code",
   "execution_count": 23,
   "metadata": {
    "collapsed": false
   },
   "outputs": [
    {
     "name": "stdout",
     "output_type": "stream",
     "text": [
      "Coefficients: \n",
      " [ 6788.19440572  1492.36027889 -4648.1673635  -5677.33446156\n",
      " -3964.79992207 35193.93173814]\n",
      "Mean squared error: 78072981.33\n",
      "Variance score: 0.72\n"
     ]
    }
   ],
   "source": [
    "# The coefficients\n",
    "print('Coefficients: \\n', regr.coef_)\n",
    "# The mean squared error\n",
    "print(\"Mean squared error: %.2f\"\n",
    "      % mean_squared_error(test_labels, predictions))\n",
    "# Explained variance score: 1 is perfect prediction\n",
    "print('Variance score: %.2f' % r2_score(test_labels, predictions))"
   ]
  },
  {
   "cell_type": "code",
   "execution_count": 24,
   "metadata": {
    "collapsed": false,
    "scrolled": true
   },
   "outputs": [
    {
     "data": {
      "image/png": "[encoded data removed]",
      "text/plain": [
       "<Figure size 600x400 with 1 Axes>"
      ]
     },
     "metadata": {},
     "output_type": "display_data"
    }
   ],
   "source": [
    "# Plot test_labels against predictions\n",
    "plt.scatter(predictions, test_labels, color='blue')\n",
    "plt.plot([0, 80000], [0, 80000], color='red', linestyle='-', linewidth=1)\n",
    "\n",
    "plt.xlabel('Predictions')\n",
    "plt.ylabel('Trips')\n",
    "\n",
    "plt.xlim(0, 80000)\n",
    "plt.ylim(0, 80000)\n",
    "plt.gca().set_aspect('equal', adjustable='box')\n",
    "\n",
    "plt.show()"
   ]
  },
  {
   "cell_type": "code",
   "execution_count": 25,
   "metadata": {
    "collapsed": false
   },
   "outputs": [
    {
     "data": {
      "text/plain": [
       "(553, 11)"
      ]
     },
     "execution_count": 25,
     "metadata": {},
     "output_type": "execute_result"
    }
   ],
   "source": [
    "test_table = twbd.loc[twbd['num_trip'].isin(test_labels)]\n",
    "test_table.shape"
   ]
  },
  {
   "cell_type": "code",
   "execution_count": 26,
   "metadata": {
    "collapsed": false,
    "scrolled": true
   },
   "outputs": [
    {
     "data": {
      "text/html": [
       "<div>\n",
       "<style scoped>\n",
       "    .dataframe tbody tr th:only-of-type {\n",
       "        vertical-align: middle;\n",
       "    }\n",
       "\n",
       "    .dataframe tbody tr th {\n",
       "        vertical-align: top;\n",
       "    }\n",
       "\n",
       "    .dataframe thead th {\n",
       "        text-align: right;\n",
       "    }\n",
       "</style>\n",
       "<table border=\"1\" class=\"dataframe\">\n",
       "  <thead>\n",
       "    <tr style=\"text-align: right;\">\n",
       "      <th></th>\n",
       "      <th>date</th>\n",
       "      <th>day_of_week</th>\n",
       "      <th>month</th>\n",
       "      <th>year</th>\n",
       "      <th>num_trip</th>\n",
       "      <th>avg_trip</th>\n",
       "      <th>temp</th>\n",
       "      <th>month_sin</th>\n",
       "      <th>month_cos</th>\n",
       "      <th>day_of_week_sin</th>\n",
       "      <th>day_of_week_cos</th>\n",
       "    </tr>\n",
       "  </thead>\n",
       "  <tbody>\n",
       "    <tr>\n",
       "      <th>0</th>\n",
       "      <td>2013-07-01</td>\n",
       "      <td>2</td>\n",
       "      <td>7</td>\n",
       "      <td>2013</td>\n",
       "      <td>16650</td>\n",
       "      <td>978.599279</td>\n",
       "      <td>75</td>\n",
       "      <td>1.224647e-16</td>\n",
       "      <td>-1.0</td>\n",
       "      <td>0.781831</td>\n",
       "      <td>0.623490</td>\n",
       "    </tr>\n",
       "    <tr>\n",
       "      <th>15</th>\n",
       "      <td>2013-07-16</td>\n",
       "      <td>3</td>\n",
       "      <td>7</td>\n",
       "      <td>2013</td>\n",
       "      <td>29842</td>\n",
       "      <td>907.713055</td>\n",
       "      <td>87</td>\n",
       "      <td>1.224647e-16</td>\n",
       "      <td>-1.0</td>\n",
       "      <td>0.974928</td>\n",
       "      <td>-0.222521</td>\n",
       "    </tr>\n",
       "    <tr>\n",
       "      <th>18</th>\n",
       "      <td>2013-07-19</td>\n",
       "      <td>6</td>\n",
       "      <td>7</td>\n",
       "      <td>2013</td>\n",
       "      <td>26591</td>\n",
       "      <td>880.263172</td>\n",
       "      <td>92</td>\n",
       "      <td>1.224647e-16</td>\n",
       "      <td>-1.0</td>\n",
       "      <td>-0.974928</td>\n",
       "      <td>-0.222521</td>\n",
       "    </tr>\n",
       "    <tr>\n",
       "      <th>23</th>\n",
       "      <td>2013-07-24</td>\n",
       "      <td>4</td>\n",
       "      <td>7</td>\n",
       "      <td>2013</td>\n",
       "      <td>35271</td>\n",
       "      <td>935.532165</td>\n",
       "      <td>80</td>\n",
       "      <td>1.224647e-16</td>\n",
       "      <td>-1.0</td>\n",
       "      <td>0.433884</td>\n",
       "      <td>-0.900969</td>\n",
       "    </tr>\n",
       "    <tr>\n",
       "      <th>29</th>\n",
       "      <td>2013-07-30</td>\n",
       "      <td>3</td>\n",
       "      <td>7</td>\n",
       "      <td>2013</td>\n",
       "      <td>37334</td>\n",
       "      <td>949.690791</td>\n",
       "      <td>76</td>\n",
       "      <td>1.224647e-16</td>\n",
       "      <td>-1.0</td>\n",
       "      <td>0.974928</td>\n",
       "      <td>-0.222521</td>\n",
       "    </tr>\n",
       "  </tbody>\n",
       "</table>\n",
       "</div>"
      ],
      "text/plain": [
       "          date  day_of_week  month  year  num_trip    avg_trip  temp  \\\n",
       "0   2013-07-01            2      7  2013     16650  978.599279    75   \n",
       "15  2013-07-16            3      7  2013     29842  907.713055    87   \n",
       "18  2013-07-19            6      7  2013     26591  880.263172    92   \n",
       "23  2013-07-24            4      7  2013     35271  935.532165    80   \n",
       "29  2013-07-30            3      7  2013     37334  949.690791    76   \n",
       "\n",
       "       month_sin  month_cos  day_of_week_sin  day_of_week_cos  \n",
       "0   1.224647e-16       -1.0         0.781831         0.623490  \n",
       "15  1.224647e-16       -1.0         0.974928        -0.222521  \n",
       "18  1.224647e-16       -1.0        -0.974928        -0.222521  \n",
       "23  1.224647e-16       -1.0         0.433884        -0.900969  \n",
       "29  1.224647e-16       -1.0         0.974928        -0.222521  "
      ]
     },
     "execution_count": 26,
     "metadata": {},
     "output_type": "execute_result"
    }
   ],
   "source": [
    "test_table.head()"
   ]
  },
  {
   "cell_type": "code",
   "execution_count": 27,
   "metadata": {
    "collapsed": false,
    "scrolled": true
   },
   "outputs": [
    {
     "data": {
      "text/html": [
       "<div>\n",
       "<style scoped>\n",
       "    .dataframe tbody tr th:only-of-type {\n",
       "        vertical-align: middle;\n",
       "    }\n",
       "\n",
       "    .dataframe tbody tr th {\n",
       "        vertical-align: top;\n",
       "    }\n",
       "\n",
       "    .dataframe thead th {\n",
       "        text-align: right;\n",
       "    }\n",
       "</style>\n",
       "<table border=\"1\" class=\"dataframe\">\n",
       "  <thead>\n",
       "    <tr style=\"text-align: right;\">\n",
       "      <th></th>\n",
       "      <th>date</th>\n",
       "      <th>day_of_week</th>\n",
       "      <th>month</th>\n",
       "      <th>year</th>\n",
       "      <th>num_trip</th>\n",
       "      <th>avg_trip</th>\n",
       "      <th>temp</th>\n",
       "      <th>month_sin</th>\n",
       "      <th>month_cos</th>\n",
       "      <th>day_of_week_sin</th>\n",
       "      <th>day_of_week_cos</th>\n",
       "      <th>predictions</th>\n",
       "    </tr>\n",
       "  </thead>\n",
       "  <tbody>\n",
       "    <tr>\n",
       "      <th>0</th>\n",
       "      <td>2013-07-01</td>\n",
       "      <td>2</td>\n",
       "      <td>7</td>\n",
       "      <td>2013</td>\n",
       "      <td>16650</td>\n",
       "      <td>978.599279</td>\n",
       "      <td>75</td>\n",
       "      <td>1.224647e-16</td>\n",
       "      <td>-1.0</td>\n",
       "      <td>0.781831</td>\n",
       "      <td>0.623490</td>\n",
       "      <td>24387.364026</td>\n",
       "    </tr>\n",
       "    <tr>\n",
       "      <th>15</th>\n",
       "      <td>2013-07-16</td>\n",
       "      <td>3</td>\n",
       "      <td>7</td>\n",
       "      <td>2013</td>\n",
       "      <td>29842</td>\n",
       "      <td>907.713055</td>\n",
       "      <td>87</td>\n",
       "      <td>1.224647e-16</td>\n",
       "      <td>-1.0</td>\n",
       "      <td>0.974928</td>\n",
       "      <td>-0.222521</td>\n",
       "      <td>28968.391763</td>\n",
       "    </tr>\n",
       "    <tr>\n",
       "      <th>18</th>\n",
       "      <td>2013-07-19</td>\n",
       "      <td>6</td>\n",
       "      <td>7</td>\n",
       "      <td>2013</td>\n",
       "      <td>26591</td>\n",
       "      <td>880.263172</td>\n",
       "      <td>92</td>\n",
       "      <td>1.224647e-16</td>\n",
       "      <td>-1.0</td>\n",
       "      <td>-0.974928</td>\n",
       "      <td>-0.222521</td>\n",
       "      <td>43861.357174</td>\n",
       "    </tr>\n",
       "    <tr>\n",
       "      <th>23</th>\n",
       "      <td>2013-07-24</td>\n",
       "      <td>4</td>\n",
       "      <td>7</td>\n",
       "      <td>2013</td>\n",
       "      <td>35271</td>\n",
       "      <td>935.532165</td>\n",
       "      <td>80</td>\n",
       "      <td>1.224647e-16</td>\n",
       "      <td>-1.0</td>\n",
       "      <td>0.433884</td>\n",
       "      <td>-0.900969</td>\n",
       "      <td>50610.939850</td>\n",
       "    </tr>\n",
       "    <tr>\n",
       "      <th>29</th>\n",
       "      <td>2013-07-30</td>\n",
       "      <td>3</td>\n",
       "      <td>7</td>\n",
       "      <td>2013</td>\n",
       "      <td>37334</td>\n",
       "      <td>949.690791</td>\n",
       "      <td>76</td>\n",
       "      <td>1.224647e-16</td>\n",
       "      <td>-1.0</td>\n",
       "      <td>0.974928</td>\n",
       "      <td>-0.222521</td>\n",
       "      <td>26370.141644</td>\n",
       "    </tr>\n",
       "  </tbody>\n",
       "</table>\n",
       "</div>"
      ],
      "text/plain": [
       "          date  day_of_week  month  year  num_trip    avg_trip  temp  \\\n",
       "0   2013-07-01            2      7  2013     16650  978.599279    75   \n",
       "15  2013-07-16            3      7  2013     29842  907.713055    87   \n",
       "18  2013-07-19            6      7  2013     26591  880.263172    92   \n",
       "23  2013-07-24            4      7  2013     35271  935.532165    80   \n",
       "29  2013-07-30            3      7  2013     37334  949.690791    76   \n",
       "\n",
       "       month_sin  month_cos  day_of_week_sin  day_of_week_cos   predictions  \n",
       "0   1.224647e-16       -1.0         0.781831         0.623490  24387.364026  \n",
       "15  1.224647e-16       -1.0         0.974928        -0.222521  28968.391763  \n",
       "18  1.224647e-16       -1.0        -0.974928        -0.222521  43861.357174  \n",
       "23  1.224647e-16       -1.0         0.433884        -0.900969  50610.939850  \n",
       "29  1.224647e-16       -1.0         0.974928        -0.222521  26370.141644  "
      ]
     },
     "execution_count": 27,
     "metadata": {},
     "output_type": "execute_result"
    }
   ],
   "source": [
    "predictions_df = pd.DataFrame(predictions, columns=['predictions'])\n",
    "test_table = test_table.merge(predictions_df, left_index=True, right_index=True)\n",
    "test_table.head()"
   ]
  },
  {
   "cell_type": "markdown",
   "metadata": {},
   "source": [
    "TODO: plotting"
   ]
  },
  {
   "cell_type": "code",
   "execution_count": 29,
   "metadata": {
    "collapsed": false
   },
   "outputs": [
    {
     "data": {
      "image/png": "[encoded data removed]",
      "text/plain": [
       "<Figure size 1200x600 with 1 Axes>"
      ]
     },
     "metadata": {},
     "output_type": "display_data"
    }
   ],
   "source": [
    "plt.figure(figsize=(12,6))\n",
    "\n",
    "plt.plot(test_table['date'], test_table['num_trip'], color='darkblue', linewidth=1)\n",
    "plt.plot(test_table['date'], test_table['predictions'], color='darkviolet', linewidth=1)\n",
    "\n",
    "plt.xlabel('Date')\n",
    "plt.ylabel('Trips')\n",
    "\n",
    "plt.show()"
   ]
  },
  {
   "cell_type": "code",
   "execution_count": 30,
   "metadata": {
    "collapsed": false
   },
   "outputs": [
    {
     "data": {
      "text/html": [
       "<div>\n",
       "<style scoped>\n",
       "    .dataframe tbody tr th:only-of-type {\n",
       "        vertical-align: middle;\n",
       "    }\n",
       "\n",
       "    .dataframe tbody tr th {\n",
       "        vertical-align: top;\n",
       "    }\n",
       "\n",
       "    .dataframe thead th {\n",
       "        text-align: right;\n",
       "    }\n",
       "</style>\n",
       "<table border=\"1\" class=\"dataframe\">\n",
       "  <thead>\n",
       "    <tr style=\"text-align: right;\">\n",
       "      <th></th>\n",
       "      <th>date</th>\n",
       "      <th>day_of_week</th>\n",
       "      <th>month</th>\n",
       "      <th>year</th>\n",
       "      <th>num_trip</th>\n",
       "      <th>avg_trip</th>\n",
       "      <th>temp</th>\n",
       "      <th>month_sin</th>\n",
       "      <th>month_cos</th>\n",
       "      <th>day_of_week_sin</th>\n",
       "      <th>day_of_week_cos</th>\n",
       "      <th>predictions</th>\n",
       "    </tr>\n",
       "  </thead>\n",
       "  <tbody>\n",
       "    <tr>\n",
       "      <th>530</th>\n",
       "      <td>2014-12-13</td>\n",
       "      <td>7</td>\n",
       "      <td>12</td>\n",
       "      <td>2014</td>\n",
       "      <td>12549</td>\n",
       "      <td>1015.938481</td>\n",
       "      <td>37</td>\n",
       "      <td>-0.5</td>\n",
       "      <td>0.866025</td>\n",
       "      <td>-0.781831</td>\n",
       "      <td>0.623490</td>\n",
       "      <td>31277.777822</td>\n",
       "    </tr>\n",
       "    <tr>\n",
       "      <th>532</th>\n",
       "      <td>2014-12-15</td>\n",
       "      <td>2</td>\n",
       "      <td>12</td>\n",
       "      <td>2014</td>\n",
       "      <td>19382</td>\n",
       "      <td>719.601589</td>\n",
       "      <td>42</td>\n",
       "      <td>-0.5</td>\n",
       "      <td>0.866025</td>\n",
       "      <td>0.781831</td>\n",
       "      <td>0.623490</td>\n",
       "      <td>39432.867023</td>\n",
       "    </tr>\n",
       "    <tr>\n",
       "      <th>534</th>\n",
       "      <td>2014-12-17</td>\n",
       "      <td>4</td>\n",
       "      <td>12</td>\n",
       "      <td>2014</td>\n",
       "      <td>20346</td>\n",
       "      <td>701.391133</td>\n",
       "      <td>47</td>\n",
       "      <td>-0.5</td>\n",
       "      <td>0.866025</td>\n",
       "      <td>0.433884</td>\n",
       "      <td>-0.900969</td>\n",
       "      <td>41650.406824</td>\n",
       "    </tr>\n",
       "    <tr>\n",
       "      <th>535</th>\n",
       "      <td>2014-12-18</td>\n",
       "      <td>5</td>\n",
       "      <td>12</td>\n",
       "      <td>2014</td>\n",
       "      <td>19051</td>\n",
       "      <td>674.668206</td>\n",
       "      <td>41</td>\n",
       "      <td>-0.5</td>\n",
       "      <td>0.866025</td>\n",
       "      <td>-0.433884</td>\n",
       "      <td>-0.900969</td>\n",
       "      <td>31926.607945</td>\n",
       "    </tr>\n",
       "    <tr>\n",
       "      <th>538</th>\n",
       "      <td>2014-12-21</td>\n",
       "      <td>1</td>\n",
       "      <td>12</td>\n",
       "      <td>2014</td>\n",
       "      <td>8747</td>\n",
       "      <td>745.802561</td>\n",
       "      <td>33</td>\n",
       "      <td>-0.5</td>\n",
       "      <td>0.866025</td>\n",
       "      <td>0.000000</td>\n",
       "      <td>1.000000</td>\n",
       "      <td>19971.329848</td>\n",
       "    </tr>\n",
       "  </tbody>\n",
       "</table>\n",
       "</div>"
      ],
      "text/plain": [
       "           date  day_of_week  month  year  num_trip     avg_trip  temp  \\\n",
       "530  2014-12-13            7     12  2014     12549  1015.938481    37   \n",
       "532  2014-12-15            2     12  2014     19382   719.601589    42   \n",
       "534  2014-12-17            4     12  2014     20346   701.391133    47   \n",
       "535  2014-12-18            5     12  2014     19051   674.668206    41   \n",
       "538  2014-12-21            1     12  2014      8747   745.802561    33   \n",
       "\n",
       "     month_sin  month_cos  day_of_week_sin  day_of_week_cos   predictions  \n",
       "530       -0.5   0.866025        -0.781831         0.623490  31277.777822  \n",
       "532       -0.5   0.866025         0.781831         0.623490  39432.867023  \n",
       "534       -0.5   0.866025         0.433884        -0.900969  41650.406824  \n",
       "535       -0.5   0.866025        -0.433884        -0.900969  31926.607945  \n",
       "538       -0.5   0.866025         0.000000         1.000000  19971.329848  "
      ]
     },
     "execution_count": 30,
     "metadata": {},
     "output_type": "execute_result"
    }
   ],
   "source": [
    "test_table.tail()"
   ]
  },
  {
   "cell_type": "code",
   "execution_count": null,
   "metadata": {
    "collapsed": true
   },
   "outputs": [],
   "source": []
  }
 ],
 "metadata": {
  "anaconda-cloud": {},
  "kernelspec": {
   "display_name": "Python [Root]",
   "language": "python",
   "name": "Python [Root]"
  },
  "language_info": {
   "codemirror_mode": {
    "name": "ipython",
    "version": 3
   },
   "file_extension": ".py",
   "mimetype": "text/x-python",
   "name": "python",
   "nbconvert_exporter": "python",
   "pygments_lexer": "ipython3",
   "version": "3.5.2"
  }
 },
 "nbformat": 4,
 "nbformat_minor": 2
}
