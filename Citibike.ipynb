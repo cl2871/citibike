{
 "cells": [
  {
   "cell_type": "markdown",
   "metadata": {},
   "source": [
    "### Install and Import Libraries"
   ]
  },
  {
   "cell_type": "code",
   "execution_count": 1,
   "metadata": {},
   "outputs": [
    {
     "name": "stdout",
     "output_type": "stream",
     "text": [
      "Requirement already up-to-date: pandas in /opt/conda/lib/python3.6/site-packages\n",
      "Requirement already up-to-date: python-dateutil>=2 in /opt/conda/lib/python3.6/site-packages (from pandas)\n",
      "Requirement already up-to-date: numpy>=1.9.0 in /opt/conda/lib/python3.6/site-packages (from pandas)\n",
      "Requirement already up-to-date: pytz>=2011k in /opt/conda/lib/python3.6/site-packages (from pandas)\n",
      "Requirement already up-to-date: six>=1.5 in /opt/conda/lib/python3.6/site-packages (from python-dateutil>=2->pandas)\n",
      "Requirement already up-to-date: google-api-python-client in /opt/conda/lib/python3.6/site-packages\n",
      "Requirement already up-to-date: six<2dev,>=1.6.1 in /opt/conda/lib/python3.6/site-packages (from google-api-python-client)\n",
      "Requirement already up-to-date: httplib2<1dev,>=0.9.2 in /opt/conda/lib/python3.6/site-packages (from google-api-python-client)\n",
      "Requirement already up-to-date: uritemplate<4dev,>=3.0.0 in /opt/conda/lib/python3.6/site-packages (from google-api-python-client)\n",
      "Requirement already up-to-date: oauth2client<5.0.0dev,>=1.5.0 in /opt/conda/lib/python3.6/site-packages (from google-api-python-client)\n",
      "Requirement already up-to-date: pyasn1>=0.1.7 in /opt/conda/lib/python3.6/site-packages (from oauth2client<5.0.0dev,>=1.5.0->google-api-python-client)\n",
      "Requirement already up-to-date: pyasn1-modules>=0.0.5 in /opt/conda/lib/python3.6/site-packages (from oauth2client<5.0.0dev,>=1.5.0->google-api-python-client)\n",
      "Requirement already up-to-date: rsa>=3.1.4 in /opt/conda/lib/python3.6/site-packages (from oauth2client<5.0.0dev,>=1.5.0->google-api-python-client)\n",
      "Requirement already up-to-date: seaborn in /opt/conda/lib/python3.6/site-packages\n",
      "Requirement already up-to-date: matplotlib in /opt/conda/lib/python3.6/site-packages (from seaborn)\n",
      "Requirement already up-to-date: scipy in /opt/conda/lib/python3.6/site-packages (from seaborn)\n",
      "Requirement already up-to-date: pytz in /opt/conda/lib/python3.6/site-packages (from matplotlib->seaborn)\n",
      "Requirement already up-to-date: cycler>=0.10 in /opt/conda/lib/python3.6/site-packages (from matplotlib->seaborn)\n",
      "Requirement already up-to-date: numpy>=1.7.1 in /opt/conda/lib/python3.6/site-packages (from matplotlib->seaborn)\n",
      "Requirement already up-to-date: six>=1.10 in /opt/conda/lib/python3.6/site-packages (from matplotlib->seaborn)\n",
      "Requirement already up-to-date: pyparsing!=2.0.4,!=2.1.2,!=2.1.6,>=2.0.1 in /opt/conda/lib/python3.6/site-packages (from matplotlib->seaborn)\n",
      "Requirement already up-to-date: kiwisolver>=1.0.1 in /opt/conda/lib/python3.6/site-packages (from matplotlib->seaborn)\n",
      "Requirement already up-to-date: python-dateutil>=2.1 in /opt/conda/lib/python3.6/site-packages (from matplotlib->seaborn)\n",
      "Requirement already up-to-date: setuptools in /opt/conda/lib/python3.6/site-packages (from kiwisolver>=1.0.1->matplotlib->seaborn)\n",
      "Requirement already up-to-date: pandas-gbq in /opt/conda/lib/python3.6/site-packages\n",
      "Requirement already up-to-date: google-auth>=1.0.0 in /opt/conda/lib/python3.6/site-packages (from pandas-gbq)\n",
      "Requirement already up-to-date: google-cloud-bigquery>=0.29.0 in /opt/conda/lib/python3.6/site-packages (from pandas-gbq)\n",
      "Requirement already up-to-date: google-auth-oauthlib>=0.0.1 in /opt/conda/lib/python3.6/site-packages (from pandas-gbq)\n",
      "Requirement already up-to-date: pandas in /opt/conda/lib/python3.6/site-packages (from pandas-gbq)\n",
      "Requirement already up-to-date: cachetools>=2.0.0 in /opt/conda/lib/python3.6/site-packages (from google-auth>=1.0.0->pandas-gbq)\n",
      "Requirement already up-to-date: six>=1.9.0 in /opt/conda/lib/python3.6/site-packages (from google-auth>=1.0.0->pandas-gbq)\n",
      "Requirement already up-to-date: pyasn1-modules>=0.2.1 in /opt/conda/lib/python3.6/site-packages (from google-auth>=1.0.0->pandas-gbq)\n",
      "Requirement already up-to-date: rsa>=3.1.4 in /opt/conda/lib/python3.6/site-packages (from google-auth>=1.0.0->pandas-gbq)\n",
      "Requirement already up-to-date: google-api-core<2.0.0dev,>=1.0.0 in /opt/conda/lib/python3.6/site-packages (from google-cloud-bigquery>=0.29.0->pandas-gbq)\n",
      "Requirement already up-to-date: google-resumable-media>=0.2.1 in /opt/conda/lib/python3.6/site-packages (from google-cloud-bigquery>=0.29.0->pandas-gbq)\n",
      "Requirement already up-to-date: google-cloud-core<0.29dev,>=0.28.0 in /opt/conda/lib/python3.6/site-packages (from google-cloud-bigquery>=0.29.0->pandas-gbq)\n",
      "Requirement already up-to-date: requests-oauthlib>=0.7.0 in /opt/conda/lib/python3.6/site-packages (from google-auth-oauthlib>=0.0.1->pandas-gbq)\n",
      "Requirement already up-to-date: python-dateutil>=2 in /opt/conda/lib/python3.6/site-packages (from pandas->pandas-gbq)\n",
      "Requirement already up-to-date: numpy>=1.9.0 in /opt/conda/lib/python3.6/site-packages (from pandas->pandas-gbq)\n",
      "Requirement already up-to-date: pytz>=2011k in /opt/conda/lib/python3.6/site-packages (from pandas->pandas-gbq)\n",
      "Requirement already up-to-date: pyasn1<0.5.0,>=0.4.1 in /opt/conda/lib/python3.6/site-packages (from pyasn1-modules>=0.2.1->google-auth>=1.0.0->pandas-gbq)\n",
      "Requirement already up-to-date: protobuf>=3.0.0 in /opt/conda/lib/python3.6/site-packages (from google-api-core<2.0.0dev,>=1.0.0->google-cloud-bigquery>=0.29.0->pandas-gbq)\n",
      "Requirement already up-to-date: setuptools>=34.0.0 in /opt/conda/lib/python3.6/site-packages (from google-api-core<2.0.0dev,>=1.0.0->google-cloud-bigquery>=0.29.0->pandas-gbq)\n",
      "Requirement already up-to-date: googleapis-common-protos<2.0dev,>=1.5.3 in /opt/conda/lib/python3.6/site-packages (from google-api-core<2.0.0dev,>=1.0.0->google-cloud-bigquery>=0.29.0->pandas-gbq)\n",
      "Requirement already up-to-date: requests<3.0.0dev,>=2.18.0 in /opt/conda/lib/python3.6/site-packages (from google-api-core<2.0.0dev,>=1.0.0->google-cloud-bigquery>=0.29.0->pandas-gbq)\n",
      "Requirement already up-to-date: oauthlib>=0.6.2 in /opt/conda/lib/python3.6/site-packages (from requests-oauthlib>=0.7.0->google-auth-oauthlib>=0.0.1->pandas-gbq)\n",
      "Requirement already up-to-date: chardet<3.1.0,>=3.0.2 in /opt/conda/lib/python3.6/site-packages (from requests<3.0.0dev,>=2.18.0->google-api-core<2.0.0dev,>=1.0.0->google-cloud-bigquery>=0.29.0->pandas-gbq)\n",
      "Requirement already up-to-date: idna<2.7,>=2.5 in /opt/conda/lib/python3.6/site-packages (from requests<3.0.0dev,>=2.18.0->google-api-core<2.0.0dev,>=1.0.0->google-cloud-bigquery>=0.29.0->pandas-gbq)\n",
      "Requirement already up-to-date: urllib3<1.23,>=1.21.1 in /opt/conda/lib/python3.6/site-packages (from requests<3.0.0dev,>=2.18.0->google-api-core<2.0.0dev,>=1.0.0->google-cloud-bigquery>=0.29.0->pandas-gbq)\n",
      "Requirement already up-to-date: certifi>=2017.4.17 in /opt/conda/lib/python3.6/site-packages (from requests<3.0.0dev,>=2.18.0->google-api-core<2.0.0dev,>=1.0.0->google-cloud-bigquery>=0.29.0->pandas-gbq)\n"
     ]
    }
   ],
   "source": [
    "!pip install --upgrade pandas\n",
    "!pip install --upgrade google-api-python-client\n",
    "!pip install --upgrade seaborn\n",
    "!pip install pandas-gbq -U"
   ]
  },
  {
   "cell_type": "code",
   "execution_count": 3,
   "metadata": {},
   "outputs": [],
   "source": [
    "import pandas as pd\n",
    "import seaborn as sns\n",
    "import matplotlib.pyplot as plt\n",
    "import numpy as np\n",
    "from pandas.io import gbq\n",
    "import os"
   ]
  },
  {
   "cell_type": "code",
   "execution_count": 5,
   "metadata": {},
   "outputs": [],
   "source": [
    "project_id=\"large-scale-183617\""
   ]
  },
  {
   "cell_type": "code",
   "execution_count": 6,
   "metadata": {
    "scrolled": false
   },
   "outputs": [
    {
     "name": "stdout",
     "output_type": "stream",
     "text": [
      "Requesting query... ok.\n",
      "Job ID: 09e990ce-b4cd-46d9-922c-ad19fa1644e8\n",
      "Query running...\n",
      "Query done.\n",
      "Processed: 821.9 MB Billed: 822.0 MB\n",
      "Standard price: $0.00 USD\n",
      "\n",
      "Retrieving results...\n",
      "Got 54 rows.\n",
      "\n",
      "Total time taken 2.98 s.\n",
      "Finished at 2018-03-10 22:17:47.\n"
     ]
    },
    {
     "data": {
      "text/html": [
       "<div>\n",
       "<style scoped>\n",
       "    .dataframe tbody tr th:only-of-type {\n",
       "        vertical-align: middle;\n",
       "    }\n",
       "\n",
       "    .dataframe tbody tr th {\n",
       "        vertical-align: top;\n",
       "    }\n",
       "\n",
       "    .dataframe thead th {\n",
       "        text-align: right;\n",
       "    }\n",
       "</style>\n",
       "<table border=\"1\" class=\"dataframe\">\n",
       "  <thead>\n",
       "    <tr style=\"text-align: right;\">\n",
       "      <th></th>\n",
       "      <th>trip_month</th>\n",
       "      <th>trip_year</th>\n",
       "      <th>num_trips</th>\n",
       "      <th>trip_avg</th>\n",
       "    </tr>\n",
       "  </thead>\n",
       "  <tbody>\n",
       "    <tr>\n",
       "      <th>0</th>\n",
       "      <td>7</td>\n",
       "      <td>2013</td>\n",
       "      <td>843416</td>\n",
       "      <td>998.100704</td>\n",
       "    </tr>\n",
       "    <tr>\n",
       "      <th>1</th>\n",
       "      <td>8</td>\n",
       "      <td>2013</td>\n",
       "      <td>1001958</td>\n",
       "      <td>979.580227</td>\n",
       "    </tr>\n",
       "    <tr>\n",
       "      <th>2</th>\n",
       "      <td>9</td>\n",
       "      <td>2013</td>\n",
       "      <td>1034359</td>\n",
       "      <td>905.020577</td>\n",
       "    </tr>\n",
       "    <tr>\n",
       "      <th>3</th>\n",
       "      <td>10</td>\n",
       "      <td>2013</td>\n",
       "      <td>1037712</td>\n",
       "      <td>825.614754</td>\n",
       "    </tr>\n",
       "    <tr>\n",
       "      <th>4</th>\n",
       "      <td>11</td>\n",
       "      <td>2013</td>\n",
       "      <td>675774</td>\n",
       "      <td>771.283866</td>\n",
       "    </tr>\n",
       "  </tbody>\n",
       "</table>\n",
       "</div>"
      ],
      "text/plain": [
       "   trip_month  trip_year  num_trips    trip_avg\n",
       "0           7       2013     843416  998.100704\n",
       "1           8       2013    1001958  979.580227\n",
       "2           9       2013    1034359  905.020577\n",
       "3          10       2013    1037712  825.614754\n",
       "4          11       2013     675774  771.283866"
      ]
     },
     "execution_count": 6,
     "metadata": {},
     "output_type": "execute_result"
    }
   ],
   "source": [
    "rawDataQuery=\"\"\"\n",
    "SELECT MONTH(starttime) as trip_month, YEAR(starttime) as trip_year, COUNT(tripduration) as num_trips, AVG(tripduration) as trip_avg \n",
    "FROM \n",
    "  [bigquery-public-data:new_york.citibike_trips],\n",
    "  [citibike_tripdata.tripdata_2016_10_to_2017_12],\n",
    "  [citibike_tripdata.tripdata_jc_2015_09_to_2017_12] \n",
    "GROUP BY trip_month, trip_year ORDER BY trip_year, trip_month\n",
    "\"\"\"\n",
    "\n",
    "trips_by_month_year = gbq.read_gbq(query=rawDataQuery,dialect ='legacy', project_id=project_id)\n",
    "trips_by_month_year.head()"
   ]
  },
  {
   "cell_type": "markdown",
   "metadata": {},
   "source": [
    "Create a Spark DataFrame from the query data."
   ]
  },
  {
   "cell_type": "code",
   "execution_count": 7,
   "metadata": {},
   "outputs": [],
   "source": [
    "sdf_month_year = spark.createDataFrame(trips_by_month_year,[\"trip_month\",\"trip_year\",\"num_trips\",\"trip_avg\"])"
   ]
  },
  {
   "cell_type": "code",
   "execution_count": 8,
   "metadata": {},
   "outputs": [
    {
     "ename": "TypeError",
     "evalue": "'Column' object is not callable",
     "output_type": "error",
     "traceback": [
      "\u001b[0;31m---------------------------------------------------------------------------\u001b[0m",
      "\u001b[0;31mTypeError\u001b[0m                                 Traceback (most recent call last)",
      "\u001b[0;32m<ipython-input-8-72520274ec1d>\u001b[0m in \u001b[0;36m<module>\u001b[0;34m()\u001b[0m\n\u001b[0;32m----> 1\u001b[0;31m \u001b[0msdf_month_year\u001b[0m\u001b[0;34m[\u001b[0m\u001b[0;34m'trip_month_year'\u001b[0m\u001b[0;34m]\u001b[0m \u001b[0;34m=\u001b[0m \u001b[0msdf_month_year\u001b[0m\u001b[0;34m[\u001b[0m\u001b[0;34m\"trip_month\"\u001b[0m\u001b[0;34m]\u001b[0m\u001b[0;34m.\u001b[0m\u001b[0mmap\u001b[0m\u001b[0;34m(\u001b[0m\u001b[0mstr\u001b[0m\u001b[0;34m)\u001b[0m \u001b[0;34m+\u001b[0m \u001b[0msdf_month_year\u001b[0m\u001b[0;34m[\u001b[0m\u001b[0;34m\"trip_year\"\u001b[0m\u001b[0;34m]\u001b[0m\u001b[0;34m.\u001b[0m\u001b[0mmap\u001b[0m\u001b[0;34m(\u001b[0m\u001b[0mstr\u001b[0m\u001b[0;34m)\u001b[0m\u001b[0;34m\u001b[0m\u001b[0m\n\u001b[0m",
      "\u001b[0;31mTypeError\u001b[0m: 'Column' object is not callable"
     ]
    }
   ],
   "source": [
    "sdf_month_year['trip_month_year'] = sdf_month_year[\"trip_month\"].map(str) + sdf_month_year[\"trip_year\"].map(str)"
   ]
  },
  {
   "cell_type": "markdown",
   "metadata": {},
   "source": [
    "Pandas Dataframe"
   ]
  },
  {
   "cell_type": "code",
   "execution_count": 11,
   "metadata": {},
   "outputs": [
    {
     "data": {
      "text/plain": [
       "pandas.core.frame.DataFrame"
      ]
     },
     "execution_count": 11,
     "metadata": {},
     "output_type": "execute_result"
    }
   ],
   "source": [
    "type(trips_by_month_year)"
   ]
  },
  {
   "cell_type": "code",
   "execution_count": 19,
   "metadata": {},
   "outputs": [],
   "source": [
    "func = lambda x: str(x).zfill(2)\n",
    "trips_by_month_year['trip_year_month'] = trips_by_month_year[\"trip_year\"].map(str) + trips_by_month_year[\"trip_month\"].map(func)"
   ]
  },
  {
   "cell_type": "code",
   "execution_count": 22,
   "metadata": {},
   "outputs": [
    {
     "data": {
      "text/html": [
       "<div>\n",
       "<style scoped>\n",
       "    .dataframe tbody tr th:only-of-type {\n",
       "        vertical-align: middle;\n",
       "    }\n",
       "\n",
       "    .dataframe tbody tr th {\n",
       "        vertical-align: top;\n",
       "    }\n",
       "\n",
       "    .dataframe thead th {\n",
       "        text-align: right;\n",
       "    }\n",
       "</style>\n",
       "<table border=\"1\" class=\"dataframe\">\n",
       "  <thead>\n",
       "    <tr style=\"text-align: right;\">\n",
       "      <th></th>\n",
       "      <th>trip_month</th>\n",
       "      <th>trip_year</th>\n",
       "      <th>num_trips</th>\n",
       "      <th>trip_avg</th>\n",
       "      <th>trip_year_month</th>\n",
       "    </tr>\n",
       "  </thead>\n",
       "  <tbody>\n",
       "    <tr>\n",
       "      <th>0</th>\n",
       "      <td>7</td>\n",
       "      <td>2013</td>\n",
       "      <td>843416</td>\n",
       "      <td>998.100704</td>\n",
       "      <td>201307</td>\n",
       "    </tr>\n",
       "    <tr>\n",
       "      <th>1</th>\n",
       "      <td>8</td>\n",
       "      <td>2013</td>\n",
       "      <td>1001958</td>\n",
       "      <td>979.580227</td>\n",
       "      <td>201308</td>\n",
       "    </tr>\n",
       "    <tr>\n",
       "      <th>2</th>\n",
       "      <td>9</td>\n",
       "      <td>2013</td>\n",
       "      <td>1034359</td>\n",
       "      <td>905.020577</td>\n",
       "      <td>201309</td>\n",
       "    </tr>\n",
       "    <tr>\n",
       "      <th>3</th>\n",
       "      <td>10</td>\n",
       "      <td>2013</td>\n",
       "      <td>1037712</td>\n",
       "      <td>825.614754</td>\n",
       "      <td>201310</td>\n",
       "    </tr>\n",
       "    <tr>\n",
       "      <th>4</th>\n",
       "      <td>11</td>\n",
       "      <td>2013</td>\n",
       "      <td>675774</td>\n",
       "      <td>771.283866</td>\n",
       "      <td>201311</td>\n",
       "    </tr>\n",
       "    <tr>\n",
       "      <th>5</th>\n",
       "      <td>12</td>\n",
       "      <td>2013</td>\n",
       "      <td>443966</td>\n",
       "      <td>751.873889</td>\n",
       "      <td>201312</td>\n",
       "    </tr>\n",
       "    <tr>\n",
       "      <th>6</th>\n",
       "      <td>1</td>\n",
       "      <td>2014</td>\n",
       "      <td>300400</td>\n",
       "      <td>733.968945</td>\n",
       "      <td>201401</td>\n",
       "    </tr>\n",
       "    <tr>\n",
       "      <th>7</th>\n",
       "      <td>2</td>\n",
       "      <td>2014</td>\n",
       "      <td>224736</td>\n",
       "      <td>874.519810</td>\n",
       "      <td>201402</td>\n",
       "    </tr>\n",
       "    <tr>\n",
       "      <th>8</th>\n",
       "      <td>3</td>\n",
       "      <td>2014</td>\n",
       "      <td>439117</td>\n",
       "      <td>715.556549</td>\n",
       "      <td>201403</td>\n",
       "    </tr>\n",
       "    <tr>\n",
       "      <th>9</th>\n",
       "      <td>4</td>\n",
       "      <td>2014</td>\n",
       "      <td>670780</td>\n",
       "      <td>831.708272</td>\n",
       "      <td>201404</td>\n",
       "    </tr>\n",
       "  </tbody>\n",
       "</table>\n",
       "</div>"
      ],
      "text/plain": [
       "   trip_month  trip_year  num_trips    trip_avg trip_year_month\n",
       "0           7       2013     843416  998.100704          201307\n",
       "1           8       2013    1001958  979.580227          201308\n",
       "2           9       2013    1034359  905.020577          201309\n",
       "3          10       2013    1037712  825.614754          201310\n",
       "4          11       2013     675774  771.283866          201311\n",
       "5          12       2013     443966  751.873889          201312\n",
       "6           1       2014     300400  733.968945          201401\n",
       "7           2       2014     224736  874.519810          201402\n",
       "8           3       2014     439117  715.556549          201403\n",
       "9           4       2014     670780  831.708272          201404"
      ]
     },
     "execution_count": 22,
     "metadata": {},
     "output_type": "execute_result"
    }
   ],
   "source": [
    "trips_by_month_year.head(10)"
   ]
  },
  {
   "cell_type": "code",
   "execution_count": 21,
   "metadata": {},
   "outputs": [],
   "source": [
    "trips_by_month_year = trips_by_month_year.drop(columns=['trip_month_year'])"
   ]
  },
  {
   "cell_type": "code",
   "execution_count": 25,
   "metadata": {},
   "outputs": [
    {
     "data": {
      "text/plain": [
       "<matplotlib.axes._subplots.AxesSubplot at 0x7fb04b4f8d30>"
      ]
     },
     "execution_count": 25,
     "metadata": {},
     "output_type": "execute_result"
    },
    {
     "data": {
      "image/png": "[encoded data removed]",
      "text/plain": [
       "<Figure size 432x288 with 1 Axes>"
      ]
     },
     "metadata": {},
     "output_type": "display_data"
    }
   ],
   "source": [
    "trips_by_month_year.plot(x='trip_year_month', y='num_trips', kind='bar')"
   ]
  },
  {
   "cell_type": "code",
   "execution_count": 26,
   "metadata": {},
   "outputs": [
    {
     "data": {
      "text/plain": [
       "<matplotlib.axes._subplots.AxesSubplot at 0x7fb04b4f0eb8>"
      ]
     },
     "execution_count": 26,
     "metadata": {},
     "output_type": "execute_result"
    },
    {
     "data": {
      "image/png": "[encoded data removed]",
      "text/plain": [
       "<Figure size 432x288 with 1 Axes>"
      ]
     },
     "metadata": {},
     "output_type": "display_data"
    }
   ],
   "source": [
    "trips_by_month_year.plot(x='trip_year_month', y='trip_avg', kind='bar')"
   ]
  },
  {
   "cell_type": "code",
   "execution_count": 27,
   "metadata": {},
   "outputs": [
    {
     "name": "stdout",
     "output_type": "stream",
     "text": [
      "Requesting query... ok.\n",
      "Job ID: 060526c8-0148-44c8-a845-228ee1817642\n",
      "Query running...\n",
      "Query done.\n",
      "Processed: 821.9 MB Billed: 822.0 MB\n",
      "Standard price: $0.00 USD\n",
      "\n",
      "Retrieving results...\n",
      "Got 24 rows.\n",
      "\n",
      "Total time taken 2.8 s.\n",
      "Finished at 2018-03-10 22:59:23.\n"
     ]
    },
    {
     "data": {
      "text/html": [
       "<div>\n",
       "<style scoped>\n",
       "    .dataframe tbody tr th:only-of-type {\n",
       "        vertical-align: middle;\n",
       "    }\n",
       "\n",
       "    .dataframe tbody tr th {\n",
       "        vertical-align: top;\n",
       "    }\n",
       "\n",
       "    .dataframe thead th {\n",
       "        text-align: right;\n",
       "    }\n",
       "</style>\n",
       "<table border=\"1\" class=\"dataframe\">\n",
       "  <thead>\n",
       "    <tr style=\"text-align: right;\">\n",
       "      <th></th>\n",
       "      <th>hour</th>\n",
       "      <th>num_trips</th>\n",
       "      <th>avg_trip</th>\n",
       "    </tr>\n",
       "  </thead>\n",
       "  <tbody>\n",
       "    <tr>\n",
       "      <th>0</th>\n",
       "      <td>0</td>\n",
       "      <td>503260</td>\n",
       "      <td>971.179259</td>\n",
       "    </tr>\n",
       "    <tr>\n",
       "      <th>1</th>\n",
       "      <td>1</td>\n",
       "      <td>279703</td>\n",
       "      <td>1052.176498</td>\n",
       "    </tr>\n",
       "    <tr>\n",
       "      <th>2</th>\n",
       "      <td>2</td>\n",
       "      <td>163781</td>\n",
       "      <td>1080.449997</td>\n",
       "    </tr>\n",
       "    <tr>\n",
       "      <th>3</th>\n",
       "      <td>3</td>\n",
       "      <td>100823</td>\n",
       "      <td>1065.565536</td>\n",
       "    </tr>\n",
       "    <tr>\n",
       "      <th>4</th>\n",
       "      <td>4</td>\n",
       "      <td>96266</td>\n",
       "      <td>1229.489020</td>\n",
       "    </tr>\n",
       "  </tbody>\n",
       "</table>\n",
       "</div>"
      ],
      "text/plain": [
       "   hour  num_trips     avg_trip\n",
       "0     0     503260   971.179259\n",
       "1     1     279703  1052.176498\n",
       "2     2     163781  1080.449997\n",
       "3     3     100823  1065.565536\n",
       "4     4      96266  1229.489020"
      ]
     },
     "execution_count": 27,
     "metadata": {},
     "output_type": "execute_result"
    }
   ],
   "source": [
    "trips_by_hour_query=\"\"\"\n",
    "SELECT hour(starttime) as hour, count(tripduration) as num_trips, avg(tripduration) as avg_trip  \n",
    "FROM \n",
    "  [bigquery-public-data:new_york.citibike_trips],\n",
    "  [citibike_tripdata.tripdata_2016_10_to_2017_12],\n",
    "  [citibike_tripdata.tripdata_jc_2015_09_to_2017_12] \n",
    "GROUP BY hour ORDER BY hour\n",
    "\"\"\"\n",
    "\n",
    "trips_by_hour = gbq.read_gbq(query=trips_by_hour_query,dialect ='legacy', project_id=project_id)\n",
    "trips_by_hour.head()"
   ]
  },
  {
   "cell_type": "code",
   "execution_count": 28,
   "metadata": {},
   "outputs": [
    {
     "data": {
      "text/plain": [
       "<matplotlib.axes._subplots.AxesSubplot at 0x7fb047e88358>"
      ]
     },
     "execution_count": 28,
     "metadata": {},
     "output_type": "execute_result"
    },
    {
     "data": {
      "image/png": "[encoded data removed]",
      "text/plain": [
       "<Figure size 432x288 with 1 Axes>"
      ]
     },
     "metadata": {},
     "output_type": "display_data"
    }
   ],
   "source": [
    "trips_by_hour.plot(x='hour', y='num_trips', kind='bar')"
   ]
  },
  {
   "cell_type": "code",
   "execution_count": 29,
   "metadata": {},
   "outputs": [
    {
     "data": {
      "text/plain": [
       "<matplotlib.axes._subplots.AxesSubplot at 0x7fb047ed6470>"
      ]
     },
     "execution_count": 29,
     "metadata": {},
     "output_type": "execute_result"
    },
    {
     "data": {
      "image/png": "[encoded data removed]",
      "text/plain": [
       "<Figure size 432x288 with 1 Axes>"
      ]
     },
     "metadata": {},
     "output_type": "display_data"
    }
   ],
   "source": [
    "trips_by_hour.plot(x='hour', y='avg_trip', kind='bar')"
   ]
  },
  {
   "cell_type": "code",
   "execution_count": null,
   "metadata": {},
   "outputs": [],
   "source": []
  }
 ],
 "metadata": {
  "kernelspec": {
   "display_name": "PySpark",
   "language": "python",
   "name": "pyspark"
  },
  "language_info": {
   "codemirror_mode": {
    "name": "ipython",
    "version": 3
   },
   "file_extension": ".py",
   "mimetype": "text/x-python",
   "name": "python",
   "nbconvert_exporter": "python",
   "pygments_lexer": "ipython3",
   "version": "3.6.4"
  }
 },
 "nbformat": 4,
 "nbformat_minor": 2
}